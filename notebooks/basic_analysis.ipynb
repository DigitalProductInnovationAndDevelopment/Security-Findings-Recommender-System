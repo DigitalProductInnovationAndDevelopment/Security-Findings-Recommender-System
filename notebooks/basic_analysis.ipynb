{
 "cells": [
  {
   "metadata": {
    "ExecuteTime": {
     "end_time": "2024-05-03T07:50:41.227929Z",
     "start_time": "2024-05-03T07:50:41.217391Z"
    }
   },
   "cell_type": "code",
   "source": [
    "%load_ext autoreload\n",
    "%autoreload 2"
   ],
   "id": "98db1beb9306c24d",
   "outputs": [],
   "execution_count": 1
  },
  {
   "metadata": {
    "ExecuteTime": {
     "end_time": "2024-05-03T07:50:42.467307Z",
     "start_time": "2024-05-03T07:50:41.842581Z"
    }
   },
   "cell_type": "code",
   "source": [
    "import json\n",
    "import pandas as pd"
   ],
   "id": "f86cc783bee84ebe",
   "outputs": [],
   "execution_count": 2
  },
  {
   "metadata": {
    "ExecuteTime": {
     "end_time": "2024-05-03T07:50:42.477268Z",
     "start_time": "2024-05-03T07:50:42.468359Z"
    }
   },
   "cell_type": "code",
   "source": "from utils.print_utils import print_json_tree",
   "id": "e9cf1a2b7f664d0f",
   "outputs": [],
   "execution_count": 3
  },
  {
   "cell_type": "code",
   "id": "initial_id",
   "metadata": {
    "collapsed": true,
    "ExecuteTime": {
     "end_time": "2024-05-03T07:55:41.578638Z",
     "start_time": "2024-05-03T07:55:41.562545Z"
    }
   },
   "source": [
    "# load the data at ../data/Dataset.json\n",
    "with open('../data/Dataset.json') as f:\n",
    "    data = json.load(f)\n",
    "\n",
    "# print tree of first 2 levels\n",
    "print(f'Data tree for first 2 levels:')\n",
    "print_json_tree(data, max_depth=2)"
   ],
   "outputs": [
    {
     "name": "stdout",
     "output_type": "stream",
     "text": [
      "Data tree for first 2 levels:\n",
      "- status\n",
      "- message\n",
      "  - version\n",
      "  - utc_age\n",
      "  - content\n"
     ]
    }
   ],
   "execution_count": 13
  },
  {
   "metadata": {
    "ExecuteTime": {
     "end_time": "2024-05-03T07:57:07.743216Z",
     "start_time": "2024-05-03T07:57:07.727692Z"
    }
   },
   "cell_type": "code",
   "source": [
    "dataset = pd.DataFrame(data['message']['content'])\n",
    "dataset.info()"
   ],
   "id": "f4be8a71796a45be",
   "outputs": [
    {
     "name": "stdout",
     "output_type": "stream",
     "text": [
      "<class 'pandas.core.frame.DataFrame'>\n",
      "RangeIndex: 285 entries, 0 to 284\n",
      "Data columns (total 26 columns):\n",
      " #   Column                      Non-Null Count  Dtype \n",
      "---  ------                      --------------  ----- \n",
      " 0   doc_type                    285 non-null    object\n",
      " 1   criticality_tag             285 non-null    object\n",
      " 2   knowledge_type              285 non-null    object\n",
      " 3   requirement_list            285 non-null    object\n",
      " 4   title_list                  285 non-null    object\n",
      " 5   location_list               285 non-null    object\n",
      " 6   description_list            281 non-null    object\n",
      " 7   internal_rating_list        284 non-null    object\n",
      " 8   internal_ratingsource_list  285 non-null    object\n",
      " 9   cvss_rating_list            229 non-null    object\n",
      " 10  rule_list                   285 non-null    object\n",
      " 11  cwe_id_list                 195 non-null    object\n",
      " 12  cve_id_list                 253 non-null    object\n",
      " 13  activity_list               285 non-null    object\n",
      " 14  first_found                 285 non-null    object\n",
      " 15  last_found                  285 non-null    object\n",
      " 16  report_amount               285 non-null    int64 \n",
      " 17  content_hash                285 non-null    object\n",
      " 18  severity                    285 non-null    int64 \n",
      " 19  severity_explanation        285 non-null    object\n",
      " 20  priority                    285 non-null    int64 \n",
      " 21  priority_explanation        285 non-null    object\n",
      " 22  sum_id                      285 non-null    object\n",
      " 23  prio_id                     285 non-null    object\n",
      " 24  element_tag                 285 non-null    object\n",
      " 25  certainty_list              31 non-null     object\n",
      "dtypes: int64(3), object(23)\n",
      "memory usage: 58.0+ KB\n"
     ]
    }
   ],
   "execution_count": 16
  },
  {
   "metadata": {
    "ExecuteTime": {
     "end_time": "2024-05-03T07:59:16.798752Z",
     "start_time": "2024-05-03T07:59:16.784091Z"
    }
   },
   "cell_type": "code",
   "source": "dataset.iloc[0]",
   "id": "98e2d66d023bf23b",
   "outputs": [
    {
     "data": {
      "text/plain": [
       "doc_type                                                                summary\n",
       "criticality_tag                                               [unrestricted, 0]\n",
       "knowledge_type                                                          derived\n",
       "requirement_list                                         [zFJvGo8BtW9hkJoz7Vo0]\n",
       "title_list                    [{'element': 'use-after-free caused by do_subm...\n",
       "location_list                 [{'location': '{'file': 'linux-libc-dev', 'res...\n",
       "description_list              [{'element': 'A use-after-free vulnerability w...\n",
       "internal_rating_list                 [{'element': 'MEDIUM', 'source': 'Trivy'}]\n",
       "internal_ratingsource_list              [{'element': 'nvd', 'source': 'Trivy'}]\n",
       "cvss_rating_list              [{'element': '[{'score': 5.5, 'version': 'V3',...\n",
       "rule_list                     [{'element': 'CVE-2023-4132', 'source': 'Trivy'}]\n",
       "cwe_id_list                       [{'element': ['CWE-416'], 'source': 'Trivy'}]\n",
       "cve_id_list                   [{'element': 'CVE-2023-4132', 'source': 'Trivy'}]\n",
       "activity_list                 [{'element': '{'Summary': ['2023-08-24T14:18:3...\n",
       "first_found                                           2023-08-24T08:32:33+00:00\n",
       "last_found                                            2023-08-25T15:48:01+00:00\n",
       "report_amount                                                                 4\n",
       "content_hash                  0002af4ee64c22e86c2a19cbe44b7f001d3f0b872e0300...\n",
       "severity                                                                     60\n",
       "severity_explanation          Utilized Trivy internal score from Trivy for m...\n",
       "priority                                                                     60\n",
       "priority_explanation          Priority equals Severity, as no policies are a...\n",
       "sum_id                                                     DFN6Go8BtW9hkJozYKyD\n",
       "prio_id                                                    3lN6Go8BtW9hkJozj7bf\n",
       "element_tag                                                         Disappeared\n",
       "certainty_list                                                              NaN\n",
       "Name: 0, dtype: object"
      ]
     },
     "execution_count": 18,
     "metadata": {},
     "output_type": "execute_result"
    }
   ],
   "execution_count": 18
  },
  {
   "metadata": {},
   "cell_type": "code",
   "outputs": [],
   "execution_count": null,
   "source": "",
   "id": "97cd9b459e75725"
  }
 ],
 "metadata": {
  "kernelspec": {
   "display_name": "Python 3",
   "language": "python",
   "name": "python3"
  },
  "language_info": {
   "codemirror_mode": {
    "name": "ipython",
    "version": 2
   },
   "file_extension": ".py",
   "mimetype": "text/x-python",
   "name": "python",
   "nbconvert_exporter": "python",
   "pygments_lexer": "ipython2",
   "version": "2.7.6"
  }
 },
 "nbformat": 4,
 "nbformat_minor": 5
}
