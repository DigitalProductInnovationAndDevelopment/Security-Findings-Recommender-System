{
 "cells": [
  {
   "cell_type": "code",
   "execution_count": 107,
   "id": "98db1beb9306c24d",
   "metadata": {
    "ExecuteTime": {
     "end_time": "2024-05-03T07:50:41.227929Z",
     "start_time": "2024-05-03T07:50:41.217391Z"
    }
   },
   "outputs": [],
   "source": [
    "%load_ext autoreload\n",
    "%autoreload 2"
   ]
  },
  {
   "cell_type": "code",
   "execution_count": 133,
   "id": "f86cc783bee84ebe",
   "metadata": {
    "ExecuteTime": {
     "end_time": "2024-05-03T07:50:42.467307Z",
     "start_time": "2024-05-03T07:50:41.842581Z"
    }
   },
   "outputs": [],
   "source": [
    "import json\n",
    "import pandas as pd"
   ]
  },
  {
   "cell_type": "code",
   "execution_count": 134,
   "id": "e9cf1a2b7f664d0f",
   "metadata": {
    "ExecuteTime": {
     "end_time": "2024-05-03T07:50:42.477268Z",
     "start_time": "2024-05-03T07:50:42.468359Z"
    }
   },
   "outputs": [],
   "source": [
    "import sys\n",
    "sys.path.append('../utils')\n",
    "\n",
    "from print_utils import print_json_tree"
   ]
  },
  {
   "cell_type": "code",
   "execution_count": 135,
   "id": "initial_id",
   "metadata": {
    "ExecuteTime": {
     "end_time": "2024-05-03T07:55:41.578638Z",
     "start_time": "2024-05-03T07:55:41.562545Z"
    },
    "collapsed": true
   },
   "outputs": [
    {
     "name": "stdout",
     "output_type": "stream",
     "text": [
      "Data tree for first 2 levels:\n",
      "- status\n",
      "- message\n",
      "  - version\n",
      "  - utc_age\n",
      "  - content\n"
     ]
    }
   ],
   "source": [
    "# load the data at ../data/Dataset.json\n",
    "with open('../data/Dataset.json') as f:\n",
    "    data = json.load(f)\n",
    "\n",
    "# print tree of first 2 levels\n",
    "print(f'Data tree for first 2 levels:')\n",
    "print_json_tree(data, max_depth=2)"
   ]
  },
  {
   "cell_type": "code",
   "execution_count": 136,
   "id": "f4be8a71796a45be",
   "metadata": {
    "ExecuteTime": {
     "end_time": "2024-05-03T07:57:07.743216Z",
     "start_time": "2024-05-03T07:57:07.727692Z"
    }
   },
   "outputs": [
    {
     "name": "stdout",
     "output_type": "stream",
     "text": [
      "<class 'pandas.core.frame.DataFrame'>\n",
      "RangeIndex: 285 entries, 0 to 284\n",
      "Data columns (total 26 columns):\n",
      " #   Column                      Non-Null Count  Dtype \n",
      "---  ------                      --------------  ----- \n",
      " 0   doc_type                    285 non-null    object\n",
      " 1   criticality_tag             285 non-null    object\n",
      " 2   knowledge_type              285 non-null    object\n",
      " 3   requirement_list            285 non-null    object\n",
      " 4   title_list                  285 non-null    object\n",
      " 5   location_list               285 non-null    object\n",
      " 6   description_list            281 non-null    object\n",
      " 7   internal_rating_list        284 non-null    object\n",
      " 8   internal_ratingsource_list  285 non-null    object\n",
      " 9   cvss_rating_list            229 non-null    object\n",
      " 10  rule_list                   285 non-null    object\n",
      " 11  cwe_id_list                 195 non-null    object\n",
      " 12  cve_id_list                 253 non-null    object\n",
      " 13  activity_list               285 non-null    object\n",
      " 14  first_found                 285 non-null    object\n",
      " 15  last_found                  285 non-null    object\n",
      " 16  report_amount               285 non-null    int64 \n",
      " 17  content_hash                285 non-null    object\n",
      " 18  severity                    285 non-null    int64 \n",
      " 19  severity_explanation        285 non-null    object\n",
      " 20  priority                    285 non-null    int64 \n",
      " 21  priority_explanation        285 non-null    object\n",
      " 22  sum_id                      285 non-null    object\n",
      " 23  prio_id                     285 non-null    object\n",
      " 24  element_tag                 285 non-null    object\n",
      " 25  certainty_list              31 non-null     object\n",
      "dtypes: int64(3), object(23)\n",
      "memory usage: 58.0+ KB\n"
     ]
    }
   ],
   "source": [
    "dataset = pd.DataFrame(data['message']['content'])\n",
    "dataset.info()"
   ]
  },
  {
   "cell_type": "code",
   "execution_count": 137,
   "id": "98e2d66d023bf23b",
   "metadata": {
    "ExecuteTime": {
     "end_time": "2024-05-03T07:59:16.798752Z",
     "start_time": "2024-05-03T07:59:16.784091Z"
    }
   },
   "outputs": [
    {
     "data": {
      "text/plain": [
       "doc_type                                                                                                                                                                                                                                                                                                                                                                                                                                summary\n",
       "criticality_tag                                                                                                                                                                                                                                                                                                                                                                                                               [unrestricted, 0]\n",
       "knowledge_type                                                                                                                                                                                                                                                                                                                                                                                                                          derived\n",
       "requirement_list                                                                                                                                                                                                                                                                                                                                                                                                         [zFJvGo8BtW9hkJoz7Vo0]\n",
       "title_list                                                                                                                                                                                                                                                                                                                                                         [{'element': 'use-after-free caused by do_submit_urb()', 'source': 'Trivy'}]\n",
       "location_list                 [{'location': '{'file': 'linux-libc-dev', 'ressource': '6.1.38-4', 'line': '', 'column': ''}', 'amount': 1, 'source': 'Trivy', 'last_found': '2023-08-25T15:48:01+00:00', 'first_found': '2023-08-24T08:32:33+00:00', 'tags': [{'action': 'Open', 'user_mail': 'Default System', 'action_reason': 'No action provided', 'created_at': '0001-01-01T00:00:00+00:00', 'valid_until': '0001-01-01T00:00:00+00:00'}]}]\n",
       "description_list                                                                                                                        [{'element': 'A use-after-free vulnerability was found in the siano smsusb module in the Linux kernel. The bug occurs during device initialization when the siano device is plugged in. This flaw allows a local user to crash the system, causing a denial of service condition.', 'source': 'Trivy'}]\n",
       "internal_rating_list                                                                                                                                                                                                                                                                                                                                                                                 [{'element': 'MEDIUM', 'source': 'Trivy'}]\n",
       "internal_ratingsource_list                                                                                                                                                                                                                                                                                                                                                                              [{'element': 'nvd', 'source': 'Trivy'}]\n",
       "cvss_rating_list                                                                                                                                              [{'element': '[{'score': 5.5, 'version': 'V3', 'vector': 'CVSS:3.1/AV:L/AC:L/PR:L/UI:N/S:U/C:N/I:N/A:H', 'other': {'from': 'nvd'}}, {'score': 5.5, 'version': 'V3', 'vector': 'CVSS:3.1/AV:L/AC:L/PR:L/UI:N/S:U/C:N/I:N/A:H', 'other': {'from': 'redhat'}}]', 'source': 'Trivy'}]\n",
       "rule_list                                                                                                                                                                                                                                                                                                                                                                                     [{'element': 'CVE-2023-4132', 'source': 'Trivy'}]\n",
       "cwe_id_list                                                                                                                                                                                                                                                                                                                                                                                       [{'element': ['CWE-416'], 'source': 'Trivy'}]\n",
       "cve_id_list                                                                                                                                                                                                                                                                                                                                                                                   [{'element': 'CVE-2023-4132', 'source': 'Trivy'}]\n",
       "activity_list                                                                                                                             [{'element': '{'Summary': ['2023-08-24T14:18:33+00:00', '2023-08-25T15:48:01+00:00', '2023-08-24T08:32:33+00:00', '2023-08-24T15:48:17+00:00'], '0.31.2': ['2023-08-24T14:18:33+00:00', '2023-08-25T15:48:01+00:00', '2023-08-24T08:32:33+00:00', '2023-08-24T15:48:17+00:00']}', 'source': 'Trivy'}]\n",
       "first_found                                                                                                                                                                                                                                                                                                                                                                                                           2023-08-24T08:32:33+00:00\n",
       "last_found                                                                                                                                                                                                                                                                                                                                                                                                            2023-08-25T15:48:01+00:00\n",
       "report_amount                                                                                                                                                                                                                                                                                                                                                                                                                                 4\n",
       "content_hash                                                                                                                                                                                                                                                                                                                                                                   0002af4ee64c22e86c2a19cbe44b7f001d3f0b872e0300b8dd89ba36ae852a5e\n",
       "severity                                                                                                                                                                                                                                                                                                                                                                                                                                     60\n",
       "severity_explanation                                                                                                                                                                                                                                                                                                                                                                       Utilized Trivy internal score from Trivy for mapping\n",
       "priority                                                                                                                                                                                                                                                                                                                                                                                                                                     60\n",
       "priority_explanation                                                                                                                                                                                                                                                                                                                                                                   Priority equals Severity, as no policies are available. \n",
       "sum_id                                                                                                                                                                                                                                                                                                                                                                                                                     DFN6Go8BtW9hkJozYKyD\n",
       "prio_id                                                                                                                                                                                                                                                                                                                                                                                                                    3lN6Go8BtW9hkJozj7bf\n",
       "element_tag                                                                                                                                                                                                                                                                                                                                                                                                                         Disappeared\n",
       "certainty_list                                                                                                                                                                                                                                                                                                                                                                                                                              NaN\n",
       "Name: 0, dtype: object"
      ]
     },
     "execution_count": 137,
     "metadata": {},
     "output_type": "execute_result"
    }
   ],
   "source": [
    "dataset.iloc[0]"
   ]
  },
  {
   "cell_type": "code",
   "execution_count": 120,
   "id": "070533c4",
   "metadata": {},
   "outputs": [
    {
     "name": "stdout",
     "output_type": "stream",
     "text": [
      "{'Disappeared', 'Open'}\n"
     ]
    }
   ],
   "source": [
    "# Get distinct values of \"element_tag\"\n",
    "element_tags = set(content['element_tag'] for content in data['message']['content'])\n",
    "print(element_tags)"
   ]
  },
  {
   "cell_type": "code",
   "execution_count": 126,
   "id": "1b3e735f",
   "metadata": {},
   "outputs": [
    {
     "name": "stdout",
     "output_type": "stream",
     "text": [
      "{'Open', 'In Work', 'Accepted', 'Solved', 'False Positive', 'Delayed'}\n"
     ]
    }
   ],
   "source": [
    "# Get distinct values of \"location_list\" > \"tags\" > \"action\"\n",
    "actions = set(tag['action'] for content in data['message']['content'] for location in content['location_list'] for tag in location['tags'])\n",
    "print(actions)"
   ]
  },
  {
   "cell_type": "code",
   "execution_count": 148,
   "id": "4cac1ad7",
   "metadata": {},
   "outputs": [
    {
     "name": "stdout",
     "output_type": "stream",
     "text": [
      "{'INFO', 'UNKNOWN', 'CRITICAL', 'MEDIUM', 'LOW', 'HIGH', 'WARNING', 'ERROR'}\n"
     ]
    }
   ],
   "source": [
    "# Get distinct values of 'internal_rating_list'\n",
    "internal_rating_list = set(rating['element'] for content in data['message']['content'] if 'internal_rating_list' in content for rating in content['internal_rating_list'])\n",
    "print(internal_rating_list)"
   ]
  }
 ],
 "metadata": {
  "kernelspec": {
   "display_name": "Python 3",
   "language": "python",
   "name": "python3"
  },
  "language_info": {
   "codemirror_mode": {
    "name": "ipython",
    "version": 2
   },
   "file_extension": ".py",
   "mimetype": "text/x-python",
   "name": "python",
   "nbconvert_exporter": "python",
   "pygments_lexer": "ipython2",
   "version": "2.7.6"
  }
 },
 "nbformat": 4,
 "nbformat_minor": 5
}
