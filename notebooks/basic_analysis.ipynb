{
 "cells": [
  {
   "cell_type": "code",
   "execution_count": 107,
   "id": "98db1beb9306c24d",
   "metadata": {
    "ExecuteTime": {
     "end_time": "2024-05-03T07:50:41.227929Z",
     "start_time": "2024-05-03T07:50:41.217391Z"
    }
   },
   "outputs": [],
   "source": [
    "%load_ext autoreload\n",
    "%autoreload 2"
   ]
  },
  {
   "cell_type": "code",
   "execution_count": 108,
   "id": "f86cc783bee84ebe",
   "metadata": {
    "ExecuteTime": {
     "end_time": "2024-05-03T07:50:42.467307Z",
     "start_time": "2024-05-03T07:50:41.842581Z"
    }
   },
   "outputs": [],
   "source": [
    "import json\n",
    "import pandas as pd"
   ]
  },
  {
   "cell_type": "code",
   "execution_count": 112,
   "id": "e9cf1a2b7f664d0f",
   "metadata": {
    "ExecuteTime": {
     "end_time": "2024-05-03T07:50:42.477268Z",
     "start_time": "2024-05-03T07:50:42.468359Z"
    }
   },
   "outputs": [],
   "source": [
    "import sys\n",
    "sys.path.append('../utils')\n",
    "\n",
    "from print_utils import print_json_tree"
   ]
  },
  {
   "cell_type": "code",
   "execution_count": 117,
   "id": "initial_id",
   "metadata": {
    "ExecuteTime": {
     "end_time": "2024-05-03T07:55:41.578638Z",
     "start_time": "2024-05-03T07:55:41.562545Z"
    },
    "collapsed": true
   },
   "outputs": [
    {
     "name": "stdout",
     "output_type": "stream",
     "text": [
      "Data tree for first 2 levels:\n",
      "- status\n",
      "- message\n",
      "  - version\n",
      "  - utc_age\n",
      "  - content\n"
     ]
    }
   ],
   "source": [
    "# load the data at ../data/Dataset.json\n",
    "with open('../data/Dataset.json') as f:\n",
    "    data = json.load(f)\n",
    "\n",
    "# print tree of first 2 levels\n",
    "print(f'Data tree for first 2 levels:')\n",
    "print_json_tree(data, max_depth=2)"
   ]
  },
  {
   "cell_type": "code",
   "execution_count": 114,
   "id": "f4be8a71796a45be",
   "metadata": {
    "ExecuteTime": {
     "end_time": "2024-05-03T07:57:07.743216Z",
     "start_time": "2024-05-03T07:57:07.727692Z"
    }
   },
   "outputs": [
    {
     "name": "stdout",
     "output_type": "stream",
     "text": [
      "<class 'pandas.core.frame.DataFrame'>\n",
      "RangeIndex: 285 entries, 0 to 284\n",
      "Data columns (total 26 columns):\n",
      " #   Column                      Non-Null Count  Dtype \n",
      "---  ------                      --------------  ----- \n",
      " 0   doc_type                    285 non-null    object\n",
      " 1   criticality_tag             285 non-null    object\n",
      " 2   knowledge_type              285 non-null    object\n",
      " 3   requirement_list            285 non-null    object\n",
      " 4   title_list                  285 non-null    object\n",
      " 5   location_list               285 non-null    object\n",
      " 6   description_list            281 non-null    object\n",
      " 7   internal_rating_list        284 non-null    object\n",
      " 8   internal_ratingsource_list  285 non-null    object\n",
      " 9   cvss_rating_list            229 non-null    object\n",
      " 10  rule_list                   285 non-null    object\n",
      " 11  cwe_id_list                 195 non-null    object\n",
      " 12  cve_id_list                 253 non-null    object\n",
      " 13  activity_list               285 non-null    object\n",
      " 14  first_found                 285 non-null    object\n",
      " 15  last_found                  285 non-null    object\n",
      " 16  report_amount               285 non-null    int64 \n",
      " 17  content_hash                285 non-null    object\n",
      " 18  severity                    285 non-null    int64 \n",
      " 19  severity_explanation        285 non-null    object\n",
      " 20  priority                    285 non-null    int64 \n",
      " 21  priority_explanation        285 non-null    object\n",
      " 22  sum_id                      285 non-null    object\n",
      " 23  prio_id                     285 non-null    object\n",
      " 24  element_tag                 285 non-null    object\n",
      " 25  certainty_list              31 non-null     object\n",
      "dtypes: int64(3), object(23)\n",
      "memory usage: 58.0+ KB\n"
     ]
    }
   ],
   "source": [
    "dataset = pd.DataFrame(data['message']['content'])\n",
    "dataset.info()"
   ]
  },
  {
   "cell_type": "code",
   "execution_count": 18,
   "id": "98e2d66d023bf23b",
   "metadata": {
    "ExecuteTime": {
     "end_time": "2024-05-03T07:59:16.798752Z",
     "start_time": "2024-05-03T07:59:16.784091Z"
    }
   },
   "outputs": [
    {
     "data": {
      "text/plain": [
       "doc_type                                                                summary\n",
       "criticality_tag                                               [unrestricted, 0]\n",
       "knowledge_type                                                          derived\n",
       "requirement_list                                         [zFJvGo8BtW9hkJoz7Vo0]\n",
       "title_list                    [{'element': 'use-after-free caused by do_subm...\n",
       "location_list                 [{'location': '{'file': 'linux-libc-dev', 'res...\n",
       "description_list              [{'element': 'A use-after-free vulnerability w...\n",
       "internal_rating_list                 [{'element': 'MEDIUM', 'source': 'Trivy'}]\n",
       "internal_ratingsource_list              [{'element': 'nvd', 'source': 'Trivy'}]\n",
       "cvss_rating_list              [{'element': '[{'score': 5.5, 'version': 'V3',...\n",
       "rule_list                     [{'element': 'CVE-2023-4132', 'source': 'Trivy'}]\n",
       "cwe_id_list                       [{'element': ['CWE-416'], 'source': 'Trivy'}]\n",
       "cve_id_list                   [{'element': 'CVE-2023-4132', 'source': 'Trivy'}]\n",
       "activity_list                 [{'element': '{'Summary': ['2023-08-24T14:18:3...\n",
       "first_found                                           2023-08-24T08:32:33+00:00\n",
       "last_found                                            2023-08-25T15:48:01+00:00\n",
       "report_amount                                                                 4\n",
       "content_hash                  0002af4ee64c22e86c2a19cbe44b7f001d3f0b872e0300...\n",
       "severity                                                                     60\n",
       "severity_explanation          Utilized Trivy internal score from Trivy for m...\n",
       "priority                                                                     60\n",
       "priority_explanation          Priority equals Severity, as no policies are a...\n",
       "sum_id                                                     DFN6Go8BtW9hkJozYKyD\n",
       "prio_id                                                    3lN6Go8BtW9hkJozj7bf\n",
       "element_tag                                                         Disappeared\n",
       "certainty_list                                                              NaN\n",
       "Name: 0, dtype: object"
      ]
     },
     "execution_count": 18,
     "metadata": {},
     "output_type": "execute_result"
    }
   ],
   "source": [
    "dataset.iloc[0]"
   ]
  },
  {
   "cell_type": "code",
   "execution_count": 119,
   "id": "97cd9b459e75725",
   "metadata": {},
   "outputs": [],
   "source": [
    "from datetime import datetime\n",
    "\n",
    "def extract_combine(lst, location=None):\n",
    "    combined = \"\"\n",
    "    for item in lst:\n",
    "        if location:\n",
    "            combined += item['location'] + f\" (Amount: {item['amount']}, Source: {item['source']})\"\n",
    "        else:\n",
    "            combined += item['element'] + f\" ({item['source']})\"\n",
    "    return combined.strip()\n",
    "def get_latest_state(lst):\n",
    "    for item in lst:\n",
    "        return max(item['tags'], key=lambda x: datetime.fromisoformat(x['created_at']))['action']\n",
    "\n",
    "transformed_content = []\n",
    "for entry in data['message']['content']:\n",
    "    if 'description_list' in entry:\n",
    "        transformed_entry = {\n",
    "            'title': extract_combine(entry['title_list']),\n",
    "            'location': extract_combine(entry['location_list'], 'location'),\n",
    "            'last_state': get_latest_state(entry['location_list']),\n",
    "            'description': extract_combine(entry['description_list'])\n",
    "        }\n",
    "        transformed_content.append(transformed_entry)\n",
    "        \n",
    "with open('summarised_findings.json', 'w') as json_file:\n",
    "    json.dump(transformed_content, json_file, indent=4)"
   ]
  }
 ],
 "metadata": {
  "kernelspec": {
   "display_name": "Python 3",
   "language": "python",
   "name": "python3"
  },
  "language_info": {
   "codemirror_mode": {
    "name": "ipython",
    "version": 2
   },
   "file_extension": ".py",
   "mimetype": "text/x-python",
   "name": "python",
   "nbconvert_exporter": "python",
   "pygments_lexer": "ipython2",
   "version": "2.7.6"
  }
 },
 "nbformat": 4,
 "nbformat_minor": 5
}
