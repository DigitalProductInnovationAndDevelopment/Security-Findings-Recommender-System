{
 "cells": [
  {
   "cell_type": "code",
   "id": "3027aad445a8ca34",
   "metadata": {},
   "source": [
    "%load_ext autoreload\n",
    "%autoreload 2"
   ],
   "outputs": [],
   "execution_count": null
  },
  {
   "cell_type": "code",
   "id": "857d764bfbe99f68",
   "metadata": {},
   "source": [
    "import json\n",
    "import logging\n",
    "\n",
    "logging.basicConfig(level=logging.WARNING)\n",
    "\n",
    "from src.data.VulnerabilityReport import create_from_flama_json # this is the function that creates the VulnerabilityReport object from the json data\n",
    "from src.ai.LLMService import LLMService # this is the service that uses ollama to generate solution"
   ],
   "outputs": [],
   "execution_count": null
  },
  {
   "cell_type": "code",
   "id": "f490c5d5b210be2b",
   "metadata": {},
   "source": [
    "# We need the json data, so we are loading it from the file\n",
    "with open('../data/Dataset.json') as f:\n",
    "    data = json.load(f)"
   ],
   "outputs": [],
   "execution_count": null
  },
  {
   "metadata": {},
   "cell_type": "markdown",
   "source": [
    "# Configuration and Data\n",
    "We \n",
    "- get a llm_service object, so it only needs to be created once, making it more efficient. \n",
    "- specify the model name, which can be any of the models from here: https://ollama.com/library. \n",
    "- specify the number of findings to import. If you want to import all findings, set n=-1.\n"
   ],
   "id": "133dc5fc298ba3d8"
  },
  {
   "cell_type": "code",
   "id": "926f7b0460c0f790",
   "metadata": {},
   "source": [
    "model_name=None # but can be anything from here https://ollama.com/library\n",
    "n=5 # number of findings to import\n",
    "llm_service = LLMService(model_name=model_name)\n",
    "vulnerability_report = create_from_flama_json(data, n = n, llm_service=llm_service) # here, we create the VulnerabilityReport object, consisting of a list of Finding objects which each have Solution objects. We pass the llm_service to the VulnerabilityReport object, but this can also just be omitted, in which case it will be created in each Finding object.\n",
    "vulnerability_report.sort() # this will sort the findings by severity"
   ],
   "outputs": [],
   "execution_count": null
  },
  {
   "cell_type": "markdown",
   "id": "c053459ec572c675",
   "metadata": {},
   "source": "# AI - 🚀🌕"
  },
  {
   "cell_type": "markdown",
   "id": "ecc63b904e7ad48",
   "metadata": {},
   "source": [
    "## First: We add categories to the Findings\n",
    "This will help us later to improve prompts (hopefully)"
   ]
  },
  {
   "cell_type": "code",
   "id": "14edeb4a26eeab5e",
   "metadata": {},
   "source": [
    "vulnerability_report.add_category() # this will add categories to the findings"
   ],
   "outputs": [],
   "execution_count": null
  },
  {
   "cell_type": "markdown",
   "id": "bef753bd813064d3",
   "metadata": {},
   "source": [
    "## Then we add solutions 🎉\n",
    "The function below adds long and short solutions to the findings. It also adds keywords for future research."
   ]
  },
  {
   "cell_type": "code",
   "id": "d51599fff12405ff",
   "metadata": {},
   "source": [
    "vulnerability_report.add_solution(long=True, short=True, search_term=True) # this will add solutions to the findings"
   ],
   "outputs": [],
   "execution_count": null
  },
  {
   "metadata": {},
   "cell_type": "markdown",
   "source": [
    "# Last but not least: Results\n",
    "We save and display results in the coming cells"
   ],
   "id": "a4ce1d49107d0bab"
  },
  {
   "metadata": {},
   "cell_type": "code",
   "source": [
    "with open(f'../data/VulnerabilityReport_{n if n !=-1 else \"all\"}_' + llm_service.get_model_name().replace(\":\",\"_\") +'.json', 'w') as f:\n",
    "    f.write(str(json.dumps(vulnerability_report.to_dict())))"
   ],
   "id": "73d0454da9633cc0",
   "outputs": [],
   "execution_count": null
  },
  {
   "cell_type": "code",
   "id": "c827dd06",
   "metadata": {},
   "source": [
    "from IPython.display import HTML, Markdown\n",
    "Markdown(vulnerability_report.to_html(table=True))\n"
   ],
   "outputs": [],
   "execution_count": null
  },
  {
   "metadata": {},
   "cell_type": "code",
   "source": "HTML(str(vulnerability_report).replace('\\n', '<br />'))\n",
   "id": "496eb3b60477c4b4",
   "outputs": [],
   "execution_count": null
  },
  {
   "metadata": {},
   "cell_type": "code",
   "source": "",
   "id": "7806153aaac3b59",
   "outputs": [],
   "execution_count": null
  }
 ],
 "metadata": {
  "kernelspec": {
   "display_name": "Python 3 (ipykernel)",
   "language": "python",
   "name": "python3"
  },
  "language_info": {
   "codemirror_mode": {
    "name": "ipython",
    "version": 3
   },
   "file_extension": ".py",
   "mimetype": "text/x-python",
   "name": "python",
   "nbconvert_exporter": "python",
   "pygments_lexer": "ipython3",
   "version": "3.10.8"
  }
 },
 "nbformat": 4,
 "nbformat_minor": 5
}
