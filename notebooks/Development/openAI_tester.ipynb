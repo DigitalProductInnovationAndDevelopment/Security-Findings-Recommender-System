{
 "cells": [
  {
   "cell_type": "code",
   "id": "3027aad445a8ca34",
   "metadata": {},
   "source": [
    "%load_ext autoreload\n",
    "%autoreload 2"
   ],
   "outputs": [],
   "execution_count": null
  },
  {
   "metadata": {},
   "cell_type": "markdown",
   "source": "# Preperation",
   "id": "ca160ee9f8f0a24f"
  },
  {
   "cell_type": "code",
   "id": "857d764bfbe99f68",
   "metadata": {},
   "source": [
    "import json\n",
    "import logging\n",
    "\n",
    "logging.basicConfig(level=logging.WARNING)\n",
    "\n",
    "from src.data.VulnerabilityReport import create_from_flama_json # this is the function that creates the VulnerabilityReport object from the json data\n",
    "from src.ai.LLM.LLMServiceStrategy import LLMServiceStrategy \n",
    "\n",
    "# We need the json data, so we are loading it from the file\n",
    "with open('../data/Dataset.json') as f:\n",
    "    data = json.load(f)\n",
    "    \n",
    "from src.ai.LLM.Stretegies.OpenAIService import OpenAIService\n",
    "from src.ai.LLM.Stretegies.OLLAMAService import OLLAMAService\n",
    "\n",
    "my_strategy = OpenAIService()\n",
    "llm_service = LLMServiceStrategy(my_strategy)\n",
    "my_strategy_local = OLLAMAService()\n",
    "llm_service_local = LLMServiceStrategy(my_strategy)\n",
    "\n",
    "n=5 # number of findings to import\n",
    "vulnerability_report = create_from_flama_json(data, n = n, llm_service=llm_service) # here, we create the VulnerabilityReport object, consisting of a list of Finding objects which each have Solution objects. We pass the llm_service to the VulnerabilityReport object, but this can also just be omitted, in which case it will be created in each Finding object.\n",
    "vulnerability_report.sort() # this will sort the findings by severity"
   ],
   "outputs": [],
   "execution_count": null
  },
  {
   "metadata": {},
   "cell_type": "markdown",
   "source": [
    "# Adding categories and solutions \n",
    "using local OLLAMAService"
   ],
   "id": "dde10b848b567f70"
  },
  {
   "cell_type": "code",
   "id": "14edeb4a26eeab5e",
   "metadata": {},
   "source": [
    "vulnerability_report.set_llm_service(llm_service_local)\n",
    "vulnerability_report.add_category() # this will add categories to the findings"
   ],
   "outputs": [],
   "execution_count": null
  },
  {
   "metadata": {},
   "cell_type": "markdown",
   "source": "# Adding solutions - TEST HERE",
   "id": "21c55c6984f6dd0"
  },
  {
   "cell_type": "code",
   "id": "d51599fff12405ff",
   "metadata": {},
   "source": [
    "vulnerability_report.set_llm_service(llm_service)\n",
    "vulnerability_report.add_solution(long=True, short=True, search_term=True) # this will add solutions to the findings"
   ],
   "outputs": [],
   "execution_count": null
  },
  {
   "metadata": {},
   "cell_type": "markdown",
   "source": "# Evaluate results",
   "id": "a6b50f27d4d3c240"
  },
  {
   "metadata": {},
   "cell_type": "code",
   "source": [
    "with open(f'../data/VulnerabilityReport_{n if n !=-1 else \"all\"}_' + my_strategy.get_model_name().replace(\":\",\"_\") +'.json', 'w') as f:\n",
    "    f.write(str(json.dumps(vulnerability_report.to_dict())))"
   ],
   "id": "73d0454da9633cc0",
   "outputs": [],
   "execution_count": null
  },
  {
   "cell_type": "code",
   "id": "c827dd06",
   "metadata": {},
   "source": [
    "from IPython.display import HTML, Markdown\n",
    "Markdown(vulnerability_report.to_html(table=True))\n"
   ],
   "outputs": [],
   "execution_count": null
  },
  {
   "metadata": {},
   "cell_type": "code",
   "source": "HTML(str(vulnerability_report).replace('\\n', '<br />'))\n",
   "id": "496eb3b60477c4b4",
   "outputs": [],
   "execution_count": null
  },
  {
   "metadata": {},
   "cell_type": "code",
   "source": "",
   "id": "7806153aaac3b59",
   "outputs": [],
   "execution_count": null
  }
 ],
 "metadata": {
  "kernelspec": {
   "display_name": "Python 3 (ipykernel)",
   "language": "python",
   "name": "python3"
  },
  "language_info": {
   "codemirror_mode": {
    "name": "ipython",
    "version": 3
   },
   "file_extension": ".py",
   "mimetype": "text/x-python",
   "name": "python",
   "nbconvert_exporter": "python",
   "pygments_lexer": "ipython3",
   "version": "3.10.8"
  }
 },
 "nbformat": 4,
 "nbformat_minor": 5
}
