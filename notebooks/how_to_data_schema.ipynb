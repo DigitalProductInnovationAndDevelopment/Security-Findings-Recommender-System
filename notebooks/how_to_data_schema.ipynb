{
 "cells": [
  {
   "metadata": {},
   "cell_type": "code",
   "source": [
    "%load_ext autoreload\n",
    "%autoreload 2"
   ],
   "id": "3027aad445a8ca34",
   "outputs": [],
   "execution_count": null
  },
  {
   "metadata": {},
   "cell_type": "code",
   "source": [
    "import json\n",
    "\n",
    "from src.data.VulnerabilityReport import create_from_flama_json # this is the function that creates the VulnerabilityReport object from the json data"
   ],
   "id": "857d764bfbe99f68",
   "outputs": [],
   "execution_count": null
  },
  {
   "metadata": {},
   "cell_type": "code",
   "source": [
    "# We need the json data, so we are loading it from the file\n",
    "with open('../data/Dataset.json') as f:\n",
    "    data = json.load(f)"
   ],
   "id": "f490c5d5b210be2b",
   "outputs": [],
   "execution_count": null
  },
  {
   "metadata": {},
   "cell_type": "code",
   "source": "vulnerability_report = create_from_flama_json(data) # here, we create the VulnerabilityReport object, consisting of a list of Finding objects which each have Solution objects",
   "id": "926f7b0460c0f790",
   "outputs": [],
   "execution_count": null
  },
  {
   "metadata": {},
   "cell_type": "markdown",
   "source": "# AI lets goooooo",
   "id": "c053459ec572c675"
  },
  {
   "metadata": {},
   "cell_type": "markdown",
   "source": [
    "## First: We add Categories to the Findings\n",
    "This will help us later to improve prompts (hopefully)"
   ],
   "id": "ecc63b904e7ad48"
  },
  {
   "metadata": {},
   "cell_type": "code",
   "source": "vulnerability_report.add_category() # this will add categories to the findings",
   "id": "14edeb4a26eeab5e",
   "outputs": [],
   "execution_count": null
  },
  {
   "metadata": {},
   "cell_type": "markdown",
   "source": [
    "## Then: We add Solutions.\n",
    "The function below adds long and short solutions to the findings. It als adds Keywords to the solutions."
   ],
   "id": "bef753bd813064d3"
  },
  {
   "metadata": {},
   "cell_type": "code",
   "source": "vulnerability_report.add_solution(long=True, short=True, search_term=True) # this will add solutions to the findings",
   "id": "d51599fff12405ff",
   "outputs": [],
   "execution_count": null
  },
  {
   "metadata": {},
   "cell_type": "code",
   "source": [
    "from IPython.display import HTML\n",
    "# HTML(str(vulnerability_report).replace('\\n', '<br />'))\n",
    "HTML(vulnerability_report.to_html(table=False))\n"
   ],
   "id": "e0e009e61ea3789",
   "outputs": [],
   "execution_count": null
  },
  {
   "metadata": {},
   "cell_type": "code",
   "source": "str(vulnerability_report)",
   "id": "c27eda42241ef83f",
   "outputs": [],
   "execution_count": null
  },
  {
   "metadata": {},
   "cell_type": "code",
   "source": "",
   "id": "e785b22c1cd30b1c",
   "outputs": [],
   "execution_count": null
  }
 ],
 "metadata": {
  "kernelspec": {
   "display_name": "Python 3",
   "language": "python",
   "name": "python3"
  },
  "language_info": {
   "codemirror_mode": {
    "name": "ipython",
    "version": 2
   },
   "file_extension": ".py",
   "mimetype": "text/x-python",
   "name": "python",
   "nbconvert_exporter": "python",
   "pygments_lexer": "ipython2",
   "version": "2.7.6"
  }
 },
 "nbformat": 4,
 "nbformat_minor": 5
}
