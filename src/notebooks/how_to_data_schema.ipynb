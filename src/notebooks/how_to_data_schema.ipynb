{
 "cells": [
  {
   "cell_type": "code",
   "execution_count": null,
   "id": "3027aad445a8ca34",
   "metadata": {},
   "outputs": [],
   "source": [
    "%load_ext autoreload\n",
    "%autoreload 2"
   ]
  },
  {
   "cell_type": "code",
   "execution_count": null,
   "id": "857d764bfbe99f68",
   "metadata": {},
   "outputs": [],
   "source": [
    "import json\n",
    "\n",
    "from data.VulnerabilityReport import create_from_flama_json # this is the function that creates the VulnerabilityReport object from the json data\n",
    "from ai.LLMService import LLMService # this is the service that uses ollama to generate solutions"
   ]
  },
  {
   "cell_type": "code",
   "execution_count": null,
   "id": "f490c5d5b210be2b",
   "metadata": {},
   "outputs": [],
   "source": [
    "# We need the json data, so we are loading it from the file\n",
    "with open('../data/Dataset.json') as f:\n",
    "    data = json.load(f)"
   ]
  },
  {
   "cell_type": "code",
   "execution_count": null,
   "id": "926f7b0460c0f790",
   "metadata": {},
   "outputs": [],
   "source": [
    "model_name=None # but can be anything from here https://ollama.com/library\n",
    "n=50 # number of findings to import\n",
    "llm_service = LLMService(model_name=model_name)\n",
    "vulnerability_report = create_from_flama_json(data, n = n, llm_service=llm_service) # here, we create the VulnerabilityReport object, consisting of a list of Finding objects which each have Solution objects. We pass the llm_service to the VulnerabilityReport object, but this can also just be omitted, in which case it will be created in each Finding object."
   ]
  },
  {
   "cell_type": "markdown",
   "id": "c053459ec572c675",
   "metadata": {},
   "source": [
    "# AI lets goooooo"
   ]
  },
  {
   "cell_type": "markdown",
   "id": "ecc63b904e7ad48",
   "metadata": {},
   "source": [
    "## First: We add Categories to the Findings\n",
    "This will help us later to improve prompts (hopefully)"
   ]
  },
  {
   "cell_type": "code",
   "execution_count": null,
   "id": "14edeb4a26eeab5e",
   "metadata": {},
   "outputs": [],
   "source": [
    "vulnerability_report.add_category() # this will add categories to the findings"
   ]
  },
  {
   "cell_type": "markdown",
   "id": "bef753bd813064d3",
   "metadata": {},
   "source": [
    "## Then: We add Solutions.\n",
    "The function below adds long and short solutions to the findings. It als adds Keywords to the solutions."
   ]
  },
  {
   "cell_type": "code",
   "execution_count": null,
   "id": "d51599fff12405ff",
   "metadata": {},
   "outputs": [],
   "source": [
    "vulnerability_report.add_solution(long=True, short=True, search_term=True) # this will add solutions to the findings"
   ]
  },
  {
   "cell_type": "code",
   "execution_count": null,
   "id": "e0e009e61ea3789",
   "metadata": {},
   "outputs": [],
   "source": [
    "from IPython.display import HTML\n",
    "HTML(vulnerability_report.to_html(table=False))\n"
   ]
  },
  {
   "cell_type": "code",
   "execution_count": null,
   "id": "c27eda42241ef83f",
   "metadata": {},
   "outputs": [],
   "source": [
    "HTML(str(vulnerability_report).replace('\\n', '<br />'))"
   ]
  },
  {
   "cell_type": "code",
   "execution_count": null,
   "id": "e785b22c1cd30b1c",
   "metadata": {},
   "outputs": [],
   "source": [
    "with open(f'../data/VulnerabilityReport_{n}_' + llm_service.get_model_name().replace(\":\",\"_\") + '.json', 'w') as f:\n",
    "    f.write(str(json.dumps(vulnerability_report.to_dict())))"
   ]
  },
  {
   "cell_type": "code",
   "execution_count": null,
   "id": "c827dd06",
   "metadata": {},
   "outputs": [],
   "source": []
  }
 ],
 "metadata": {
  "kernelspec": {
   "display_name": "Python 3 (ipykernel)",
   "language": "python",
   "name": "python3"
  },
  "language_info": {
   "codemirror_mode": {
    "name": "ipython",
    "version": 3
   },
   "file_extension": ".py",
   "mimetype": "text/x-python",
   "name": "python",
   "nbconvert_exporter": "python",
   "pygments_lexer": "ipython3",
   "version": "3.10.8"
  }
 },
 "nbformat": 4,
 "nbformat_minor": 5
}
