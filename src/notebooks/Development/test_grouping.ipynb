{
 "cells": [
  {
   "metadata": {
    "jupyter": {
     "is_executing": true
    }
   },
   "cell_type": "code",
   "source": [
    "%load_ext autoreload\n",
    "%autoreload 2"
   ],
   "id": "75f8c0afdb49a7bd",
   "outputs": [],
   "execution_count": null
  },
  {
   "metadata": {},
   "cell_type": "code",
   "source": [
    "import json\n",
    "import logging\n",
    "from IPython.display import HTML, Markdown\n",
    "\n",
    "\n",
    "logging.basicConfig(level=logging.WARNING) # set your preferred logging level here\n",
    "\n",
    "# we import the things we need (obviously)\n",
    "from data.VulnerabilityReport import VulnerabilityReport, create_from_flama_json # this is the function that creates the VulnerabilityReport object from the json data\n",
    "from ai.LLM.LLMServiceStrategy import LLMServiceStrategy \n",
    "\n",
    "from ai.LLM.Strategies.OpenAIService import OpenAIService\n",
    "from ai.LLM.Strategies.AnthropicService import AnthropicService\n",
    "from ai.LLM.Strategies.OLLAMAService import OLLAMAService # this is the service that uses ollama to generate solution\n",
    "\n",
    "model_name=None # but can be anything from here https://ollama.com/library\n",
    "my_strategy_local = OLLAMAService(model_name=model_name)\n",
    "my_strategy = AnthropicService()\n",
    "\n",
    "\n",
    "llm_service_local = LLMServiceStrategy(my_strategy_local)\n",
    "llm_service = LLMServiceStrategy(my_strategy)"
   ],
   "id": "4e31ad32f428583a",
   "outputs": [],
   "execution_count": null
  },
  {
   "metadata": {},
   "cell_type": "code",
   "source": [
    "vulnerabilityReport=VulnerabilityReport.import_from_json('../../../data/VulnerabilityReport_all_llama3_instruct.json')\n",
    "#Markdown(vulnerabilityReport.sort().get_findings()[4].to_html())"
   ],
   "id": "7c1fc9d564f0a009",
   "outputs": [],
   "execution_count": null
  },
  {
   "metadata": {},
   "cell_type": "code",
   "source": [
    "from ai.Grouping.FindingBatcher import FindingBatcher\n",
    "\n",
    "findingBatcher = FindingBatcher(llm_service_local)\n",
    "batches = findingBatcher.create_batches(vulnerabilityReport.get_findings())"
   ],
   "id": "aaa5de83fd48e1fa",
   "outputs": [],
   "execution_count": null
  },
  {
   "metadata": {},
   "cell_type": "raw",
   "source": [
    "print([len(x) for x in batches])\n",
    "batches[0]"
   ],
   "id": "2953629a123ac1aa"
  },
  {
   "metadata": {},
   "cell_type": "code",
   "source": [
    "from ai.Grouping.FindingGrouper import FindingGrouper\n",
    "\n",
    "findingGrouper = FindingGrouper(vulnerabilityReport, llm_service)\n",
    "\n",
    "grouped_findings = findingGrouper.generate_aggregated_solutions()"
   ],
   "id": "cb15caef69d579f6",
   "outputs": [],
   "execution_count": null
  },
  {
   "metadata": {},
   "cell_type": "code",
   "source": [
    "#Markdown(vulnerabilityReport.to_html())\n",
    "vulnerabilityReport.export_to_json('../../../data/VulnerabilityReport_all_llama3_instruct_with_solution_by_claude.json')"
   ],
   "id": "bcd6375cc442e37f",
   "outputs": [],
   "execution_count": null
  },
  {
   "metadata": {
    "jupyter": {
     "is_executing": true
    }
   },
   "cell_type": "code",
   "source": "",
   "id": "c556bfb48809eece",
   "outputs": [],
   "execution_count": null
  }
 ],
 "metadata": {
  "kernelspec": {
   "display_name": "Python 3",
   "language": "python",
   "name": "python3"
  },
  "language_info": {
   "codemirror_mode": {
    "name": "ipython",
    "version": 2
   },
   "file_extension": ".py",
   "mimetype": "text/x-python",
   "name": "python",
   "nbconvert_exporter": "python",
   "pygments_lexer": "ipython2",
   "version": "2.7.6"
  }
 },
 "nbformat": 4,
 "nbformat_minor": 5
}
