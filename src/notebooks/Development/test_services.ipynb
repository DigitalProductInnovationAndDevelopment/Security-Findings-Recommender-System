{
 "cells": [
  {
   "cell_type": "code",
   "id": "initial_id",
   "metadata": {
    "collapsed": true
   },
   "source": [
    "from ai.LLM.Strategies.AnthropicService import AnthropicService\n",
    "from ai.LLM.Strategies.OLLAMAService import OLLAMAService\n",
    "from ai.LLM.Strategies.OpenAIService import OpenAIService\n",
    "from ai.LLM.LLMServiceStrategy import LLMServiceStrategy"
   ],
   "outputs": [],
   "execution_count": null
  },
  {
   "metadata": {},
   "cell_type": "code",
   "source": [
    "# Test AnthropicService\n",
    "anthropic_service = AnthropicService()\n",
    "anthropic_strategy = LLMServiceStrategy(anthropic_service)"
   ],
   "id": "325e2fbf1d0f2112",
   "outputs": [],
   "execution_count": null
  },
  {
   "metadata": {},
   "cell_type": "code",
   "source": [
    "# Test OLLAMAService\n",
    "ollama_service = OLLAMAService()\n",
    "ollama_strategy = LLMServiceStrategy(ollama_service)"
   ],
   "id": "4b065ed5b0651eb6",
   "outputs": [],
   "execution_count": null
  },
  {
   "metadata": {},
   "cell_type": "code",
   "source": [
    "# Test OpenAIService\n",
    "openai_service = OpenAIService()\n",
    "openai_strategy = LLMServiceStrategy(openai_service)"
   ],
   "id": "9e2c446fc1191da9",
   "outputs": [],
   "execution_count": null
  },
  {
   "metadata": {},
   "cell_type": "code",
   "source": [
    "# Test convert_dict_to_str for each service\n",
    "test_dict = {\"key1\": \"value1\", \"key2\": \"value2\"}\n",
    "\n",
    "print(\"Anthropic:\", anthropic_strategy.convert_dict_to_str(test_dict))\n",
    "print(\"OLLAMA:\", ollama_strategy.convert_dict_to_str(test_dict))\n",
    "print(\"OpenAI:\", openai_strategy.convert_dict_to_str(test_dict))"
   ],
   "id": "b07910f45c1c85b0",
   "outputs": [],
   "execution_count": null
  },
  {
   "metadata": {},
   "cell_type": "code",
   "source": "",
   "id": "77b6075b8eff6f89",
   "outputs": [],
   "execution_count": null
  }
 ],
 "metadata": {
  "kernelspec": {
   "display_name": "Python 3",
   "language": "python",
   "name": "python3"
  },
  "language_info": {
   "codemirror_mode": {
    "name": "ipython",
    "version": 2
   },
   "file_extension": ".py",
   "mimetype": "text/x-python",
   "name": "python",
   "nbconvert_exporter": "python",
   "pygments_lexer": "ipython2",
   "version": "2.7.6"
  }
 },
 "nbformat": 4,
 "nbformat_minor": 5
}
