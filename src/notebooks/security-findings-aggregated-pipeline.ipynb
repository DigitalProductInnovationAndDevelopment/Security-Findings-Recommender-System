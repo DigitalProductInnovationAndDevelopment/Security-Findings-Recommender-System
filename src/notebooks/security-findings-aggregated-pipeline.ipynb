{
 "cells": [
  {
   "cell_type": "markdown",
   "metadata": {},
   "source": [
    "# Interactive Security Findings Analysis Pipeline\n",
    "\n",
    "This notebook implements an interactive pipeline for grouping security findings and suggesting aggregated solutions using machine learning techniques."
   ]
  },
  {
   "metadata": {
    "ExecuteTime": {
     "end_time": "2024-06-20T22:47:01.211312Z",
     "start_time": "2024-06-20T22:47:01.209562Z"
    }
   },
   "cell_type": "code",
   "source": "",
   "outputs": [],
   "execution_count": 18
  },
  {
   "cell_type": "markdown",
   "metadata": {},
   "source": [
    "## Data Loading and Preprocessing"
   ]
  },
  {
   "cell_type": "code",
   "metadata": {
    "ExecuteTime": {
     "end_time": "2024-06-20T22:47:01.264440Z",
     "start_time": "2024-06-20T22:47:01.233695Z"
    }
   },
   "source": [
    "import string\n",
    "import random\n",
    "import pandas as pd\n",
    "import numpy as np\n",
    "from pathlib import Path\n",
    "\n",
    "# Load sample data (replace this with your actual data loading)\n",
    "fake = pd.DataFrame({\n",
    "    'id': range(1, 101),\n",
    "    'description_for_embedding': [\n",
    "        f\"{'JS' if i % 3 == 0 else 'Python' if i % 3 == 1 else 'Java'} security issue: {['XSS vulnerability', 'SQL injection', 'Outdated package', 'Insecure authentication'][i % 4]}\"\n",
    "        for i in range(100)\n",
    "    ],\n",
    "    'severity': np.random.choice(['Low', 'Medium', 'High'], 100)\n",
    "})\n",
    "\n",
    "findings = pd.read_json(Path(\"../../data/VulnerabilityReport_all_llama3_instruct.json\"))\n",
    "# add id\n",
    "findings['id'] = range(1, len(findings) + 1)\n",
    "\n",
    "# describtion_str\n",
    "findings['description_str'] = findings['description'].apply(lambda x: \"\".join([s for s in x]).replace(\"\\n\",\" \").strip())\n",
    "# findings['description_for_embedding'] = findings['description_str'] + findings['solution'].apply(lambda x: x['short_description'].replace(\"\\n\",\" \").strip())\n",
    "#findings['description_for_embedding'] = findings['solution'].apply(lambda x: \" \".join([II.replace(\";\", \" \").replace(\"\\n\", \" \").replace(\"-\", \" \").strip() for II in x[\"search_terms\"].split(\"- \")]).strip())#.replace(\";\",\" \").replace(\"\\n\",\" \").replace(\"-\",\" \").strip())\n",
    "\n",
    "import re\n",
    "\n",
    "def process_search_terms(search_terms): # Frag nicht wie kompliziert\n",
    "    items = [x for x in re.split(r'\\s*-\\s*', search_terms)]\n",
    "    placeholder = ''.join(random.choices(string.ascii_letters + string.digits, k=10))\n",
    "    cleaned_items = [re.sub(r'[;\\n]' , ' ', item ).replace(' ', placeholder).replace(\" \", \"-\").replace(\"--\", \" \").replace(placeholder, \" \").strip() for item in items]\n",
    "    return re.sub(r'\\s+', ' ', ' '.join(cleaned_items))\n",
    "\n",
    "findings['description_for_embedding'] = findings['solution'].apply(lambda x: process_search_terms(x['search_terms']))\n",
    "\n",
    "\n",
    "display(findings.head())\n",
    "print(f\"\\nTotal findings: {len(findings)}\")\n",
    "\n",
    "findings.columns"
   ],
   "outputs": [
    {
     "data": {
      "text/plain": [
       "                                               title      source  \\\n",
       "0       [entropy and regex for passwords or secrets]  [Gitleaks]   \n",
       "1                                   [CVE-2022-29361]     [Trivy]   \n",
       "2  [out of heap memory issue due to missing limit...     [Trivy]   \n",
       "3            [curl: HTTP/2 push headers memory-leak]     [Trivy]   \n",
       "4  [There is a type confusion vulnerability relat...     [Trivy]   \n",
       "\n",
       "                                       location_list  \\\n",
       "0  [{'file': '/builds/devsecops-sel/security-flam...   \n",
       "1                         [Werkzeug:, , werkzeug:, ]   \n",
       "2                              [curl:, , libcurl:, ]   \n",
       "3                             [curl:, , libcurl4:, ]   \n",
       "4                        [libcrypto3:, , libssl3:, ]   \n",
       "\n",
       "                                         description    cwe_ids  \\\n",
       "0       [entropy and regex for passwords or secrets]         []   \n",
       "1  [** DISPUTED ** Improper parsing of HTTP reque...  [CWE-444]   \n",
       "2  [When curl retrieves an HTTP response, it stor...  [CWE-770]   \n",
       "3  [When an application tells libcurl it wants to...         []   \n",
       "4  [There is a type confusion vulnerability relat...         []   \n",
       "\n",
       "            cve_ids  severity  priority category  \\\n",
       "0                []        90        90     CODE   \n",
       "1  [CVE-2022-29361]        90        80  PROGRAM   \n",
       "2  [CVE-2023-38039]        80        80   SYSTEM   \n",
       "3   [CVE-2024-2398]        80        80  LIBRARY   \n",
       "4   [CVE-2023-0286]        80        80  LIBRARY   \n",
       "\n",
       "                                            solution  id  \\\n",
       "0  {'short_description': 'Implement a password ha...   1   \n",
       "1  {'short_description': 'Update Pallets Werkzeug...   2   \n",
       "2  {'short_description': 'Update curl to the late...   3   \n",
       "3  {'short_description': 'Upgrade to the latest v...   4   \n",
       "4  {'short_description': 'Upgrade to OpenSSL vers...   5   \n",
       "\n",
       "                                     description_str  \\\n",
       "0         entropy and regex for passwords or secrets   \n",
       "1  ** DISPUTED ** Improper parsing of HTTP reques...   \n",
       "2  When curl retrieves an HTTP response, it store...   \n",
       "3  When an application tells libcurl it wants to ...   \n",
       "4  There is a type confusion vulnerability relati...   \n",
       "\n",
       "                           description_for_embedding  \n",
       "0  entropy regex password hashing secret storage ...  \n",
       "1  HTTP Request Smuggling CVE 2022 29361 Pallets ...  \n",
       "2  out of heap memory curl headers libcurl header...  \n",
       "3  HTTP/2 push headers memory leak curl vulnerabi...  \n",
       "4  openssl x.400 address type confusion asn1_stri...  "
      ],
      "text/html": [
       "<div>\n",
       "<style scoped>\n",
       "    .dataframe tbody tr th:only-of-type {\n",
       "        vertical-align: middle;\n",
       "    }\n",
       "\n",
       "    .dataframe tbody tr th {\n",
       "        vertical-align: top;\n",
       "    }\n",
       "\n",
       "    .dataframe thead th {\n",
       "        text-align: right;\n",
       "    }\n",
       "</style>\n",
       "<table border=\"1\" class=\"dataframe\">\n",
       "  <thead>\n",
       "    <tr style=\"text-align: right;\">\n",
       "      <th></th>\n",
       "      <th>title</th>\n",
       "      <th>source</th>\n",
       "      <th>location_list</th>\n",
       "      <th>description</th>\n",
       "      <th>cwe_ids</th>\n",
       "      <th>cve_ids</th>\n",
       "      <th>severity</th>\n",
       "      <th>priority</th>\n",
       "      <th>category</th>\n",
       "      <th>solution</th>\n",
       "      <th>id</th>\n",
       "      <th>description_str</th>\n",
       "      <th>description_for_embedding</th>\n",
       "    </tr>\n",
       "  </thead>\n",
       "  <tbody>\n",
       "    <tr>\n",
       "      <th>0</th>\n",
       "      <td>[entropy and regex for passwords or secrets]</td>\n",
       "      <td>[Gitleaks]</td>\n",
       "      <td>[{'file': '/builds/devsecops-sel/security-flam...</td>\n",
       "      <td>[entropy and regex for passwords or secrets]</td>\n",
       "      <td>[]</td>\n",
       "      <td>[]</td>\n",
       "      <td>90</td>\n",
       "      <td>90</td>\n",
       "      <td>CODE</td>\n",
       "      <td>{'short_description': 'Implement a password ha...</td>\n",
       "      <td>1</td>\n",
       "      <td>entropy and regex for passwords or secrets</td>\n",
       "      <td>entropy regex password hashing secret storage ...</td>\n",
       "    </tr>\n",
       "    <tr>\n",
       "      <th>1</th>\n",
       "      <td>[CVE-2022-29361]</td>\n",
       "      <td>[Trivy]</td>\n",
       "      <td>[Werkzeug:, , werkzeug:, ]</td>\n",
       "      <td>[** DISPUTED ** Improper parsing of HTTP reque...</td>\n",
       "      <td>[CWE-444]</td>\n",
       "      <td>[CVE-2022-29361]</td>\n",
       "      <td>90</td>\n",
       "      <td>80</td>\n",
       "      <td>PROGRAM</td>\n",
       "      <td>{'short_description': 'Update Pallets Werkzeug...</td>\n",
       "      <td>2</td>\n",
       "      <td>** DISPUTED ** Improper parsing of HTTP reques...</td>\n",
       "      <td>HTTP Request Smuggling CVE 2022 29361 Pallets ...</td>\n",
       "    </tr>\n",
       "    <tr>\n",
       "      <th>2</th>\n",
       "      <td>[out of heap memory issue due to missing limit...</td>\n",
       "      <td>[Trivy]</td>\n",
       "      <td>[curl:, , libcurl:, ]</td>\n",
       "      <td>[When curl retrieves an HTTP response, it stor...</td>\n",
       "      <td>[CWE-770]</td>\n",
       "      <td>[CVE-2023-38039]</td>\n",
       "      <td>80</td>\n",
       "      <td>80</td>\n",
       "      <td>SYSTEM</td>\n",
       "      <td>{'short_description': 'Update curl to the late...</td>\n",
       "      <td>3</td>\n",
       "      <td>When curl retrieves an HTTP response, it store...</td>\n",
       "      <td>out of heap memory curl headers libcurl header...</td>\n",
       "    </tr>\n",
       "    <tr>\n",
       "      <th>3</th>\n",
       "      <td>[curl: HTTP/2 push headers memory-leak]</td>\n",
       "      <td>[Trivy]</td>\n",
       "      <td>[curl:, , libcurl4:, ]</td>\n",
       "      <td>[When an application tells libcurl it wants to...</td>\n",
       "      <td>[]</td>\n",
       "      <td>[CVE-2024-2398]</td>\n",
       "      <td>80</td>\n",
       "      <td>80</td>\n",
       "      <td>LIBRARY</td>\n",
       "      <td>{'short_description': 'Upgrade to the latest v...</td>\n",
       "      <td>4</td>\n",
       "      <td>When an application tells libcurl it wants to ...</td>\n",
       "      <td>HTTP/2 push headers memory leak curl vulnerabi...</td>\n",
       "    </tr>\n",
       "    <tr>\n",
       "      <th>4</th>\n",
       "      <td>[There is a type confusion vulnerability relat...</td>\n",
       "      <td>[Trivy]</td>\n",
       "      <td>[libcrypto3:, , libssl3:, ]</td>\n",
       "      <td>[There is a type confusion vulnerability relat...</td>\n",
       "      <td>[]</td>\n",
       "      <td>[CVE-2023-0286]</td>\n",
       "      <td>80</td>\n",
       "      <td>80</td>\n",
       "      <td>LIBRARY</td>\n",
       "      <td>{'short_description': 'Upgrade to OpenSSL vers...</td>\n",
       "      <td>5</td>\n",
       "      <td>There is a type confusion vulnerability relati...</td>\n",
       "      <td>openssl x.400 address type confusion asn1_stri...</td>\n",
       "    </tr>\n",
       "  </tbody>\n",
       "</table>\n",
       "</div>"
      ]
     },
     "metadata": {},
     "output_type": "display_data"
    },
    {
     "name": "stdout",
     "output_type": "stream",
     "text": [
      "\n",
      "Total findings: 285\n"
     ]
    },
    {
     "data": {
      "text/plain": [
       "Index(['title', 'source', 'location_list', 'description', 'cwe_ids', 'cve_ids',\n",
       "       'severity', 'priority', 'category', 'solution', 'id', 'description_str',\n",
       "       'description_for_embedding'],\n",
       "      dtype='object')"
      ]
     },
     "execution_count": 19,
     "metadata": {},
     "output_type": "execute_result"
    }
   ],
   "execution_count": 19
  },
  {
   "metadata": {
    "ExecuteTime": {
     "end_time": "2024-06-20T22:47:03.508405Z",
     "start_time": "2024-06-20T22:47:01.265996Z"
    }
   },
   "cell_type": "code",
   "source": [
    "# 2. Text Embedding\n",
    "from sentence_transformers import SentenceTransformer\n",
    "\n",
    "model = SentenceTransformer('all-MiniLM-L6-v2')\n",
    "embeddings = model.encode(findings['description_for_embedding'].tolist())\n",
    "\n",
    "print(f\"\\nShape of embeddings: {embeddings.shape}\")"
   ],
   "outputs": [
    {
     "name": "stderr",
     "output_type": "stream",
     "text": [
      "/Users/kaiser/Desktop/Uni/SS24/Praktikum/Security-Findings-Recommender-System/src/venv/lib/python3.9/site-packages/huggingface_hub/file_download.py:1132: FutureWarning:\n",
      "\n",
      "`resume_download` is deprecated and will be removed in version 1.0.0. Downloads always resume when possible. If you want to force a new download, use `force_download=True`.\n",
      "\n"
     ]
    },
    {
     "name": "stdout",
     "output_type": "stream",
     "text": [
      "\n",
      "Shape of embeddings: (285, 384)\n"
     ]
    }
   ],
   "execution_count": 20
  },
  {
   "metadata": {},
   "cell_type": "code",
   "source": [
    "# 3. Clustering\n",
    "from sklearn.cluster import KMeans\n",
    "from sklearn.metrics import silhouette_score\n",
    "from kneed import KneeLocator\n",
    "\n",
    "max_clusters = len(findings) // 4\n",
    "inertias = []\n",
    "silhouette_scores = []\n",
    "\n",
    "for k in range(2, max_clusters + 1):\n",
    "    kmeans = KMeans(n_clusters=k, random_state=42)\n",
    "    kmeans.fit(embeddings)\n",
    "    inertias.append(kmeans.inertia_)\n",
    "    silhouette_scores.append(silhouette_score(embeddings, kmeans.labels_))\n",
    "\n",
    "# print(f\"\\nInertias: {inertias}\")\n",
    "# print(f\"Silhouette Scores: {silhouette_scores}\")"
   ],
   "outputs": [],
   "execution_count": null
  },
  {
   "metadata": {
    "ExecuteTime": {
     "end_time": "2024-06-20T22:47:04.603556Z",
     "start_time": "2024-06-20T22:47:04.600769Z"
    }
   },
   "cell_type": "code",
   "source": [
    "# Elbow method\n",
    "kl = KneeLocator(range(2, max_clusters + 1), inertias, curve=\"convex\", direction=\"decreasing\")\n",
    "optimal_clusters_elbow = kl.elbow\n",
    "\n",
    "print(f\"\\nOptimal number of clusters (Elbow method): {optimal_clusters_elbow}\")"
   ],
   "outputs": [
    {
     "name": "stdout",
     "output_type": "stream",
     "text": [
      "\n",
      "Optimal number of clusters (Elbow method): 14\n"
     ]
    }
   ],
   "execution_count": 22
  },
  {
   "metadata": {
    "ExecuteTime": {
     "end_time": "2024-06-20T22:47:04.607083Z",
     "start_time": "2024-06-20T22:47:04.604502Z"
    }
   },
   "cell_type": "code",
   "source": [
    "# Silhouette analysis\n",
    "optimal_clusters_silhouette = max(range(2, max_clusters + 1), key=lambda k: silhouette_scores[k - 2])\n",
    "\n",
    "print(f\"Optimal number of clusters (Silhouette analysis): {optimal_clusters_silhouette}\")"
   ],
   "outputs": [
    {
     "name": "stdout",
     "output_type": "stream",
     "text": [
      "Optimal number of clusters (Silhouette analysis): 71\n"
     ]
    }
   ],
   "execution_count": 23
  },
  {
   "metadata": {},
   "cell_type": "markdown",
   "source": "## KMEANS"
  },
  {
   "metadata": {
    "ExecuteTime": {
     "end_time": "2024-06-21T07:49:57.910662Z",
     "start_time": "2024-06-21T07:49:57.804205Z"
    }
   },
   "cell_type": "code",
   "source": [
    "# Choose the optimal number of clusters based on your preference\n",
    "if optimal_clusters_elbow is not None:\n",
    "    optimal_clusters = optimal_clusters_elbow\n",
    "else:\n",
    "    optimal_clusters = optimal_clusters_silhouette\n",
    "\n",
    "print(f\"\\nChosen optimal number of clusters: {optimal_clusters}\")\n",
    "\n",
    "kmeans = KMeans(n_clusters=optimal_clusters, random_state=42)\n",
    "cluster_labels = kmeans.fit_predict(embeddings)\n",
    "\n",
    "# histogram of cluster sizes\n",
    "df_cluster_sizes = pd.DataFrame({\n",
    "    'Cluster': range(optimal_clusters),\n",
    "    'Size': np.bincount(cluster_labels)\n",
    "})\n",
    "\n",
    "df_cluster_sizes = df_cluster_sizes[df_cluster_sizes['Size'] > 0]\n",
    "\n",
    "df_cluster_sizes.plot(x='Cluster', y='Size', kind='bar', title='Cluster Sizes')"
   ],
   "outputs": [
    {
     "name": "stdout",
     "output_type": "stream",
     "text": [
      "\n",
      "Chosen optimal number of clusters: 14\n"
     ]
    },
    {
     "data": {
      "text/plain": [
       "<Axes: title={'center': 'Cluster Sizes'}, xlabel='Cluster'>"
      ]
     },
     "execution_count": 79,
     "metadata": {},
     "output_type": "execute_result"
    },
    {
     "data": {
      "text/plain": [
       "<Figure size 640x480 with 1 Axes>"
      ],
      "image/png": "[encoded data removed]"
     },
     "metadata": {},
     "output_type": "display_data"
    }
   ],
   "execution_count": 79
  },
  {
   "metadata": {},
   "cell_type": "markdown",
   "source": "# Agglomerative Clustering"
  },
  {
   "metadata": {
    "ExecuteTime": {
     "end_time": "2024-06-20T23:01:24.575610Z",
     "start_time": "2024-06-20T23:01:24.565624Z"
    }
   },
   "cell_type": "code",
   "source": [
    "from sklearn.preprocessing import StandardScaler\n",
    "\n",
    "def find_max_value ():\n",
    "    tmp = []\n",
    "    for i in range(0, 10):\n",
    "        granularity_factor = i / 10\n",
    "        tmp.append(granularity_factor * len(findings))\n",
    "    return max(tmp)\n",
    "\n",
    "# 1. Normalize the embeddings\n",
    "scaler = StandardScaler()\n",
    "normalized_embeddings = scaler.fit_transform(embeddings)\n",
    "\n",
    "# 2. Apply DBSCAN\n",
    "from sklearn.cluster import AgglomerativeClustering\n",
    "\n",
    "clustering = AgglomerativeClustering(n_clusters=None, distance_threshold=30)\n",
    "clusters = clustering.fit_predict(normalized_embeddings)\n",
    "\n",
    "# 3. Get the results\n",
    "n_clusters = len(set(clusters)) - (1 if -1 in clusters else 0)\n",
    "n_noise = list(clusters).count(-1)\n",
    "\n",
    "# print(f\"\\nDistance threshold: {find_max_value()}\")\n",
    "print(f\"Number of clusters: {n_clusters}\")\n",
    "print(f\"Number of noise points: {n_noise}\")"
   ],
   "outputs": [
    {
     "name": "stdout",
     "output_type": "stream",
     "text": [
      "\n",
      "Distance threshold: 256.5\n",
      "Number of clusters: 57\n",
      "Number of noise points: 0\n"
     ]
    }
   ],
   "execution_count": 65
  },
  {
   "metadata": {
    "ExecuteTime": {
     "end_time": "2024-06-21T07:55:15.533314Z",
     "start_time": "2024-06-21T07:55:14.900647Z"
    }
   },
   "cell_type": "code",
   "source": [
    "import plotly.express as px\n",
    "\n",
    "# Perform dimensionality reduction using PCA\n",
    "from sklearn.decomposition import PCA\n",
    "\n",
    "pca = PCA(n_components=3)\n",
    "embeddings_pca = pca.fit_transform(embeddings)\n",
    "\n",
    "# Create a DataFrame with the PCA-reduced embeddings, cluster labels, and severity\n",
    "df_plot = pd.DataFrame({\n",
    "    'PC1': embeddings_pca[:, 0],\n",
    "    'PC2': embeddings_pca[:, 1],\n",
    "    'PC3': embeddings_pca[:, 2],\n",
    "    'Cluster': cluster_labels,\n",
    "    'Severity': findings['severity'],\n",
    "    'Solution': findings['solution'].apply(lambda x: x['short_description'])\n",
    "})\n",
    "\n",
    "# Create an interactive 3D scatter plot\n",
    "fig = px.scatter_3d(df_plot, x='PC1', y='PC2', z='PC3', color='Cluster', symbol='Cluster', color_continuous_scale='Agsunset',\n",
    "                    hover_data={'Severity': True, 'Cluster': True, 'Solution':False},\n",
    "                    title='Interactive 3D Visualization of Clustered Findings')\n",
    "\n",
    "# Update the plot layout\n",
    "fig.update_layout(scene=dict(xaxis_title='PC1', yaxis_title='PC2', zaxis_title='PC3'))\n",
    "\n",
    "# Display the plot\n",
    "fig.show()"
   ],
   "outputs": [
    {
     "data": {
      "application/vnd.plotly.v1+json": {
       "data": [
        {
         "customdata": [
          [
           90,
           13,
           "Implement a password hashing mechanism, such as bcrypt or Argon2, and store hashed versions of sensitive data to prevent plaintext passwords from being stored."
          ],
          [
           80,
           13,
           "Consider using environment variables or a secure configuration file to store the JWT secret or private key, and update the authenticator.py file accordingly."
          ],
          [
           60,
           13,
           "Update the affected packages to versions that address the vulnerability, such as upgrading MIT Kerberos 5 to 1.20.2 or 1.21.1."
          ],
          [
           60,
           13,
           "Use a safe deserialization method, such as using the `pickletools` module to safely unpickle untrusted data."
          ],
          [
           50,
           13,
           "Replace `pickle` with a safer serialization method such as JSON or MessagePack."
          ],
          [
           30,
           13,
           "Replace the try-except-continue block with a more specific exception handling mechanism to avoid swallowing unexpected exceptions."
          ],
          [
           30,
           13,
           "Replace hardcoded password with a secure method of generating and storing passwords."
          ],
          [
           30,
           13,
           "Remove or replace the pickle module with a more secure alternative, such as JSON or MessagePack, to prevent potential deserialization vulnerabilities."
          ],
          [
           30,
           13,
           "Upgrade MIT Kerberos 5 to a version that addresses the integer overflow vulnerability (CVE-2018-5709) or apply the patch provided in the security advisory."
          ],
          [
           -1,
           13,
           "Update the Kerberos 5 (aka krb5) package to a version that fixes the memory leak vulnerability, such as upgrading from 1.21.2 to a newer version."
          ],
          [
           -1,
           13,
           "Upgrade Kerberos 5 (aka krb5) to a version that addresses the memory leak vulnerability, such as 1.23.0 or later."
          ],
          [
           -1,
           13,
           "Update the Kerberos 5 (aka krb5) library to a version that addresses the memory leak vulnerability (CVE-2024-26458). This can typically be done by running the package manager for your system, such as apt or yum, with the command `sudo apt-get update && sudo apt-get install krb5` or `sudo yum update && sudo yum install krb5`, depending on your distribution."
          ],
          [
           -1,
           13,
           "Update to the latest version of shadow-utils (or patch according to vendor guidelines) to fix the vulnerability."
          ],
          [
           -1,
           13,
           "Update Linux PAM to version 1.6.0 or higher to fix the vulnerability."
          ]
         ],
         "hovertemplate": "Cluster=%{marker.color}<br>PC1=%{x}<br>PC2=%{y}<br>PC3=%{z}<br>Severity=%{customdata[0]}<extra></extra>",
         "legendgroup": "13",
         "marker": {
          "color": [
           13,
           13,
           13,
           13,
           13,
           13,
           13,
           13,
           13,
           13,
           13,
           13,
           13,
           13
          ],
          "coloraxis": "coloraxis",
          "symbol": "circle"
         },
         "mode": "markers",
         "name": "13",
         "scene": "scene",
         "showlegend": true,
         "x": [
          -0.2974790334701538,
          -0.35974133014678955,
          0.13404929637908936,
          -0.21646834909915924,
          -0.27000150084495544,
          -0.1939338594675064,
          -0.3150660991668701,
          -0.23125216364860535,
          -0.034968577325344086,
          0.047165438532829285,
          0.07864928245544434,
          0.04491627588868141,
          -0.07404884696006775,
          0.06384061276912689
         ],
         "y": [
          0.13126550614833832,
          0.2977256774902344,
          0.015166464261710644,
          0.09088443964719772,
          0.09030722826719284,
          0.014435245655477047,
          0.21447832882404327,
          0.13740688562393188,
          0.013098911382257938,
          0.04421215504407883,
          0.018339654430747032,
          0.019815782085061073,
          0.04190215468406677,
          0.11053221672773361
         ],
         "z": [
          0.05858687311410904,
          5.340077332220972E-4,
          -0.17639824748039246,
          0.018780020996928215,
          0.06025403365492821,
          0.10816920548677444,
          0.10250765830278397,
          0.03981001302599907,
          -0.11572884023189545,
          -0.2641272246837616,
          -0.2604435682296753,
          -0.23914247751235962,
          -0.015277852304279804,
          0.09607277810573578
         ],
         "type": "scatter3d"
        },
        {
         "customdata": [
          [
           90,
           0,
           "Update Pallets Werkzeug to version 2.1.1 or higher, as this fixes the improper parsing of HTTP requests vulnerability (CVE-2022-29361)."
          ],
          [
           80,
           0,
           "Replace the hardcoded secrets with environment variables or a secrets management system."
          ],
          [
           80,
           0,
           "Update libexpat to a version later than 2.5.0 or consider using an alternative XML parsing library that is not vulnerable to this issue."
          ],
          [
           80,
           0,
           "Update Werkzeug to version 2.2.3 or later, which includes a patch for this issue."
          ],
          [
           60,
           0,
           "Update the Linux kernel to a version that includes the fix for CVE-2023-4273, or apply the relevant patch if updating is not feasible."
          ],
          [
           60,
           0,
           "Update libXpm to the latest version that fixes the vulnerability, as specified in the ELSA-2023-0383 security update."
          ],
          [
           60,
           0,
           "Upgrade Werkzeug to version 3.0.1 or later to patch the vulnerability and prevent denial of service attacks."
          ],
          [
           60,
           0,
           "Update the `libXpm` library to the latest version that includes a fix for the vulnerability (CVE-2022-44617)"
          ],
          [
           60,
           0,
           "Upgrade pip to version 23.3 or later, which resolves the issue by properly sanitizing Mercurial configuration options during package installation."
          ],
          [
           60,
           0,
           "Update the Jinja2 templates to use parameterized filters or escape user input using the ` MarkupSafe` filter, and consider implementing Content Security Policy (CSP) to restrict the types of scripts that can be executed."
          ],
          [
           60,
           0,
           "Update the libXpm library to a version that addresses the vulnerability (CVE-2022-4883, ELSA-2023-0383)"
          ],
          [
           50,
           0,
           "Avoid dynamic values in `importlib.import_module()` or use a whitelist to prevent running untrusted code."
          ],
          [
           30,
           0,
           "Upgrade tar to a version that properly warns users when extracting setuid or setgid files, such as tar 1.32 or later."
          ],
          [
           30,
           0,
           "Disable the `rmt` command in the `/etc/default/tar` file or restrict its usage to trusted networks only."
          ],
          [
           30,
           0,
           "Upgrade procps-ng and procps to version 3.3.16 or later, or consider using an alternative process listing utility that does not rely on the race condition vulnerability."
          ],
          [
           30,
           0,
           "Update the affected versions of util-linux to 2.37.4 or later, which addresses the vulnerability and prevents partial disclosure of arbitrary files."
          ],
          [
           30,
           0,
           "Apply the patch provided by the Linux kernel team for CVE-2021-3714 to fix the Remote Page Deduplication Attacks vulnerability."
          ],
          [
           30,
           0,
           "Update the 'tar' package to the latest version that includes the fix for CVE-2023-39804, or consider using an alternative archiving tool that is not vulnerable to this issue."
          ],
          [
           30,
           0,
           "Upgrade systemd to a version that addresses the issue, or consider using alternative logging solutions."
          ],
          [
           30,
           0,
           "Update systemd to the latest version, which addresses this issue (CVE-2023-31439)"
          ],
          [
           30,
           0,
           "Update the Perl installation to a version that fixes this issue, such as perl 5.18 or later."
          ],
          [
           30,
           0,
           "Update the Shadow package to a version that addresses this issue, such as 4.14 or later."
          ],
          [
           10,
           0,
           "Enable X-Ray tracing for the AWS Lambda function by adding the `tracing` configuration to the function, for example: `tracing = true`, in the Terraform code."
          ],
          [
           -1,
           0,
           "Update to a supported version of zlib, ideally one that has fixed this vulnerability (e.g., 1.4 or later), and consider removing or replacing MiniZip if it's not essential for your system."
          ],
          [
           -1,
           0,
           "Update libexpat to a version 2.5.0 or higher, which includes the fix for this vulnerability."
          ],
          [
           -1,
           0,
           "Update the redis-py library to version 4.5.3 or later to fix the async command information disclosure vulnerability (CVE-2023-28858)"
          ],
          [
           -1,
           0,
           "Update Google Chrome to version 116.0.5845.187 or later to fix the heap buffer overflow vulnerability in WebP Codec."
          ],
          [
           -1,
           0,
           "Upgrade to Redis-py version 4.4.4 or later, or upgrade to Redis-py version 4.5.x version 4.5.4 or later."
          ],
          [
           -1,
           0,
           "Update the libexpat library to a version greater than or equal to 2.6.2, which fixes the XML Entity Expansion vulnerability (CVE-2024-28757)"
          ]
         ],
         "hovertemplate": "Cluster=%{marker.color}<br>PC1=%{x}<br>PC2=%{y}<br>PC3=%{z}<br>Severity=%{customdata[0]}<extra></extra>",
         "legendgroup": "0",
         "marker": {
          "color": [
           0,
           0,
           0,
           0,
           0,
           0,
           0,
           0,
           0,
           0,
           0,
           0,
           0,
           0,
           0,
           0,
           0,
           0,
           0,
           0,
           0,
           0,
           0,
           0,
           0,
           0,
           0,
           0,
           0
          ],
          "coloraxis": "coloraxis",
          "symbol": "diamond"
         },
         "mode": "markers",
         "name": "0",
         "scene": "scene",
         "showlegend": true,
         "x": [
          -0.30817076563835144,
          -0.41868630051612854,
          -0.12831535935401917,
          -0.028073541820049286,
          0.04570353031158447,
          -0.10419817268848419,
          -0.013441420160233974,
          -0.07157304883003235,
          -0.2594415545463562,
          -0.40554481744766235,
          -0.09760682284832001,
          -0.23809729516506195,
          -0.1930389553308487,
          -0.1862671971321106,
          -0.04976031184196472,
          -0.11146824061870575,
          0.06971396505832672,
          -0.09331431239843369,
          -0.1068047285079956,
          -0.022718437016010284,
          -0.13426533341407776,
          -0.07708848267793655,
          -0.17912739515304565,
          -0.07841350883245468,
          -0.13816842436790466,
          -0.20883233845233917,
          -0.019645677879452705,
          -0.19066302478313446,
          -0.22043806314468384
         ],
         "y": [
          -0.07162337005138397,
          0.12127796560525894,
          -0.15497474372386932,
          0.015324436128139496,
          -0.007752127479761839,
          -0.14849452674388885,
          -0.20164458453655243,
          -0.1797199249267578,
          0.01015337835997343,
          0.1226307824254036,
          -0.09380169212818146,
          0.016426146030426025,
          0.03571849688887596,
          0.020320827141404152,
          0.05691606551408768,
          -0.024297567084431648,
          0.01715783029794693,
          -0.18540073931217194,
          0.08882084488868713,
          0.12231747061014175,
          0.08727267384529114,
          -0.044637374579906464,
          -0.06926199793815613,
          -0.2333155870437622,
          -0.07852749526500702,
          0.04219048097729683,
          -0.12986257672309875,
          0.056600190699100494,
          -0.06652671843767166
         ],
         "z": [
          -0.06643513590097427,
          0.028307627886533737,
          -0.04100893810391426,
          0.03966156393289566,
          0.1490376740694046,
          -0.002160340314731002,
          0.01431980263441801,
          0.030509617179632187,
          0.031896013766527176,
          0.12320501357316971,
          0.08145664632320404,
          0.09056466072797775,
          0.28922393918037415,
          0.3152850270271301,
          0.1074758991599083,
          0.2362738400697708,
          -0.020231960341334343,
          0.06137419864535332,
          0.14927297830581665,
          0.16048294305801392,
          0.0943884551525116,
          0.05293619632720947,
          0.15674614906311035,
          0.09536001831293106,
          -9.843679144978523E-4,
          0.08488204330205917,
          -0.010313310660421848,
          0.06375300139188766,
          0.02469458617269993
         ],
         "type": "scatter3d"
        },
        {
         "customdata": [
          [
           80,
           9,
           "Update curl to the latest version, which includes a maximum header size limit and prevents out-of-heap memory issues."
          ],
          [
           80,
           9,
           "Upgrade to the latest version of libcurl (or use a patched version) that addresses the vulnerability, as described in CVE-2024-2398"
          ],
          [
           80,
           9,
           "Update all affected HTTP/2 enabled web servers to the latest version that includes the fix for CVE-2023-44487, or consider disabling HTTP/2 protocol if not necessary."
          ],
          [
           80,
           9,
           "Upgrade to a version of curl that fixes the vulnerability, such as version 7.85.0 or later."
          ],
          [
           60,
           9,
           "Disable cookies for transfers or explicitly set the cookie source to load cookies from a specific file instead of relying on the default behavior."
          ],
          [
           60,
           9,
           "Update nghttp2 library to version 1.61.0 or later, which limits the number of CONTINUATION frames accepted per stream and mitigates this vulnerability."
          ],
          [
           60,
           9,
           "Update curl to the latest version, which includes a patch for this vulnerability (CVE-2022-43552)."
          ],
          [
           60,
           9,
           "Update the curl package to the latest version, as this issue has been patched in later releases."
          ],
          [
           60,
           9,
           "Update the `libcurl` library to the latest version, which should resolve the FTP too eager connection reuse issue."
          ],
          [
           30,
           9,
           "Upgrade to a version that fixes the vulnerability (CVE-2023-27533), or use a secure alternative like OpenSSH for remote access."
          ],
          [
           30,
           9,
           "Update the affected libraries (libcurl) to the latest version or apply the patch provided by the vendor."
          ],
          [
           30,
           9,
           "Update the affected library (libcurl) to a version that addresses this vulnerability, or consider using SSH connection reuse with a more reasonable timeout."
          ],
          [
           30,
           9,
           "Upgrade the `libcurl` library to a version that fixes this issue, such as v7.84.0 or later, to ensure proper QUIC certificate verification."
          ],
          [
           30,
           9,
           "Update the affected GnuTLS library versions to a version that addresses this vulnerability, such as upgrading from libgnutls30 to a later version."
          ],
          [
           30,
           9,
           "Update the curl library to a version that addresses CVE-2023-27536, which resolves the GSS delegation too eager connection re-use issue."
          ],
          [
           -1,
           9,
           "Upgrade curl to the latest version that includes the fix for CVE-2023-27537."
          ],
          [
           -1,
           9,
           "Update curl to version 7.87.1 or later, which fixes this HSTS bypass via IDN vulnerability."
          ],
          [
           -1,
           9,
           "Upgrade curl to version 7.88.1 or later to fix this vulnerability and ensure HSTS functionality is properly carried across multiple requests."
          ],
          [
           -1,
           9,
           "Upgrade to a version of curl that is patched for this vulnerability, such as v7.89.0 or later."
          ],
          [
           -1,
           9,
           "Upgrade curl to version 7.88.0 or later, as this vulnerability has been patched in the affected versions."
          ]
         ],
         "hovertemplate": "Cluster=%{marker.color}<br>PC1=%{x}<br>PC2=%{y}<br>PC3=%{z}<br>Severity=%{customdata[0]}<extra></extra>",
         "legendgroup": "9",
         "marker": {
          "color": [
           9,
           9,
           9,
           9,
           9,
           9,
           9,
           9,
           9,
           9,
           9,
           9,
           9,
           9,
           9,
           9,
           9,
           9,
           9,
           9
          ],
          "coloraxis": "coloraxis",
          "symbol": "square"
         },
         "mode": "markers",
         "name": "9",
         "scene": "scene",
         "showlegend": true,
         "x": [
          -0.1532498300075531,
          -0.169851616024971,
          -0.16114141047000885,
          -0.27244406938552856,
          -0.3181707262992859,
          -0.16547243297100067,
          -0.2536649703979492,
          -0.3520827889442444,
          -0.31548142433166504,
          -0.3808276057243347,
          -0.3078943192958832,
          -0.4524032771587372,
          -0.4258177876472473,
          -0.370335191488266,
          -0.3481176793575287,
          -0.4358532726764679,
          -0.4060432016849518,
          -0.3888706564903259,
          -0.3915887773036957,
          -0.2896498143672943
         ],
         "y": [
          -0.26042237877845764,
          -0.1409187614917755,
          -0.10567472875118256,
          -0.2379264235496521,
          -0.1068674847483635,
          -0.18282866477966309,
          -0.1701493114233017,
          -0.16370892524719238,
          -0.20027323067188263,
          -0.014748084358870983,
          -0.1784377545118332,
          -0.1634397655725479,
          -0.21148410439491272,
          -0.144868403673172,
          -0.034920405596494675,
          -0.14789468050003052,
          -0.22246001660823822,
          -0.10693520307540894,
          -0.13864047825336456,
          -0.24185697734355927
         ],
         "z": [
          -0.1576995998620987,
          -0.2611483931541443,
          -0.17730364203453064,
          -0.12807276844978333,
          -0.10583819448947906,
          -0.09987442195415497,
          -0.2841109037399292,
          -0.19428123533725739,
          -0.1652243435382843,
          -0.10715284943580627,
          -0.104634128510952,
          -0.1811835616827011,
          -0.2917400896549225,
          -0.26574039459228516,
          -0.2774737775325775,
          -0.3112839460372925,
          -0.27924084663391113,
          -0.24151669442653656,
          -0.23254479467868805,
          -0.1808028370141983
         ],
         "type": "scatter3d"
        },
        {
         "customdata": [
          [
           80,
           3,
           "Upgrade to OpenSSL version that has patched this vulnerability, such as 1.1.1l or later, or consider using a secure alternative library."
          ],
          [
           60,
           3,
           "Update OpenSSL to the latest version, which includes a fix for this vulnerability (CVE-2022-4450)."
          ],
          [
           60,
           3,
           "Update OpenSSL to version 3.1 or higher, as the issue is not present in these versions."
          ],
          [
           60,
           3,
           "Update to the latest version of libgcrypt (at least v1.9.10) to address this vulnerability and prevent remote attackers from initiating a Bleichenbacher-style attack."
          ],
          [
           60,
           3,
           "Update GnuTLS to the latest version, as a patch has been released to address this vulnerability (CVE-2024-28834)"
          ],
          [
           60,
           3,
           "Upgrade to OpenSSL version 1.1.1q or later, which addresses this issue."
          ],
          [
           60,
           3,
           "Update the OpenSSL library to version 1.1.1m or later, which resolves the X.509 Name Constraints Read Buffer Overflow vulnerability (CVE-2022-4203)"
          ],
          [
           60,
           3,
           "Update OpenSSL to the latest version, which includes patches for this vulnerability (CVE-2023-0464), or disable policy processing by passing the `-policy` argument or using the `X509_VERIFY_PARAM_set1_policies()` function."
          ],
          [
           60,
           3,
           "Upgrade to OpenSSL version 1.1.1t or later, as this issue has been resolved in the specified version."
          ],
          [
           60,
           3,
           "Upgrade to a version of OpenSSL that addresses this issue, or consider using alternative cryptographic libraries and protocols to minimize the risk of Denial of Service attacks."
          ],
          [
           60,
           3,
           "Upgrade to OpenSSL version 3.0.2 or later, which resolves the vulnerability CVE-2023-0216."
          ],
          [
           60,
           3,
           "Upgrade to a fixed version of OpenSSL (e.g., OpenSSL 1.1.1k or later) to resolve the issue and ensure proper authentication of associated data entries."
          ],
          [
           60,
           3,
           "Update OpenSSL to the latest version that includes the fix for CVE-2024-0727, or restrict access to the vulnerable APIs and only allow trusted sources to load PKCS12 files."
          ],
          [
           60,
           3,
           "Update the OpenSSL library to a version that fixes the NULL pointer dereference issue, such as OpenSSL 3.0.2 or later."
          ],
          [
           60,
           3,
           "Update to OpenSSL version 1.1.1n or later, which resolves this timing-based side channel vulnerability (CVE-2022-4304)."
          ],
          [
           30,
           3,
           "Upgrade OpenLDAP to a version that properly parses OpenSSL-style multi-keyword mode cipher strings, such as OpenLDAP 2.4.47 or later."
          ],
          [
           30,
           3,
           "Update OpenSSL to a version that fixes this issue, such as 1.0.0 or later, and ensure all vulnerable instances are updated."
          ],
          [
           30,
           3,
           "Update to the latest version of OpenSSL that addresses this issue, which is OpenSSL 1.0.2 or later."
          ],
          [
           30,
           3,
           "Upgrade to a newer version of Libgcrypt (at least 1.9.0) which addresses this issue and ensures semantic security for ElGamal encryption."
          ],
          [
           30,
           3,
           "Remove or replace the Dual_EC_DRBG algorithm with a more secure random number generator, such as Fortuna or Yarrow-Ulam, to prevent potential attacks on cryptographic protection mechanisms."
          ],
          [
           30,
           3,
           "Update OpenLDAP package to version openldap-2.4.46-10.el8 or later, which includes the fix for this vulnerability."
          ],
          [
           -1,
           3,
           "Upgrade GnuTLS to the latest version that includes a complete fix for CVE-2023-5981, which should address the incomplete resolution identified as CVE-2024-0553."
          ]
         ],
         "hovertemplate": "Cluster=%{marker.color}<br>PC1=%{x}<br>PC2=%{y}<br>PC3=%{z}<br>Severity=%{customdata[0]}<extra></extra>",
         "legendgroup": "3",
         "marker": {
          "color": [
           3,
           3,
           3,
           3,
           3,
           3,
           3,
           3,
           3,
           3,
           3,
           3,
           3,
           3,
           3,
           3,
           3,
           3,
           3,
           3,
           3,
           3
          ],
          "coloraxis": "coloraxis",
          "symbol": "x"
         },
         "mode": "markers",
         "name": "3",
         "scene": "scene",
         "showlegend": true,
         "x": [
          -0.16800671815872192,
          -0.2014957070350647,
          -0.2037825584411621,
          -0.23825150728225708,
          -0.1867503821849823,
          -0.1571090668439865,
          -0.20609496533870697,
          -0.21976445615291595,
          -0.22849494218826294,
          -0.34967735409736633,
          -0.2156302034854889,
          -0.33010730147361755,
          -0.11320527642965317,
          -0.20417776703834534,
          -0.2619926333427429,
          -0.3553772270679474,
          -0.3122873902320862,
          -0.10438073426485062,
          -0.3151260316371918,
          -0.21210026741027832,
          -0.18475297093391418,
          -0.284121036529541
         ],
         "y": [
          -0.14806081354618073,
          -0.01658935844898224,
          -0.02475268952548504,
          -0.03696916252374649,
          -0.03736552223563194,
          -0.0512971393764019,
          -0.19295020401477814,
          -0.20506718754768372,
          0.00584803381934762,
          -0.14516590535640717,
          -0.037252236157655716,
          0.07590774446725845,
          -0.08037257194519043,
          -0.04299004748463631,
          0.02527921460568905,
          -0.06905921548604965,
          0.13427045941352844,
          -0.12589848041534424,
          -0.13900278508663177,
          0.11583802849054337,
          -0.11176997423171997,
          0.013437575660645962
         ],
         "z": [
          -0.2637546956539154,
          -0.2549248933792114,
          -0.24053195118904114,
          -0.2257547229528427,
          -0.15912219882011414,
          -0.31489741802215576,
          -0.19209247827529907,
          -0.18164801597595215,
          -0.2511112093925476,
          -0.19012384116649628,
          -0.2375955730676651,
          -0.2403622418642044,
          -0.20212587714195251,
          -0.29097673296928406,
          -0.24228708446025848,
          -0.23309381306171417,
          -0.21300455927848816,
          -0.2730049192905426,
          -0.1778019368648529,
          -0.12941625714302063,
          -0.23906823992729187,
          -0.27761784195899963
         ],
         "type": "scatter3d"
        },
        {
         "customdata": [
          [
           80,
           10,
           "Ensure that all setuid files are properly secured with strict permissions and ownership, and consider using a Linux distribution or package manager that has already applied the necessary patches for CVE-2021-3847."
          ],
          [
           80,
           10,
           "Update the e2fsprogs package to a version that is not vulnerable (e.g. 1.46.6 or later) and ensure all systems are reboots after the update to ensure the new libraries are loaded."
          ],
          [
           80,
           10,
           "Update the Linux kernel to a version that addresses the issue, or apply the patch provided by the Linux community to fix the slab-out-of-bound read vulnerability (CVE-2023-2176)."
          ],
          [
           80,
           10,
           "Update the Linux kernel to a version that has been patched for CVE-2023-3397, or apply the relevant patch to the existing kernel version."
          ],
          [
           80,
           10,
           "Update the Linux kernel to a version that includes the fix for CVE-2019-19814, or apply the patch from the kernel's bug tracker."
          ],
          [
           80,
           10,
           "Upgrade the Linux kernel to a version past commit 0323bce598eea038714f941ce2b22541c46d488f."
          ],
          [
           80,
           10,
           "Apply the patch for CVE-2023-20588, which addresses the division-by-zero vulnerability affecting AMD processors."
          ],
          [
           80,
           10,
           "Update to a kernel version that addresses the issue (e.g., Linux 6.2 or later) or apply the relevant patch from the Linux Kernel Mailing List."
          ],
          [
           80,
           10,
           "Update the Linux kernel to a version that includes the fix for CVE-2019-19449, such as 5.2.14 or later."
          ],
          [
           80,
           10,
           "Set the `dumpable` flag to 0 for all SUID binaries and ensure that the `core_pattern` is set to an absolute path or a value that does not rely on the current working directory."
          ],
          [
           80,
           10,
           "Upgrade the Linux kernel to a version past commit 3e337087c3b5805fe0b8a46ba622a962880b5d64."
          ],
          [
           80,
           10,
           "Upgrade the Linux kernel to a version that includes the fix for CVE-2023-4128, such as kernel version 6.1 or later."
          ],
          [
           80,
           10,
           "Update the affected Linux library to the latest version that includes a fix for CVE-2023-1194, or consider using a vulnerability management solution to automate the process."
          ],
          [
           60,
           10,
           "Update the Linux kernel to a version that addresses CVE-2023-3773, or apply the relevant patch to fix the out-of-bounds read vulnerability in the XFRM subsystem."
          ],
          [
           60,
           10,
           "Update the Linux kernel to a version that addresses the issue, specifically updating to 6.4.2 or higher."
          ],
          [
           60,
           10,
           "Update the Linux kernel to a version that includes the fix for CVE-2023-4155, which is available in version 6.2.13 or later."
          ],
          [
           30,
           10,
           "Upgrade the Linux kernel to a version that addresses the CVE-2022-2961 vulnerability, such as by updating the OS or using a kernel patch."
          ],
          [
           30,
           10,
           "Upgrade the Linux kernel to a version greater than 3.1 or patch the kernel with the relevant fix (e.g., https://lkml.org/lkml/2012/2/14/345)"
          ],
          [
           30,
           10,
           "Upgrade to a newer version of the Linux kernel (3.9 or later) that fixes this vulnerability, or apply the relevant patch to the affected kernel version."
          ],
          [
           30,
           10,
           "Update systemd to version 211 or later, which includes the fix for this vulnerability."
          ],
          [
           30,
           10,
           "Configure auditd to log all open_by_handle_at system calls, regardless of user capability, by setting the following in /etc/audit/audit.conf: log_format = RAW; log_group =*; log_priority = DEBUG; and then restarting the audit service."
          ],
          [
           30,
           10,
           "Update to a version of GNU Coreutils that addresses the race condition vulnerability, such as 8.32 or later."
          ],
          [
           30,
           10,
           "Update the Linux kernel to a version that addresses the vulnerability (CVE-2016-8660) or disable XFS support until a patch is applied."
          ],
          [
           30,
           10,
           "Update the vulnerable OpenSSH version to a patched one, such as OpenSSH 4.7p1 or later."
          ],
          [
           30,
           10,
           "Update the Linux kernel to a version greater than 3.1 or patch the vulnerable devices (/dev/pts/ and /dev/tty*) to prevent unauthorized access to sensitive keystroke information."
          ],
          [
           30,
           10,
           "Update the Linux kernel to a version greater than or equal to 3.2, which patches the vulnerability and prevents local users from obtaining sensitive keystroke information via access to /proc/interrupts."
          ],
          [
           30,
           10,
           "Upgrade to a vulnerable version-free version of GNU Coreutils, such as 8.32 or later."
          ],
          [
           30,
           10,
           "Upgrade the Linux kernel to a version that no longer has this vulnerability (e.g., 5.17 or later), and consider recompiling affected binary files with more modern compiler versions."
          ],
          [
           30,
           10,
           "Update the initscripts in rPath Linux 1 to set secure permissions for the /var/log/btmp file, and ensure sshd is configured to log failed authentication attempts."
          ],
          [
           30,
           10,
           "Upgrade the kernel to a version that includes the fix for the vulnerability, such as kernel-3.11 or later."
          ],
          [
           30,
           10,
           "Update the Linux kernel to a version that addresses this issue, such as 6.2 or later."
          ],
          [
           30,
           10,
           "Update OpenLDAP to version 2.4.46 or later, as it addresses the vulnerability by changing the way slapd creates its PID file."
          ],
          [
           30,
           10,
           "Set the `/proc` filesystem to read-only mode by running the command `mount -o ro,mode=ro proc proc` before performing chroot operations."
          ],
          [
           30,
           10,
           "Upgrade the Linux kernel to a version after 4.7 or patch the snd_compr_tstamp function to properly initialize the timestamp data structure."
          ],
          [
           30,
           10,
           "This is a disputed finding, and therefore no action is required. The kernel engineers dispute the finding, suggesting that it may only be relevant if new callers were added that misuse the info->owner field in an unsafe way."
          ],
          [
           30,
           10,
           "Restrict access to sensitive files and directories by setting proper permissions, such as setting the sticky bit (chmod o+t) and ensuring that the owner of a directory has read-only permission (chmod ugo=r). Additionally, consider implementing SELinux or AppArmor to further restrict privileges."
          ],
          [
           30,
           10,
           "Update the affected systemd packages to the latest version available, as this issue is already fixed in newer releases."
          ],
          [
           30,
           10,
           "Apply the patch provided by the Linux kernel team to fix the out-of-bounds read vulnerability in the SMC protocol stack, or upgrade to a fixed version of the kernel if possible."
          ],
          [
           30,
           10,
           "Disable the CONFIG_IA32_AOUT kernel configuration option to mitigate the vulnerability"
          ],
          [
           30,
           10,
           "Update the Linux kernel to version 5.10.17 or later, which includes a fix for this vulnerability."
          ],
          [
           30,
           10,
           "Apply the patch or update to NTFS3 subsystem in Linux kernel (CVE-2022-3238) to fix this vulnerability."
          ],
          [
           30,
           10,
           "Update the shadow-utils package to a version that fixes the setuid program configuration, such as shadow-4.8-3 or later."
          ],
          [
           30,
           10,
           "Update the Linux kernel to a version that includes the fix for CVE-2019-19378, or apply the patch provided in the commit description."
          ],
          [
           30,
           10,
           "Update the `sysvinit` package to the latest version and ensure the `--no-root` option is not used in the installer, or use an alternative init system."
          ],
          [
           30,
           10,
           "Disable deduplication to prevent CAIN attacks and protect ASLR."
          ],
          [
           0,
           10,
           "Review and refactor the memory access checks in mem_protect.c to ensure they are correctly placed, and consider using memory protection mechanisms such as Memory Protection Keys (MPK) or Address Space Layout Randomization (ASLR) to prevent local privilege escalation."
          ],
          [
           -1,
           10,
           "Update GCC to a version that fixes the issue (e.g. GCC 12.2) or use alternative stack protection mechanisms (e.g. ASan, UBSan)"
          ]
         ],
         "hovertemplate": "Cluster=%{marker.color}<br>PC1=%{x}<br>PC2=%{y}<br>PC3=%{z}<br>Severity=%{customdata[0]}<extra></extra>",
         "legendgroup": "10",
         "marker": {
          "color": [
           10,
           10,
           10,
           10,
           10,
           10,
           10,
           10,
           10,
           10,
           10,
           10,
           10,
           10,
           10,
           10,
           10,
           10,
           10,
           10,
           10,
           10,
           10,
           10,
           10,
           10,
           10,
           10,
           10,
           10,
           10,
           10,
           10,
           10,
           10,
           10,
           10,
           10,
           10,
           10,
           10,
           10,
           10,
           10,
           10,
           10,
           10
          ],
          "coloraxis": "coloraxis",
          "symbol": "cross"
         },
         "mode": "markers",
         "name": "10",
         "scene": "scene",
         "showlegend": true,
         "x": [
          0.12168692797422409,
          0.12184108048677444,
          0.22108179330825806,
          0.24265219271183014,
          0.3388229310512543,
          0.1834253966808319,
          0.13298480212688446,
          0.15421590209007263,
          0.2994462847709656,
          0.06579937040805817,
          0.3207263946533203,
          0.31958436965942383,
          0.08185642212629318,
          0.2612898647785187,
          0.2969663441181183,
          0.06283892691135406,
          0.17661131918430328,
          0.28256693482398987,
          0.19524383544921875,
          -0.04951612278819084,
          0.12563422322273254,
          -0.05658344179391861,
          0.1347324550151825,
          -0.16427360475063324,
          0.20126543939113617,
          0.24996505677700043,
          0.11230627447366714,
          0.22239136695861816,
          -0.1082790344953537,
          0.174756720662117,
          0.20418700575828552,
          -0.017420148476958275,
          0.1813189834356308,
          0.11766274273395538,
          0.2594108581542969,
          -0.12697629630565643,
          0.013490372337400913,
          0.035136040300130844,
          0.18690499663352966,
          0.21871745586395264,
          0.13618412613868713,
          -0.038965754210948944,
          0.29319825768470764,
          0.04795355349779129,
          0.17944751679897308,
          0.2651025354862213,
          0.11406276375055313
         ],
         "y": [
          0.33181461691856384,
          -0.01017004530876875,
          0.11193053424358368,
          0.15696802735328674,
          0.06990847736597061,
          0.12049812823534012,
          0.14061084389686584,
          0.007877849042415619,
          0.08480367809534073,
          0.1481320708990097,
          0.07920574396848679,
          0.1832377314567566,
          -0.026827454566955566,
          -0.07313898950815201,
          0.03810232877731323,
          0.24053528904914856,
          0.11601631343364716,
          0.16749440133571625,
          0.24909061193466187,
          0.21426205337047577,
          0.16225862503051758,
          0.11749909818172455,
          0.008866171352565289,
          0.017599904909729958,
          0.2360038161277771,
          0.26659029722213745,
          0.10570982098579407,
          0.013240247964859009,
          0.08539173007011414,
          0.17266391217708588,
          -0.004009899217635393,
          0.07175908237695694,
          0.25298789143562317,
          0.062200289219617844,
          0.1040433719754219,
          0.19606702029705048,
          0.10049183666706085,
          -0.022860705852508545,
          0.1865096092224121,
          0.22357626259326935,
          0.16532188653945923,
          0.1906813532114029,
          -0.008046240545809269,
          0.2113722562789917,
          0.21359723806381226,
          0.18905669450759888,
          0.04284864291548729
         ],
         "z": [
          0.2893722951412201,
          0.18364225327968597,
          -0.06856261193752289,
          0.2019728124141693,
          0.2562779188156128,
          0.07410576939582825,
          -0.04886278882622719,
          0.030350107699632645,
          0.2721804082393646,
          0.26579946279525757,
          0.10710804164409637,
          -0.0071535068564116955,
          -0.037635695189237595,
          0.06861838698387146,
          0.05644654482603073,
          0.008496427908539772,
          0.0029380463529378176,
          -0.07196449488401413,
          0.0010554840555414557,
          0.3170127272605896,
          0.09504565596580505,
          0.234540656208992,
          0.1027626320719719,
          1.8045601609628648E-4,
          -0.06726021319627762,
          -0.05038565397262573,
          0.24372225999832153,
          0.11230737715959549,
          0.2165241241455078,
          0.012978732585906982,
          0.15227243304252625,
          0.31459948420524597,
          0.11670142412185669,
          -0.023134833201766014,
          -0.02430632896721363,
          0.4237392842769623,
          0.1546122133731842,
          -0.005086458753794432,
          0.0487644225358963,
          -0.04459516704082489,
          0.1815229207277298,
          0.21008199453353882,
          0.21446605026721954,
          0.13271087408065796,
          -0.07987283915281296,
          0.036279357969760895,
          0.11901289969682693
         ],
         "type": "scatter3d"
        },
        {
         "customdata": [
          [
           80,
           6,
           "Disable or restrict policy processing in the OpenSSL configuration to prevent denial of service attacks."
          ],
          [
           80,
           6,
           "Upgrade CPAN.pm to version 2.35 or later, which includes TLS certificate verification for HTTPS downloads."
          ],
          [
           60,
           6,
           "Update to OpenSSL version that includes the fix for CVE-2023-3817, or disable excessive DH parameter checks by using a secure default value or implementing custom validation."
          ],
          [
           60,
           6,
           "Update GnuTLS to the latest version, which includes a fix for this vulnerability (CVE-2024-28835), or use an alternative TLS library if possible."
          ],
          [
           60,
           6,
           "Upgrade OpenSSL to the latest version that fixes the vulnerability (CVE-2023-6237) or apply the patch provided by the OpenSSL team."
          ],
          [
           60,
           6,
           "Upgrade to OpenSSL 3.0 or later, which addresses this issue by not performing excessive checks on DH keys and parameters."
          ],
          [
           60,
           6,
           "Update Certifi to the latest version (2022.12.07) to remove TrustCor root certificates and ensure compliance with Mozilla's trust store."
          ],
          [
           50,
           6,
           "Update the `ssl_policy` to `"
          ],
          [
           30,
           6,
           "Upgrade HTTP::Tiny to version 0.083 or later, which includes secure TLS certificate verification by default."
          ],
          [
           0,
           6,
           "Disable policy processing by default, and only enable it when necessary, by setting the `-policy` argument to `none` or omitting it altogether."
          ],
          [
           -1,
           6,
           "Update GnuTLS to the latest version, or consider using a trusted certificate authority to ensure proper chain validation."
          ],
          [
           -1,
           6,
           "Update certifi to version 2023.07.22 or later to remove the e-Tugra root certificates from the trusted store."
          ],
          [
           -1,
           6,
           "Update to a newer version of OpenSSL that addresses the issue, or patch the affected code if you are using an older version."
          ]
         ],
         "hovertemplate": "Cluster=%{marker.color}<br>PC1=%{x}<br>PC2=%{y}<br>PC3=%{z}<br>Severity=%{customdata[0]}<extra></extra>",
         "legendgroup": "6",
         "marker": {
          "color": [
           6,
           6,
           6,
           6,
           6,
           6,
           6,
           6,
           6,
           6,
           6,
           6,
           6
          ],
          "coloraxis": "coloraxis",
          "symbol": "circle"
         },
         "mode": "markers",
         "name": "6",
         "scene": "scene",
         "showlegend": true,
         "x": [
          -0.16501396894454956,
          -0.3503536283969879,
          -0.2579047381877899,
          -0.226877823472023,
          -0.3311713635921478,
          -0.2580804228782654,
          -0.3092542588710785,
          -0.39033442735671997,
          -0.3902445137500763,
          -0.4435543715953827,
          -0.41667407751083374,
          -0.3853626549243927,
          -0.27715858817100525
         ],
         "y": [
          -0.012274952605366707,
          -0.08537937700748444,
          -0.12078822404146194,
          -0.1347072869539261,
          -0.05728645995259285,
          -0.009410262107849121,
          0.10045143961906433,
          -0.03322545439004898,
          -0.013997578993439674,
          -0.048149242997169495,
          -0.03780448064208031,
          0.02698858082294464,
          0.030150156468153
         ],
         "z": [
          -0.1353086233139038,
          -0.22291135787963867,
          -0.30923160910606384,
          -0.2565779685974121,
          -0.3018471300601959,
          -0.2952510714530945,
          -0.20462140440940857,
          -0.22798782587051392,
          -0.2562856674194336,
          -0.21768927574157715,
          -0.24874792993068695,
          -0.1576872617006302,
          -0.3175112307071686
         ],
         "type": "scatter3d"
        },
        {
         "customdata": [
          [
           80,
           1,
           "Enable the 'Randomize per-cpu entry area' feature in /arch/x86/mm/cpu_entry_area.c by setting KASLR to 1, which will help mitigate the risk of per-cpu entry area leaks and unauthorized memory access."
          ],
          [
           80,
           1,
           "Update the Linux kernel to a version that addresses this vulnerability (CVE-2013-7445) or apply the patch provided by the kernel developers."
          ],
          [
           80,
           1,
           "Update the Linux kernel to a version of 6.4.10 or later to resolve the use-after-free vulnerability in l2cap_sock_release."
          ],
          [
           80,
           1,
           "Update the Linux kernel to a version that addresses the issue (CVE-2023-4004), or apply the relevant patch if an update is not available."
          ],
          [
           60,
           1,
           "Update the Linux kernel to a version that fixes the null-pointer-dereference bug (CVE-2023-2898) or apply the patch provided in the security advisory."
          ],
          [
           60,
           1,
           "Upgrade the Linux kernel to a version that includes the fix for CVE-2023-31083 or apply the relevant patch to resolve the race condition."
          ],
          [
           60,
           1,
           "Update the Linux kernel to version 6.2.1 or later, which addresses this issue (CVE-2023-31082)."
          ],
          [
           60,
           1,
           "Apply the kernel patch for CVE-2023-23005 to prevent potential memory corruption issues."
          ],
          [
           60,
           1,
           "Update the Linux kernel to a version that addresses the use-after-free vulnerability CVE-2023-3863 (CVE-2022-3863) or apply the relevant patch, such as USN-5224-1 (for Ubuntu-based systems)."
          ],
          [
           60,
           1,
           "Update the Linux kernel to a version that correctly initializes socket UID as per upstream commits a096ccca6e50 and 66b2c338adce."
          ],
          [
           60,
           1,
           "Ensure that task processes are properly ended by implementing a robust process management strategy, such as using the `pkill` command or the `SIGTERM` signal to terminate processes, and consider implementing a Linux kernel patch (CVE-2019-20794) to prevent resource exhaustion."
          ],
          [
           60,
           1,
           "Apply the patch provided by the Linux kernel developers to fix the missing lock in io_uring/msg_ring.c for IOPOLL and prevent denial of service attacks."
          ],
          [
           60,
           1,
           "Update the Linux kernel to a version that addresses this vulnerability, as described in CVE-2023-0597."
          ],
          [
           60,
           1,
           "Update the Linux kernel to a version that includes the fix for CVE-2023-4133, or apply the patch provided by the vendor."
          ],
          [
           60,
           1,
           "Update the Linux kernel to a version that addresses the issue, such as 5.3 or later."
          ],
          [
           60,
           1,
           "Update the Linux kernel to a version that addresses the CVE-2023-1206 vulnerability, which fixes the hash collision flaw in the IPv6 connection lookup table."
          ],
          [
           60,
           1,
           "Update to a vulnerable version of the Linux kernel or apply the patch provided by the upstream developers."
          ],
          [
           60,
           1,
           "Update the Linux kernel to a version that includes the fix for CVE-2023-3772, such as upgrading from a vulnerable version like Linux 5.4.79 or earlier to a patched version like Linux 5.15.35 or later."
          ],
          [
           60,
           1,
           "Update the Linux kernel to a version that includes the fix for CVE-2022-4543, or apply the patch provided by the Linux kernel team."
          ],
          [
           60,
           1,
           "Update the Linux kernel to version 5.12 or later, which includes the fix for this vulnerability (CVE-2020-36694), to prevent potential use-after-free attacks."
          ],
          [
           60,
           1,
           "Update the Linux kernel to a version that addresses the vulnerability (CVE-2020-14304) or patch the affected drivers using ethtool"
          ],
          [
           30,
           1,
           "Apply the patch for CVE-2019-12456 to fix the kernel double fetch vulnerability."
          ],
          [
           30,
           1,
           "Update the Linux kernel to version 2.6.32 or later, which includes a fix for this vulnerability (CVE-2010-5321)."
          ],
          [
           30,
           1,
           "Update the Linux kernel to a version that is not vulnerable, such as 6.2 or later."
          ],
          [
           30,
           1,
           "Review and update the kernel patch for the affected driver to include proper error handling, specifically checking the return value of alloc_workqueue()."
          ],
          [
           30,
           1,
           "Update the Linux kernel to a version that is not vulnerable (e.g. version 5.2 or higher) or apply the patch provided by the Linux kernel maintainers to fix the null pointer dereference."
          ],
          [
           30,
           1,
           "Update the Linux kernel to a version that fixes this issue, or consider applying the patch provided in the CVE-2019-12378 advisory."
          ],
          [
           30,
           1,
           "Update the Linux kernel to a version that addresses the null pointer dereference vulnerability (CVE-2019-16234)"
          ],
          [
           30,
           1,
           "Update the Linux kernel to a version that addresses the vulnerability (e.g., update from 5.2.14 to a later version)."
          ],
          [
           30,
           1,
           "Update the Linux kernel to version 6.3 or later, which includes a fix for this issue (CVE-2023-31081)"
          ],
          [
           30,
           1,
           "Update the Linux kernel to a version that addresses the vulnerability, such as version 4.14.108 or later, or apply the patch provided in the CVE-2018-17977 advisory."
          ],
          [
           30,
           1,
           "Update the Linux kernel to a version that includes the fix for CVE-2019-16233, such as kernel 5.3 or later."
          ],
          [
           30,
           1,
           "Update the Linux kernel to a version that addresses this vulnerability (e.g., patch level 4.12.10 or later), which will flush the node and node_ext caches and prevent the cache leak."
          ],
          [
           30,
           1,
           "Update the Linux kernel to a version that includes the fix for CVE-2019-16230, which addresses the null pointer dereference issue in drivers/gpu/drm/radeon/radeon_display.c."
          ],
          [
           30,
           1,
           "Update the Linux kernel to a version that addresses this issue, such as upgrading from 5.1.5 to a later version that includes a fix for CVE-2019-12382."
          ],
          [
           30,
           1,
           "Update the Linux kernel to a version that addresses this vulnerability, such as upgrading from 6.2 to 6.3 or later."
          ],
          [
           30,
           1,
           "Update the Linux kernel to a version that fixes the NULL pointer dereference vulnerability (CVE-2018-12928), or apply the patch provided by the upstream kernel developers."
          ],
          [
           30,
           1,
           "Update the Linux kernel to a version that includes the fix for this vulnerability, such as version 4.13 or later."
          ],
          [
           30,
           1,
           "Upgrade the Linux kernel to a version that includes the fix for this issue, or implement additional logging and monitoring to detect and prevent denial-of-service attacks in the efi subsystem."
          ],
          [
           30,
           1,
           "Upgrade to a supported version of Linux kernel (e.g., 3.x or 4.x) that does not have this vulnerability."
          ],
          [
           30,
           1,
           "Disable IPv6 or restrict its use to trusted networks to prevent remote attackers from determining whether a host is sniffing the network."
          ],
          [
           30,
           1,
           "Update the Linux kernel to a version that includes the fix for CVE-2019-12381, which addresses the unchecked kmalloc of new_ra in ip_ra_control."
          ],
          [
           30,
           1,
           "Update the Linux kernel to a version that addresses this vulnerability, such as upgrading from 4.7 or earlier to a later version."
          ],
          [
           30,
           1,
           "Upgrade the Linux kernel to a version that has been patched for this vulnerability (CVE-2016-10723), or apply the proposed patches if they have been accepted by the software maintainer."
          ],
          [
           30,
           1,
           "Apply the relevant kernel patch to address the use-after-free vulnerability (CVE-2023-4134) and ensure regular security updates are applied to prevent similar issues."
          ],
          [
           30,
           1,
           "Upgrade to a version of the Linux kernel that is not vulnerable (e.g., kernel 2.6.17 or later) or apply the patch provided in the referenced CVE-2007-3719."
          ],
          [
           30,
           1,
           "Update the affected kernel version to a patched one, such as 5.15.22 or later, which includes the fix for this race condition bug (CVE-2022-1247)."
          ],
          [
           30,
           1,
           "Apply the patch or upgrade to a fixed kernel version (e.g. Linux kernel 5.2.17) to resolve the null-pointer dereference vulnerability in the drivers/net/wireless/marvell/libertas/if_sdio.c file."
          ]
         ],
         "hovertemplate": "Cluster=%{marker.color}<br>PC1=%{x}<br>PC2=%{y}<br>PC3=%{z}<br>Severity=%{customdata[0]}<extra></extra>",
         "legendgroup": "1",
         "marker": {
          "color": [
           1,
           1,
           1,
           1,
           1,
           1,
           1,
           1,
           1,
           1,
           1,
           1,
           1,
           1,
           1,
           1,
           1,
           1,
           1,
           1,
           1,
           1,
           1,
           1,
           1,
           1,
           1,
           1,
           1,
           1,
           1,
           1,
           1,
           1,
           1,
           1,
           1,
           1,
           1,
           1,
           1,
           1,
           1,
           1,
           1,
           1,
           1,
           1
          ],
          "coloraxis": "coloraxis",
          "symbol": "diamond"
         },
         "mode": "markers",
         "name": "1",
         "scene": "scene",
         "showlegend": true,
         "x": [
          0.3277592360973358,
          0.29944315552711487,
          0.15088987350463867,
          0.23506440222263336,
          0.3470383286476135,
          0.23895959556102753,
          0.2954758405685425,
          0.2792905271053314,
          0.06136607378721237,
          0.12126602232456207,
          0.25141921639442444,
          0.2698436677455902,
          0.3194197118282318,
          0.14460475742816925,
          0.30492115020751953,
          0.07108376920223236,
          0.19586345553398132,
          0.2952434718608856,
          0.18319891393184662,
          0.16910883784294128,
          0.23005585372447968,
          0.33845075964927673,
          0.3726203441619873,
          0.37863537669181824,
          0.47265589237213135,
          0.25304946303367615,
          0.4161532521247864,
          0.415769100189209,
          0.41615381836891174,
          0.33668604493141174,
          0.25805699825286865,
          0.4134826958179474,
          0.16688242554664612,
          0.37852174043655396,
          0.3780721426010132,
          0.34315136075019836,
          0.40797099471092224,
          0.20882010459899902,
          0.335835337638855,
          0.34794965386390686,
          0.0648363009095192,
          0.4045800566673279,
          0.24427862465381622,
          0.2654655873775482,
          0.22193993628025055,
          0.268240362405777,
          0.2592499256134033,
          0.3792212903499603
         ],
         "y": [
          0.08783337473869324,
          0.01763666421175003,
          0.09133417904376984,
          0.07939642667770386,
          0.06462718546390533,
          0.12892712652683258,
          0.11693908274173737,
          0.12251215428113937,
          -0.03357391431927681,
          0.14079640805721283,
          0.057482391595840454,
          0.013943133875727654,
          0.12944382429122925,
          -0.10837572813034058,
          0.08266563713550568,
          -0.009373611770570278,
          -0.03834908828139305,
          -0.07583275437355042,
          0.12853491306304932,
          0.040965404361486435,
          0.10932901501655579,
          0.06822393834590912,
          -0.08434662222862244,
          0.08279462903738022,
          0.0730878934264183,
          0.0424266941845417,
          0.04389924556016922,
          0.028255097568035126,
          0.050646454095840454,
          -0.02995038405060768,
          -0.0504935085773468,
          0.16449175775051117,
          0.12093615531921387,
          0.06991269439458847,
          -0.010121273808181286,
          0.13964684307575226,
          0.09266000986099243,
          0.1604664921760559,
          0.038167789578437805,
          -0.10036565363407135,
          0.05137738958001137,
          0.026363447308540344,
          0.051719021052122116,
          0.18444319069385529,
          -0.01601722277700901,
          0.12070305645465851,
          0.1566803902387619,
          0.14532575011253357
         ],
         "z": [
          -0.11255387961864471,
          -0.027261510491371155,
          -0.03802445903420448,
          -0.016711754724383354,
          0.0476803258061409,
          -0.11950091272592545,
          -0.11554941534996033,
          -0.1317410171031952,
          -0.1799786388874054,
          -0.06550975888967514,
          0.08942601829767227,
          -0.155674010515213,
          -0.05035587400197983,
          -0.09413691610097885,
          -0.13453951478004456,
          -0.16846661269664764,
          0.058865513652563095,
          -0.11765757948160172,
          -0.1621173471212387,
          -0.008390075527131557,
          -0.17454630136489868,
          -0.050265632569789886,
          -0.1108507290482521,
          -0.05010820925235748,
          -0.09143421053886414,
          -0.03158096969127655,
          -0.1973927617073059,
          -0.22132493555545807,
          -0.13412432372570038,
          -0.08330172300338745,
          -0.038837213069200516,
          -0.15847453474998474,
          -0.18194074928760529,
          -0.11453013122081757,
          -0.20383933186531067,
          -0.06467651575803757,
          -0.03680344671010971,
          -0.19683639705181122,
          -0.13645139336585999,
          -0.0037407330237329006,
          0.009717750363051891,
          -0.17673048377037048,
          -0.07822303473949432,
          -0.09023451805114746,
          -0.13489067554473877,
          0.01363544911146164,
          -0.0658259317278862,
          -0.16931317746639252
         ],
         "type": "scatter3d"
        },
        {
         "customdata": [
          [
           80,
           7,
           "Apply the patch provided by SQLite to fix the heap-buffer-overflow vulnerability in the `sessionReadRecord` function, as recommended by the vendor."
          ],
          [
           50,
           7,
           "Replace `QuerySet.extra` with parameterized queries and use the Django ORM to avoid SQL injection vulnerabilities."
          ],
          [
           30,
           7,
           "Update to the latest version of SQLite (v3.41.0 or later) to resolve the segmentation fault vulnerability."
          ],
          [
           30,
           7,
           "Review and validate all SQL queries before executing them, especially when using user-input data to prevent potential memory leaks."
          ],
          [
           -1,
           7,
           "Upgrade SQLite to a version that addresses the use-after-free bug (e.g., 3.39.5 or later) or apply the patch provided by the SQLite developers to fix the issue."
          ]
         ],
         "hovertemplate": "Cluster=%{marker.color}<br>PC1=%{x}<br>PC2=%{y}<br>PC3=%{z}<br>Severity=%{customdata[0]}<extra></extra>",
         "legendgroup": "7",
         "marker": {
          "color": [
           7,
           7,
           7,
           7,
           7
          ],
          "coloraxis": "coloraxis",
          "symbol": "square"
         },
         "mode": "markers",
         "name": "7",
         "scene": "scene",
         "showlegend": true,
         "x": [
          0.00420690793544054,
          -0.26549386978149414,
          -0.05910485237836838,
          -0.07897113263607025,
          -0.09834624081850052
         ],
         "y": [
          -0.0035215853713452816,
          0.2429196834564209,
          0.009349718689918518,
          0.11546527594327927,
          0.06147991120815277
         ],
         "z": [
          0.04247836768627167,
          0.08456292748451233,
          0.08856617659330368,
          0.003007388673722744,
          0.027291780337691307
         ],
         "type": "scatter3d"
        },
        {
         "customdata": [
          [
           80,
           2,
           "Apply the patch identified as 227500897dfb07fb7d27f7aa570050e62617e3be to fix the integer overflow vulnerability in LibTIFF's TIFFReadRGBATileExt function."
          ],
          [
           60,
           2,
           "Update libtiff to version 4.4.1 or later, which includes the fix for this vulnerability (commit afaabc3e)"
          ],
          [
           60,
           2,
           "Update libtiff to version 4.4.1 or later, which includes the fix for this vulnerability (commit 33aee127)"
          ],
          [
           60,
           2,
           "Update libtiff to version 4.4.0 or later, which includes the fix for this vulnerability (commit e8131125)"
          ],
          [
           60,
           2,
           "Update LibTIFF to version 4.5.0 or higher, which includes the fix for this vulnerability (commit 33aee127), and recompile the affected application"
          ],
          [
           60,
           2,
           "Update libtiff to version 4.4.1 or higher, which includes the fix for the out-of-bounds write vulnerability (CVE-2023-0803), and ensure that all dependencies are updated accordingly."
          ],
          [
           60,
           2,
           "Update LibTIFF to version 4.4.0 with the fix available in commit 33aee127, or use a supported version of LibTIFF that has already included this fix."
          ],
          [
           60,
           2,
           "Update LibTIFF to version 4.5.0 or higher, which includes the fix for the out-of-bounds write vulnerability (CVE-2022-3597)"
          ],
          [
           60,
           2,
           "Update libtiff to version 4.4.0 with commit 236b7191 or later to fix the out-of-bounds write vulnerability, allowing users who compile libtiff from sources to mitigate this issue."
          ],
          [
           60,
           2,
           "Update libtiff to version 4.4.1 or higher, which includes the fix for this vulnerability, and ensure that any custom compiled versions are patched with commit afaabc3e."
          ],
          [
           60,
           2,
           "Update LibTIFF to version 4.4.0 or higher, which includes the fix for this vulnerability (commit afaabc3e), or compile it from source with the commit applied."
          ],
          [
           60,
           2,
           "Update libtiff to version 4.4.1 or higher, which includes the fix for the out-of-bounds write vulnerability (CVE-2022-3598)"
          ],
          [
           60,
           2,
           "Update the libtiff library to a version that has been patched for this vulnerability, such as version 4.5.0 or later."
          ],
          [
           60,
           2,
           "Update libtiff to version 4.4.0 with commit afaabc3e or later, or use a patched version of the library."
          ],
          [
           60,
           2,
           "Update libtiff to version 4.4.0 or later, which includes the fix for the out-of-bounds read vulnerability (CVE-2023-0797), or apply the patch available in commit afaabc3e."
          ],
          [
           60,
           2,
           "Update libtiff to version 4.4.0 with commit e8131125 or later, which fixes the out-of-bounds read vulnerability."
          ],
          [
           60,
           2,
           "Update libtiff to version 4.4.0 with commit 236b7191 or later, which fixes the out-of-bounds write vulnerability (CVE-2022-3627) and prevents denial-of-service attacks."
          ],
          [
           60,
           2,
           "Upgrade LibTIFF to a version that addresses the CVE-2022-48281 vulnerability, or use an alternative library that does not have this issue."
          ],
          [
           60,
           2,
           "Update libtiff to version 4.4.1 or later, which includes the fix for this vulnerability."
          ]
         ],
         "hovertemplate": "Cluster=%{marker.color}<br>PC1=%{x}<br>PC2=%{y}<br>PC3=%{z}<br>Severity=%{customdata[0]}<extra></extra>",
         "legendgroup": "2",
         "marker": {
          "color": [
           2,
           2,
           2,
           2,
           2,
           2,
           2,
           2,
           2,
           2,
           2,
           2,
           2,
           2,
           2,
           2,
           2,
           2,
           2
          ],
          "coloraxis": "coloraxis",
          "symbol": "x"
         },
         "mode": "markers",
         "name": "2",
         "scene": "scene",
         "showlegend": true,
         "x": [
          0.08408521115779877,
          0.09260894358158112,
          0.11142754554748535,
          0.08784855157136917,
          0.1300460249185562,
          0.08387687802314758,
          0.0676286444067955,
          0.14074479043483734,
          0.17297989130020142,
          0.0997958704829216,
          0.0701410174369812,
          0.09819649904966354,
          0.1511748880147934,
          0.08981060236692429,
          0.16048721969127655,
          0.0990956500172615,
          0.15062648057937622,
          0.17115604877471924,
          0.1075516939163208
         ],
         "y": [
          -0.510254979133606,
          -0.6762208342552185,
          -0.5977993607521057,
          -0.6059402823448181,
          -0.6317939162254333,
          -0.6018255949020386,
          -0.6386784315109253,
          -0.5245077610015869,
          -0.5776421427726746,
          -0.7020982503890991,
          -0.6371894478797913,
          -0.6065945029258728,
          -0.5060838460922241,
          -0.6513403654098511,
          -0.6081064939498901,
          -0.6757234334945679,
          -0.540290355682373,
          -0.4874080419540405,
          -0.6402344107627869
         ],
         "z": [
          0.29571405053138733,
          0.3575059771537781,
          0.4491552412509918,
          0.38613948225975037,
          0.3821258246898651,
          0.3322172462940216,
          0.39332470297813416,
          0.3296758532524109,
          0.3131212592124939,
          0.36790210008621216,
          0.37595105171203613,
          0.31394344568252563,
          0.2056419998407364,
          0.3457568287849426,
          0.35729748010635376,
          0.33875223994255066,
          0.31242087483406067,
          0.29542332887649536,
          0.3932294547557831
         ],
         "type": "scatter3d"
        },
        {
         "customdata": [
          [
           80,
           11,
           "Upgrade to BIND 9.16 or later, which implements a more efficient algorithm for NSEC3 closest encloser proofs that reduces CPU consumption."
          ],
          [
           80,
           11,
           "Upgrade the bind9 DNS server to a version that addresses the KeyTrap vulnerability (CVE-2023-50387) or apply a patch to mitigate extreme CPU consumption in DNSSEC validation."
          ],
          [
           60,
           11,
           "Update systemd-resolved to the latest version (at least 245) which includes the fix for this vulnerability, or consider using a DNSSEC validation library like Knot DNS or Unbound."
          ],
          [
           60,
           11,
           "Update the netback driver in Xen to a version that fixes the buffer overrun vulnerability (XSA-432), and consider implementing additional security measures such as rate limiting or packet filtering to prevent DoS attacks."
          ],
          [
           30,
           11,
           "Reduce the maximum TCP window size or restrict access to sensitive protocols that use long-lived connections, such as BGP."
          ],
          [
           30,
           11,
           "Update GnuPG to the latest version, which includes a fix for this vulnerability (CVE-2022-3219), or apply patches provided by the vendor."
          ],
          [
           30,
           11,
           "Upgrade to a version that correctly validates GPG keys, or use an alternative package management system like `apt-get` with the `-o` option."
          ],
          [
           30,
           11,
           "Update the Linux kernel to a version that has fixed the TCP protocol vulnerabilities (e.g. use a version with the fix for CVE-2008-4609). This can typically be done by applying security patches or upgrading to a supported version of the operating system."
          ]
         ],
         "hovertemplate": "Cluster=%{marker.color}<br>PC1=%{x}<br>PC2=%{y}<br>PC3=%{z}<br>Severity=%{customdata[0]}<extra></extra>",
         "legendgroup": "11",
         "marker": {
          "color": [
           11,
           11,
           11,
           11,
           11,
           11,
           11,
           11
          ],
          "coloraxis": "coloraxis",
          "symbol": "cross"
         },
         "mode": "markers",
         "name": "11",
         "scene": "scene",
         "showlegend": true,
         "x": [
          -0.12475072592496872,
          -0.17922167479991913,
          -0.10020603984594345,
          0.041280597448349,
          -0.20027513802051544,
          -0.113906629383564,
          -0.2953038513660431,
          0.10423930734395981
         ],
         "y": [
          -0.08144302666187286,
          -0.10248386859893799,
          -0.01583419367671013,
          -0.09709995985031128,
          -0.08055084198713303,
          -0.11056262999773026,
          0.07728458195924759,
          -0.15124914050102234
         ],
         "z": [
          -0.09937562793493271,
          -0.20278850197792053,
          -0.21805426478385925,
          -0.05366666242480278,
          -0.07856155931949615,
          -0.1411353498697281,
          -0.13660383224487305,
          -0.10647178441286087
         ],
         "type": "scatter3d"
        },
        {
         "customdata": [
          [
           80,
           5,
           "Update the Dockerfiles to specify a non-root user, for example, `USER devsecops` or any other desired username."
          ],
          [
           50,
           5,
           "Replace the `encrypted` attribute with `kms_key_id` and provide a valid AWS Key Management Service (KMS) key ID to ensure EBS Volume encryption at rest using KMS CMKs."
          ],
          [
           50,
           5,
           "Add 'no-new-privileges:true' in the 'security_opt' section for the Elasticsearch service in your Docker Compose file."
          ],
          [
           50,
           5,
           "Add 'no-new-privileges:true' in the 'security_opt' section of the Docker Compose file to prevent privilege escalation via setuid or setgid binaries."
          ],
          [
           50,
           5,
           "Set `map_public_ip_on_launch` to false so that resources are not publicly-accessible."
          ],
          [
           50,
           5,
           "Add 'no-new-privileges:true' in the 'security_opt' section for the redis service in your docker-compose file."
          ],
          [
           50,
           5,
           "Add 'read_only: true' to the 'redis' service in the docker-compose file to prevent malicious applications from modifying files or running additional payloads."
          ],
          [
           50,
           5,
           "Add 'no-new-privileges:true' in the 'security_opt' section of the docker-compose file to prevent privilege escalation."
          ],
          [
           50,
           5,
           "Set `debug` to `False` in your Flask app or use environment variables to set it to `False` before deploying to production."
          ],
          [
           50,
           5,
           "Add 'read_only: true' to the service definition in production.yml file."
          ],
          [
           50,
           5,
           "Add 'read_only: true' to the service configuration in production.yml file."
          ],
          [
           50,
           5,
           "Add 'no-new-privileges:true' in the 'security_opt' field to prevent privilege escalation via setuid or setgid binaries."
          ],
          [
           50,
           5,
           "Add 'read_only: true' to the 'elasticsearch' service in the docker-compose file to prevent malicious applications from modifying files."
          ],
          [
           50,
           5,
           "Add 'no-new-privileges:true' in the 'security_opt' section of the Docker Compose file to prevent privilege escalation."
          ],
          [
           50,
           5,
           "Add 'read_only: true' to the service in the docker-compose file to prevent malicious applications from modifying the container files."
          ],
          [
           50,
           5,
           "Add 'read_only: true' to the 'postgres' service in the docker-compose file."
          ]
         ],
         "hovertemplate": "Cluster=%{marker.color}<br>PC1=%{x}<br>PC2=%{y}<br>PC3=%{z}<br>Severity=%{customdata[0]}<extra></extra>",
         "legendgroup": "5",
         "marker": {
          "color": [
           5,
           5,
           5,
           5,
           5,
           5,
           5,
           5,
           5,
           5,
           5,
           5,
           5,
           5,
           5,
           5
          ],
          "coloraxis": "coloraxis",
          "symbol": "circle"
         },
         "mode": "markers",
         "name": "5",
         "scene": "scene",
         "showlegend": true,
         "x": [
          -0.2582697570323944,
          -0.39999380707740784,
          -0.39788755774497986,
          -0.36674511432647705,
          -0.31966325640678406,
          -0.36463645100593567,
          -0.1914656013250351,
          -0.36480605602264404,
          -0.3229076862335205,
          -0.28404146432876587,
          -0.2519398331642151,
          -0.33198264241218567,
          -0.34926649928092957,
          -0.3834380805492401,
          -0.18210560083389282,
          -0.22145496308803558
         ],
         "y": [
          0.4212528169155121,
          0.2790032923221588,
          0.4685973823070526,
          0.4141983985900879,
          0.19963479042053223,
          0.4504699409008026,
          0.4067302644252777,
          0.4597024619579315,
          0.28818511962890625,
          0.3814087510108948,
          0.31882041692733765,
          0.43287503719329834,
          0.41430923342704773,
          0.4395318329334259,
          0.4090721905231476,
          0.3884550929069519
         ],
         "z": [
          0.48143962025642395,
          0.06041475385427475,
          0.41732168197631836,
          0.4245123565196991,
          0.1700618863105774,
          0.44306421279907227,
          0.5726321935653687,
          0.44830670952796936,
          0.35003000497817993,
          0.4937012791633606,
          0.4592556953430176,
          0.43665143847465515,
          0.4841937720775604,
          0.44536304473876953,
          0.5947524309158325,
          0.5388764142990112
         ],
         "type": "scatter3d"
        },
        {
         "customdata": [
          [
           80,
           8,
           "Update the Linux kernel to a version that addresses the vulnerability (CVE-2023-35827) or apply the relevant patch to fix the race condition leading to use-after-free in ravb_remove()"
          ],
          [
           60,
           8,
           "Update the Linux kernel to a patched version, such as Linux 5.17.11 or later, which fixes the vulnerability (CVE-2023-4132) and prevents the use-after-free condition."
          ],
          [
           60,
           8,
           "Update the Linux kernel to a version that fixes the issue (CVE-2023-4010) or patch the affected function using a custom patch."
          ],
          [
           60,
           8,
           "Update the affected Linux kernel package to a version that includes the fix for CVE-2023-1192."
          ],
          [
           60,
           8,
           "Update the Linux kernel to version 5.2.3 or later, and ensure that any affected devices are not used until the update is applied."
          ],
          [
           60,
           8,
           "Upgrade the Linux kernel to a version later than 6.4.2, or apply the corresponding patch (e.g., from the Linux kernel's stable branch) to fix the use-after-free write vulnerability."
          ],
          [
           30,
           8,
           "Update the Linux kernel to a version that addresses the vulnerability (CVE-2022-45884), or apply the patch provided by Trivy to fix the use-after-free issue."
          ],
          [
           30,
           8,
           "Update the Linux kernel to a version that addresses this vulnerability, such as 6.2.1 or later."
          ],
          [
           30,
           8,
           "Update the Linux kernel to a version that addresses the memory leak issue (e.g. 5.2 or later), and apply any available patches or fixes."
          ],
          [
           30,
           8,
           "Update the Linux kernel to a version that includes the fix for CVE-2022-45887 or apply the patch manually to the affected file (drivers/media/usb/ttusb-dec/ttusb_dec.c) to correct the memory leak issue."
          ],
          [
           30,
           8,
           "Update the Linux kernel to a version that includes the fix for CVE-2022-45885 (6.1 or later)"
          ],
          [
           30,
           8,
           "Upgrade the Linux kernel to a version that includes the fix for CVE-2022-44033, or apply the patch provided by the vendor to resolve the race condition and prevent use-after-free vulnerabilities."
          ],
          [
           30,
           8,
           "Update the Linux kernel to a version that addresses this vulnerability (e.g., CVE-2022-45886), or apply the patch provided by the Linux kernel project to resolve the use-after-free issue."
          ],
          [
           30,
           8,
           "Apply the relevant kernel patch or update to version 6.1.0 or later to resolve the race condition and use-after-free vulnerability in drivers/char/xillybus/xillyusb.c."
          ],
          [
           30,
           8,
           "Apply the latest patch or update to the affected kernel version (6.0.6) as described in the CVE-2022-44032 advisory, which resolves the race condition and use-after-free vulnerability."
          ],
          [
           30,
           8,
           "Apply the relevant Linux kernel patch (CVE-2022-45919) to fix the use-after-free vulnerability in drivers/media/dvb-core/dvb_ca_en50221.c"
          ],
          [
           30,
           8,
           "Upgrade to a fixed version of the Linux kernel (e.g. 6.1 or later) to resolve this issue."
          ],
          [
           30,
           8,
           "Apply kernel patch for spi_gpio_probe() memory leak (CVE-2019-19070) to prevent denial of service attacks."
          ],
          [
           30,
           8,
           "Update the Linux kernel to a version that addresses the issue (e.g. 5.19.13 or later), and/or implement additional security controls to prevent attackers from removing PCMCIA devices."
          ]
         ],
         "hovertemplate": "Cluster=%{marker.color}<br>PC1=%{x}<br>PC2=%{y}<br>PC3=%{z}<br>Severity=%{customdata[0]}<extra></extra>",
         "legendgroup": "8",
         "marker": {
          "color": [
           8,
           8,
           8,
           8,
           8,
           8,
           8,
           8,
           8,
           8,
           8,
           8,
           8,
           8,
           8,
           8,
           8,
           8,
           8
          ],
          "coloraxis": "coloraxis",
          "symbol": "diamond"
         },
         "mode": "markers",
         "name": "8",
         "scene": "scene",
         "showlegend": true,
         "x": [
          0.33229660987854004,
          0.23382042348384857,
          0.20102255046367645,
          0.1972701996564865,
          0.3228490948677063,
          0.3415496051311493,
          0.373127281665802,
          0.2768983542919159,
          0.35952404141426086,
          0.3293444514274597,
          0.2758442461490631,
          0.28813254833221436,
          0.3737199306488037,
          0.38628101348876953,
          0.3308986723423004,
          0.23912669718265533,
          0.32542285323143005,
          0.35340431332588196,
          0.3252691626548767
         ],
         "y": [
          0.10636378079652786,
          0.17271333932876587,
          0.07231155782938004,
          0.05560741573572159,
          0.21936333179473877,
          0.11965596675872803,
          0.17965103685855865,
          0.17840592563152313,
          0.1730954796075821,
          0.12369625270366669,
          0.19310154020786285,
          0.123067207634449,
          0.11989102512598038,
          0.15696537494659424,
          0.24697169661521912,
          0.15827159583568573,
          0.24228285253047943,
          0.20321322977542877,
          0.1181795746088028
         ],
         "z": [
          -0.2186383157968521,
          -0.1663389503955841,
          -0.08861808478832245,
          -0.11399178206920624,
          -0.10675004869699478,
          0.006553837098181248,
          -0.12008919566869736,
          -0.1405196636915207,
          -0.1391390562057495,
          -0.18795615434646606,
          -0.1637258231639862,
          -0.04330616816878319,
          -0.1819867640733719,
          -0.06897742301225662,
          -0.08659179508686066,
          -0.19766339659690857,
          -0.1304474025964737,
          -0.1278374195098877,
          -0.12145087122917175
         ],
         "type": "scatter3d"
        },
        {
         "customdata": [
          [
           80,
           4,
           ""
          ],
          [
           60,
           4,
           "Upgrade to at least urllib3 v1.26.17 or v2.0.6, or disable HTTP redirects using `redirects=False` when sending requests."
          ],
          [
           60,
           4,
           "Update to version 1.26.18 or higher, or disable redirects with `redirects=False` and handle 303 redirects manually by stripping the HTTP request body."
          ],
          [
           50,
           4,
           "Change the host parameter in app.run() to a specific IP address or hostname, and consider configuring your Flask application to run behind a reverse proxy for additional security."
          ],
          [
           50,
           4,
           ""
          ],
          [
           50,
           4,
           ""
          ],
          [
           30,
           4,
           "Upgrade Werkzeug to version 2.2.3 or later to fix this vulnerability."
          ],
          [
           -1,
           4,
           "Upgrade to a fixed version of Flask (2.3.2 or 2.2.5) to ensure the Vary: Cookie header is set correctly when refreshing permanent session cookies."
          ]
         ],
         "hovertemplate": "Cluster=%{marker.color}<br>PC1=%{x}<br>PC2=%{y}<br>PC3=%{z}<br>Severity=%{customdata[0]}<extra></extra>",
         "legendgroup": "4",
         "marker": {
          "color": [
           4,
           4,
           4,
           4,
           4,
           4,
           4,
           4
          ],
          "coloraxis": "coloraxis",
          "symbol": "square"
         },
         "mode": "markers",
         "name": "4",
         "scene": "scene",
         "showlegend": true,
         "x": [
          -0.21921250224113464,
          -0.2840811312198639,
          -0.32739970088005066,
          -0.3935104012489319,
          -0.21921250224113464,
          -0.21921250224113464,
          -0.28334128856658936,
          -0.3268641531467438
         ],
         "y": [
          0.06848163902759552,
          -0.09351927042007446,
          -0.1250753402709961,
          0.23266595602035522,
          0.06848163902759552,
          0.06848163902759552,
          0.029375223442912102,
          0.19156426191329956
         ],
         "z": [
          0.08797664940357208,
          -0.08936721831560135,
          -0.07121240347623825,
          0.30687272548675537,
          0.08797664940357208,
          0.08797664940357208,
          -0.05143905431032181,
          0.09260717779397964
         ],
         "type": "scatter3d"
        },
        {
         "customdata": [
          [
           80,
           12,
           "Update OpenLDAP to a version that fixes the vulnerability (e.g., CVE-2023-2953), or consider using an alternative LDAP library."
          ],
          [
           80,
           12,
           "Upgrade the GNU C Library (glibc) to a version that includes the fix for CVE-2023-4911."
          ],
          [
           60,
           12,
           "Update the affected ncurses packages (libncursesw6, libtinfo6, ncurses-base, and ncurses-bin) to a version that addresses the CVE-2023-50495 vulnerability."
          ],
          [
           60,
           12,
           "Update the affected Linux libraries to the latest version, ensuring that the vulnerable function setup_async_work() is patched."
          ],
          [
           30,
           12,
           "Upgrade glibc to a version that addresses the mitigation bypass vulnerability (CVE-2019-1010025) or consider using an ASLR-enabled alternative."
          ],
          [
           30,
           12,
           "Update the GNU Libc (glibc) package to a version that addresses this mitigation bypass vulnerability, as indicated by the upstream comments."
          ],
          [
           30,
           12,
           "Upgrade GNU Tar to a version later than 1.34 or patch the vulnerable function 'from_header()' in 'list.c' to fix the heap buffer overflow vulnerability."
          ],
          [
           30,
           12,
           "Update OpenLDAP to version 2.4.46 or later, or disable the nops module and memberof overlay if not necessary."
          ],
          [
           30,
           12,
           "Update to a newer version of glibc, as this issue has been treated as a non-security bug and is not considered a real threat."
          ],
          [
           30,
           12,
           "Update the GNU C Library (glibc) to a version that fixes this vulnerability, such as glibc 2.29 or later."
          ],
          [
           30,
           12,
           "Upgrade to a newer version of GCC (e.g. GCC 12) or use the -fomit-frame-pointer compiler flag to prevent stack exhaustion."
          ],
          [
           30,
           12,
           "Update the GNU C Library (glibc) to a version greater than or equal to 2.30, which addresses this vulnerability."
          ],
          [
           30,
           12,
           "Update the glibc library to a version where this issue is fixed (e.g. 2.30 or later), as the maintainer disputes that it's a vulnerability only affecting crafted patterns."
          ],
          [
           30,
           12,
           "Update glibc to the latest version, as this issue is considered a non-security bug and does not pose a real threat according to upstream comments."
          ],
          [
           30,
           12,
           "Update the affected packages to the latest version (ncurses >= 6.4-20230710) or consider using a more secure alternative library."
          ],
          [
           -1,
           12,
           "Update glibc to the latest version or apply the patch provided by the vendor to fix this potential use-after-free vulnerability."
          ],
          [
           -1,
           12,
           "Update the glibc library to a version that fixes the issue, such as CVE-2023-4527."
          ]
         ],
         "hovertemplate": "Cluster=%{marker.color}<br>PC1=%{x}<br>PC2=%{y}<br>PC3=%{z}<br>Severity=%{customdata[0]}<extra></extra>",
         "legendgroup": "12",
         "marker": {
          "color": [
           12,
           12,
           12,
           12,
           12,
           12,
           12,
           12,
           12,
           12,
           12,
           12,
           12,
           12,
           12,
           12,
           12
          ],
          "coloraxis": "coloraxis",
          "symbol": "x"
         },
         "mode": "markers",
         "name": "12",
         "scene": "scene",
         "showlegend": true,
         "x": [
          0.13260263204574585,
          0.1970968395471573,
          0.11084303259849548,
          0.1430208534002304,
          0.09660022705793381,
          -0.001971916062757373,
          0.09807755798101425,
          -0.012382195331156254,
          0.1060764342546463,
          0.02648836374282837,
          0.17464607954025269,
          -0.04929709807038307,
          -0.019327450543642044,
          0.162777841091156,
          0.09908825159072876,
          0.15552382171154022,
          0.05055918172001839
         ],
         "y": [
          -0.11722346395254135,
          0.004207799676805735,
          -0.1999734491109848,
          0.022682588547468185,
          -0.11738532036542892,
          -0.05944598466157913,
          -0.3068382143974304,
          -0.12262033671140671,
          -0.14818501472473145,
          -0.09712221473455429,
          -0.195963516831398,
          -0.15463809669017792,
          -0.17124870419502258,
          -0.10462375730276108,
          -0.2568453848361969,
          -0.0736110582947731,
          -0.09925354272127151
         ],
         "z": [
          -0.10689922422170639,
          0.11389364302158356,
          -0.01648566499352455,
          0.008168899454176426,
          -0.08213396370410919,
          -0.06969224661588669,
          0.01945069245994091,
          -0.09302745759487152,
          0.057789068669080734,
          0.07550836354494095,
          0.022638287395238876,
          0.005364483222365379,
          8.163318852894008E-4,
          -0.14064928889274597,
          -0.025659630075097084,
          0.004860638175159693,
          -0.181971937417984
         ],
         "type": "scatter3d"
        }
       ],
       "layout": {
        "template": {
         "data": {
          "histogram2dcontour": [
           {
            "type": "histogram2dcontour",
            "colorbar": {
             "outlinewidth": 0,
             "ticks": ""
            },
            "colorscale": [
             [
              0.0,
              "#0d0887"
             ],
             [
              0.1111111111111111,
              "#46039f"
             ],
             [
              0.2222222222222222,
              "#7201a8"
             ],
             [
              0.3333333333333333,
              "#9c179e"
             ],
             [
              0.4444444444444444,
              "#bd3786"
             ],
             [
              0.5555555555555556,
              "#d8576b"
             ],
             [
              0.6666666666666666,
              "#ed7953"
             ],
             [
              0.7777777777777778,
              "#fb9f3a"
             ],
             [
              0.8888888888888888,
              "#fdca26"
             ],
             [
              1.0,
              "#f0f921"
             ]
            ]
           }
          ],
          "choropleth": [
           {
            "type": "choropleth",
            "colorbar": {
             "outlinewidth": 0,
             "ticks": ""
            }
           }
          ],
          "histogram2d": [
           {
            "type": "histogram2d",
            "colorbar": {
             "outlinewidth": 0,
             "ticks": ""
            },
            "colorscale": [
             [
              0.0,
              "#0d0887"
             ],
             [
              0.1111111111111111,
              "#46039f"
             ],
             [
              0.2222222222222222,
              "#7201a8"
             ],
             [
              0.3333333333333333,
              "#9c179e"
             ],
             [
              0.4444444444444444,
              "#bd3786"
             ],
             [
              0.5555555555555556,
              "#d8576b"
             ],
             [
              0.6666666666666666,
              "#ed7953"
             ],
             [
              0.7777777777777778,
              "#fb9f3a"
             ],
             [
              0.8888888888888888,
              "#fdca26"
             ],
             [
              1.0,
              "#f0f921"
             ]
            ]
           }
          ],
          "heatmap": [
           {
            "type": "heatmap",
            "colorbar": {
             "outlinewidth": 0,
             "ticks": ""
            },
            "colorscale": [
             [
              0.0,
              "#0d0887"
             ],
             [
              0.1111111111111111,
              "#46039f"
             ],
             [
              0.2222222222222222,
              "#7201a8"
             ],
             [
              0.3333333333333333,
              "#9c179e"
             ],
             [
              0.4444444444444444,
              "#bd3786"
             ],
             [
              0.5555555555555556,
              "#d8576b"
             ],
             [
              0.6666666666666666,
              "#ed7953"
             ],
             [
              0.7777777777777778,
              "#fb9f3a"
             ],
             [
              0.8888888888888888,
              "#fdca26"
             ],
             [
              1.0,
              "#f0f921"
             ]
            ]
           }
          ],
          "heatmapgl": [
           {
            "type": "heatmapgl",
            "colorbar": {
             "outlinewidth": 0,
             "ticks": ""
            },
            "colorscale": [
             [
              0.0,
              "#0d0887"
             ],
             [
              0.1111111111111111,
              "#46039f"
             ],
             [
              0.2222222222222222,
              "#7201a8"
             ],
             [
              0.3333333333333333,
              "#9c179e"
             ],
             [
              0.4444444444444444,
              "#bd3786"
             ],
             [
              0.5555555555555556,
              "#d8576b"
             ],
             [
              0.6666666666666666,
              "#ed7953"
             ],
             [
              0.7777777777777778,
              "#fb9f3a"
             ],
             [
              0.8888888888888888,
              "#fdca26"
             ],
             [
              1.0,
              "#f0f921"
             ]
            ]
           }
          ],
          "contourcarpet": [
           {
            "type": "contourcarpet",
            "colorbar": {
             "outlinewidth": 0,
             "ticks": ""
            }
           }
          ],
          "contour": [
           {
            "type": "contour",
            "colorbar": {
             "outlinewidth": 0,
             "ticks": ""
            },
            "colorscale": [
             [
              0.0,
              "#0d0887"
             ],
             [
              0.1111111111111111,
              "#46039f"
             ],
             [
              0.2222222222222222,
              "#7201a8"
             ],
             [
              0.3333333333333333,
              "#9c179e"
             ],
             [
              0.4444444444444444,
              "#bd3786"
             ],
             [
              0.5555555555555556,
              "#d8576b"
             ],
             [
              0.6666666666666666,
              "#ed7953"
             ],
             [
              0.7777777777777778,
              "#fb9f3a"
             ],
             [
              0.8888888888888888,
              "#fdca26"
             ],
             [
              1.0,
              "#f0f921"
             ]
            ]
           }
          ],
          "surface": [
           {
            "type": "surface",
            "colorbar": {
             "outlinewidth": 0,
             "ticks": ""
            },
            "colorscale": [
             [
              0.0,
              "#0d0887"
             ],
             [
              0.1111111111111111,
              "#46039f"
             ],
             [
              0.2222222222222222,
              "#7201a8"
             ],
             [
              0.3333333333333333,
              "#9c179e"
             ],
             [
              0.4444444444444444,
              "#bd3786"
             ],
             [
              0.5555555555555556,
              "#d8576b"
             ],
             [
              0.6666666666666666,
              "#ed7953"
             ],
             [
              0.7777777777777778,
              "#fb9f3a"
             ],
             [
              0.8888888888888888,
              "#fdca26"
             ],
             [
              1.0,
              "#f0f921"
             ]
            ]
           }
          ],
          "mesh3d": [
           {
            "type": "mesh3d",
            "colorbar": {
             "outlinewidth": 0,
             "ticks": ""
            }
           }
          ],
          "scatter": [
           {
            "marker": {
             "line": {
              "color": "#283442"
             }
            },
            "type": "scatter"
           }
          ],
          "parcoords": [
           {
            "type": "parcoords",
            "line": {
             "colorbar": {
              "outlinewidth": 0,
              "ticks": ""
             }
            }
           }
          ],
          "scatterpolargl": [
           {
            "type": "scatterpolargl",
            "marker": {
             "colorbar": {
              "outlinewidth": 0,
              "ticks": ""
             }
            }
           }
          ],
          "bar": [
           {
            "error_x": {
             "color": "#f2f5fa"
            },
            "error_y": {
             "color": "#f2f5fa"
            },
            "marker": {
             "line": {
              "color": "rgb(17,17,17)",
              "width": 0.5
             },
             "pattern": {
              "fillmode": "overlay",
              "size": 10,
              "solidity": 0.2
             }
            },
            "type": "bar"
           }
          ],
          "scattergeo": [
           {
            "type": "scattergeo",
            "marker": {
             "colorbar": {
              "outlinewidth": 0,
              "ticks": ""
             }
            }
           }
          ],
          "scatterpolar": [
           {
            "type": "scatterpolar",
            "marker": {
             "colorbar": {
              "outlinewidth": 0,
              "ticks": ""
             }
            }
           }
          ],
          "histogram": [
           {
            "marker": {
             "pattern": {
              "fillmode": "overlay",
              "size": 10,
              "solidity": 0.2
             }
            },
            "type": "histogram"
           }
          ],
          "scattergl": [
           {
            "marker": {
             "line": {
              "color": "#283442"
             }
            },
            "type": "scattergl"
           }
          ],
          "scatter3d": [
           {
            "type": "scatter3d",
            "line": {
             "colorbar": {
              "outlinewidth": 0,
              "ticks": ""
             }
            },
            "marker": {
             "colorbar": {
              "outlinewidth": 0,
              "ticks": ""
             }
            }
           }
          ],
          "scattermapbox": [
           {
            "type": "scattermapbox",
            "marker": {
             "colorbar": {
              "outlinewidth": 0,
              "ticks": ""
             }
            }
           }
          ],
          "scatterternary": [
           {
            "type": "scatterternary",
            "marker": {
             "colorbar": {
              "outlinewidth": 0,
              "ticks": ""
             }
            }
           }
          ],
          "scattercarpet": [
           {
            "type": "scattercarpet",
            "marker": {
             "colorbar": {
              "outlinewidth": 0,
              "ticks": ""
             }
            }
           }
          ],
          "carpet": [
           {
            "aaxis": {
             "endlinecolor": "#A2B1C6",
             "gridcolor": "#506784",
             "linecolor": "#506784",
             "minorgridcolor": "#506784",
             "startlinecolor": "#A2B1C6"
            },
            "baxis": {
             "endlinecolor": "#A2B1C6",
             "gridcolor": "#506784",
             "linecolor": "#506784",
             "minorgridcolor": "#506784",
             "startlinecolor": "#A2B1C6"
            },
            "type": "carpet"
           }
          ],
          "table": [
           {
            "cells": {
             "fill": {
              "color": "#506784"
             },
             "line": {
              "color": "rgb(17,17,17)"
             }
            },
            "header": {
             "fill": {
              "color": "#2a3f5f"
             },
             "line": {
              "color": "rgb(17,17,17)"
             }
            },
            "type": "table"
           }
          ],
          "barpolar": [
           {
            "marker": {
             "line": {
              "color": "rgb(17,17,17)",
              "width": 0.5
             },
             "pattern": {
              "fillmode": "overlay",
              "size": 10,
              "solidity": 0.2
             }
            },
            "type": "barpolar"
           }
          ],
          "pie": [
           {
            "automargin": true,
            "type": "pie"
           }
          ]
         },
         "layout": {
          "autotypenumbers": "strict",
          "colorway": [
           "#636efa",
           "#EF553B",
           "#00cc96",
           "#ab63fa",
           "#FFA15A",
           "#19d3f3",
           "#FF6692",
           "#B6E880",
           "#FF97FF",
           "#FECB52"
          ],
          "font": {
           "color": "#f2f5fa"
          },
          "hovermode": "closest",
          "hoverlabel": {
           "align": "left"
          },
          "paper_bgcolor": "rgb(17,17,17)",
          "plot_bgcolor": "rgb(17,17,17)",
          "polar": {
           "bgcolor": "rgb(17,17,17)",
           "angularaxis": {
            "gridcolor": "#506784",
            "linecolor": "#506784",
            "ticks": ""
           },
           "radialaxis": {
            "gridcolor": "#506784",
            "linecolor": "#506784",
            "ticks": ""
           }
          },
          "ternary": {
           "bgcolor": "rgb(17,17,17)",
           "aaxis": {
            "gridcolor": "#506784",
            "linecolor": "#506784",
            "ticks": ""
           },
           "baxis": {
            "gridcolor": "#506784",
            "linecolor": "#506784",
            "ticks": ""
           },
           "caxis": {
            "gridcolor": "#506784",
            "linecolor": "#506784",
            "ticks": ""
           }
          },
          "coloraxis": {
           "colorbar": {
            "outlinewidth": 0,
            "ticks": ""
           }
          },
          "colorscale": {
           "sequential": [
            [
             0.0,
             "#0d0887"
            ],
            [
             0.1111111111111111,
             "#46039f"
            ],
            [
             0.2222222222222222,
             "#7201a8"
            ],
            [
             0.3333333333333333,
             "#9c179e"
            ],
            [
             0.4444444444444444,
             "#bd3786"
            ],
            [
             0.5555555555555556,
             "#d8576b"
            ],
            [
             0.6666666666666666,
             "#ed7953"
            ],
            [
             0.7777777777777778,
             "#fb9f3a"
            ],
            [
             0.8888888888888888,
             "#fdca26"
            ],
            [
             1.0,
             "#f0f921"
            ]
           ],
           "sequentialminus": [
            [
             0.0,
             "#0d0887"
            ],
            [
             0.1111111111111111,
             "#46039f"
            ],
            [
             0.2222222222222222,
             "#7201a8"
            ],
            [
             0.3333333333333333,
             "#9c179e"
            ],
            [
             0.4444444444444444,
             "#bd3786"
            ],
            [
             0.5555555555555556,
             "#d8576b"
            ],
            [
             0.6666666666666666,
             "#ed7953"
            ],
            [
             0.7777777777777778,
             "#fb9f3a"
            ],
            [
             0.8888888888888888,
             "#fdca26"
            ],
            [
             1.0,
             "#f0f921"
            ]
           ],
           "diverging": [
            [
             0,
             "#8e0152"
            ],
            [
             0.1,
             "#c51b7d"
            ],
            [
             0.2,
             "#de77ae"
            ],
            [
             0.3,
             "#f1b6da"
            ],
            [
             0.4,
             "#fde0ef"
            ],
            [
             0.5,
             "#f7f7f7"
            ],
            [
             0.6,
             "#e6f5d0"
            ],
            [
             0.7,
             "#b8e186"
            ],
            [
             0.8,
             "#7fbc41"
            ],
            [
             0.9,
             "#4d9221"
            ],
            [
             1,
             "#276419"
            ]
           ]
          },
          "xaxis": {
           "gridcolor": "#283442",
           "linecolor": "#506784",
           "ticks": "",
           "title": {
            "standoff": 15
           },
           "zerolinecolor": "#283442",
           "automargin": true,
           "zerolinewidth": 2
          },
          "yaxis": {
           "gridcolor": "#283442",
           "linecolor": "#506784",
           "ticks": "",
           "title": {
            "standoff": 15
           },
           "zerolinecolor": "#283442",
           "automargin": true,
           "zerolinewidth": 2
          },
          "scene": {
           "xaxis": {
            "backgroundcolor": "rgb(17,17,17)",
            "gridcolor": "#506784",
            "linecolor": "#506784",
            "showbackground": true,
            "ticks": "",
            "zerolinecolor": "#C8D4E3",
            "gridwidth": 2
           },
           "yaxis": {
            "backgroundcolor": "rgb(17,17,17)",
            "gridcolor": "#506784",
            "linecolor": "#506784",
            "showbackground": true,
            "ticks": "",
            "zerolinecolor": "#C8D4E3",
            "gridwidth": 2
           },
           "zaxis": {
            "backgroundcolor": "rgb(17,17,17)",
            "gridcolor": "#506784",
            "linecolor": "#506784",
            "showbackground": true,
            "ticks": "",
            "zerolinecolor": "#C8D4E3",
            "gridwidth": 2
           }
          },
          "shapedefaults": {
           "line": {
            "color": "#f2f5fa"
           }
          },
          "annotationdefaults": {
           "arrowcolor": "#f2f5fa",
           "arrowhead": 0,
           "arrowwidth": 1
          },
          "geo": {
           "bgcolor": "rgb(17,17,17)",
           "landcolor": "rgb(17,17,17)",
           "subunitcolor": "#506784",
           "showland": true,
           "showlakes": true,
           "lakecolor": "rgb(17,17,17)"
          },
          "title": {
           "x": 0.05
          },
          "updatemenudefaults": {
           "bgcolor": "#506784",
           "borderwidth": 0
          },
          "sliderdefaults": {
           "bgcolor": "#C8D4E3",
           "borderwidth": 1,
           "bordercolor": "rgb(17,17,17)",
           "tickwidth": 0
          },
          "mapbox": {
           "style": "dark"
          }
         }
        },
        "scene": {
         "domain": {
          "x": [
           0.0,
           1.0
          ],
          "y": [
           0.0,
           1.0
          ]
         },
         "xaxis": {
          "title": {
           "text": "PC1"
          }
         },
         "yaxis": {
          "title": {
           "text": "PC2"
          }
         },
         "zaxis": {
          "title": {
           "text": "PC3"
          }
         }
        },
        "coloraxis": {
         "colorbar": {
          "title": {
           "text": "Cluster"
          }
         },
         "colorscale": [
          [
           0.0,
           "rgb(75, 41, 145)"
          ],
          [
           0.16666666666666666,
           "rgb(135, 44, 162)"
          ],
          [
           0.3333333333333333,
           "rgb(192, 54, 157)"
          ],
          [
           0.5,
           "rgb(234, 79, 136)"
          ],
          [
           0.6666666666666666,
           "rgb(250, 120, 118)"
          ],
          [
           0.8333333333333334,
           "rgb(246, 169, 122)"
          ],
          [
           1.0,
           "rgb(237, 217, 163)"
          ]
         ]
        },
        "legend": {
         "title": {
          "text": "Cluster"
         },
         "tracegroupgap": 0
        },
        "title": {
         "text": "Interactive 3D Visualization of Clustered Findings"
        }
       },
       "config": {
        "plotlyServerURL": "https://plot.ly"
       }
      },
      "text/html": [
       "<div>                            <div id=\"e3e914e8-4201-4566-998e-225bac3da580\" class=\"plotly-graph-div\" style=\"height:525px; width:100%;\"></div>            <script type=\"text/javascript\">                require([\"plotly\"], function(Plotly) {                    window.PLOTLYENV=window.PLOTLYENV || {};                                    if (document.getElementById(\"e3e914e8-4201-4566-998e-225bac3da580\")) {                    Plotly.newPlot(                        \"e3e914e8-4201-4566-998e-225bac3da580\",                        [{\"customdata\":[[90,13,\"Implement a password hashing mechanism, such as bcrypt or Argon2, and store hashed versions of sensitive data to prevent plaintext passwords from being stored.\"],[80,13,\"Consider using environment variables or a secure configuration file to store the JWT secret or private key, and update the authenticator.py file accordingly.\"],[60,13,\"Update the affected packages to versions that address the vulnerability, such as upgrading MIT Kerberos 5 to 1.20.2 or 1.21.1.\"],[60,13,\"Use a safe deserialization method, such as using the `pickletools` module to safely unpickle untrusted data.\"],[50,13,\"Replace `pickle` with a safer serialization method such as JSON or MessagePack.\"],[30,13,\"Replace the try-except-continue block with a more specific exception handling mechanism to avoid swallowing unexpected exceptions.\"],[30,13,\"Replace hardcoded password with a secure method of generating and storing passwords.\"],[30,13,\"Remove or replace the pickle module with a more secure alternative, such as JSON or MessagePack, to prevent potential deserialization vulnerabilities.\"],[30,13,\"Upgrade MIT Kerberos 5 to a version that addresses the integer overflow vulnerability (CVE-2018-5709) or apply the patch provided in the security advisory.\"],[-1,13,\"Update the Kerberos 5 (aka krb5) package to a version that fixes the memory leak vulnerability, such as upgrading from 1.21.2 to a newer version.\"],[-1,13,\"Upgrade Kerberos 5 (aka krb5) to a version that addresses the memory leak vulnerability, such as 1.23.0 or later.\"],[-1,13,\"Update the Kerberos 5 (aka krb5) library to a version that addresses the memory leak vulnerability (CVE-2024-26458). This can typically be done by running the package manager for your system, such as apt or yum, with the command `sudo apt-get update && sudo apt-get install krb5` or `sudo yum update && sudo yum install krb5`, depending on your distribution.\"],[-1,13,\"Update to the latest version of shadow-utils (or patch according to vendor guidelines) to fix the vulnerability.\"],[-1,13,\"Update Linux PAM to version 1.6.0 or higher to fix the vulnerability.\"]],\"hovertemplate\":\"Cluster=%{marker.color}\\u003cbr\\u003ePC1=%{x}\\u003cbr\\u003ePC2=%{y}\\u003cbr\\u003ePC3=%{z}\\u003cbr\\u003eSeverity=%{customdata[0]}\\u003cextra\\u003e\\u003c\\u002fextra\\u003e\",\"legendgroup\":\"13\",\"marker\":{\"color\":[13,13,13,13,13,13,13,13,13,13,13,13,13,13],\"coloraxis\":\"coloraxis\",\"symbol\":\"circle\"},\"mode\":\"markers\",\"name\":\"13\",\"scene\":\"scene\",\"showlegend\":true,\"x\":[-0.2974790334701538,-0.35974133014678955,0.13404929637908936,-0.21646834909915924,-0.27000150084495544,-0.1939338594675064,-0.3150660991668701,-0.23125216364860535,-0.034968577325344086,0.047165438532829285,0.07864928245544434,0.04491627588868141,-0.07404884696006775,0.06384061276912689],\"y\":[0.13126550614833832,0.2977256774902344,0.015166464261710644,0.09088443964719772,0.09030722826719284,0.014435245655477047,0.21447832882404327,0.13740688562393188,0.013098911382257938,0.04421215504407883,0.018339654430747032,0.019815782085061073,0.04190215468406677,0.11053221672773361],\"z\":[0.05858687311410904,0.0005340077332220972,-0.17639824748039246,0.018780020996928215,0.06025403365492821,0.10816920548677444,0.10250765830278397,0.03981001302599907,-0.11572884023189545,-0.2641272246837616,-0.2604435682296753,-0.23914247751235962,-0.015277852304279804,0.09607277810573578],\"type\":\"scatter3d\"},{\"customdata\":[[90,0,\"Update Pallets Werkzeug to version 2.1.1 or higher, as this fixes the improper parsing of HTTP requests vulnerability (CVE-2022-29361).\"],[80,0,\"Replace the hardcoded secrets with environment variables or a secrets management system.\"],[80,0,\"Update libexpat to a version later than 2.5.0 or consider using an alternative XML parsing library that is not vulnerable to this issue.\"],[80,0,\"Update Werkzeug to version 2.2.3 or later, which includes a patch for this issue.\"],[60,0,\"Update the Linux kernel to a version that includes the fix for CVE-2023-4273, or apply the relevant patch if updating is not feasible.\"],[60,0,\"Update libXpm to the latest version that fixes the vulnerability, as specified in the ELSA-2023-0383 security update.\"],[60,0,\"Upgrade Werkzeug to version 3.0.1 or later to patch the vulnerability and prevent denial of service attacks.\"],[60,0,\"Update the `libXpm` library to the latest version that includes a fix for the vulnerability (CVE-2022-44617)\"],[60,0,\"Upgrade pip to version 23.3 or later, which resolves the issue by properly sanitizing Mercurial configuration options during package installation.\"],[60,0,\"Update the Jinja2 templates to use parameterized filters or escape user input using the ` MarkupSafe` filter, and consider implementing Content Security Policy (CSP) to restrict the types of scripts that can be executed.\"],[60,0,\"Update the libXpm library to a version that addresses the vulnerability (CVE-2022-4883, ELSA-2023-0383)\"],[50,0,\"Avoid dynamic values in `importlib.import_module()` or use a whitelist to prevent running untrusted code.\"],[30,0,\"Upgrade tar to a version that properly warns users when extracting setuid or setgid files, such as tar 1.32 or later.\"],[30,0,\"Disable the `rmt` command in the `\\u002fetc\\u002fdefault\\u002ftar` file or restrict its usage to trusted networks only.\"],[30,0,\"Upgrade procps-ng and procps to version 3.3.16 or later, or consider using an alternative process listing utility that does not rely on the race condition vulnerability.\"],[30,0,\"Update the affected versions of util-linux to 2.37.4 or later, which addresses the vulnerability and prevents partial disclosure of arbitrary files.\"],[30,0,\"Apply the patch provided by the Linux kernel team for CVE-2021-3714 to fix the Remote Page Deduplication Attacks vulnerability.\"],[30,0,\"Update the 'tar' package to the latest version that includes the fix for CVE-2023-39804, or consider using an alternative archiving tool that is not vulnerable to this issue.\"],[30,0,\"Upgrade systemd to a version that addresses the issue, or consider using alternative logging solutions.\"],[30,0,\"Update systemd to the latest version, which addresses this issue (CVE-2023-31439)\"],[30,0,\"Update the Perl installation to a version that fixes this issue, such as perl 5.18 or later.\"],[30,0,\"Update the Shadow package to a version that addresses this issue, such as 4.14 or later.\"],[10,0,\"Enable X-Ray tracing for the AWS Lambda function by adding the `tracing` configuration to the function, for example: `tracing = true`, in the Terraform code.\"],[-1,0,\"Update to a supported version of zlib, ideally one that has fixed this vulnerability (e.g., 1.4 or later), and consider removing or replacing MiniZip if it's not essential for your system.\"],[-1,0,\"Update libexpat to a version 2.5.0 or higher, which includes the fix for this vulnerability.\"],[-1,0,\"Update the redis-py library to version 4.5.3 or later to fix the async command information disclosure vulnerability (CVE-2023-28858)\"],[-1,0,\"Update Google Chrome to version 116.0.5845.187 or later to fix the heap buffer overflow vulnerability in WebP Codec.\"],[-1,0,\"Upgrade to Redis-py version 4.4.4 or later, or upgrade to Redis-py version 4.5.x version 4.5.4 or later.\"],[-1,0,\"Update the libexpat library to a version greater than or equal to 2.6.2, which fixes the XML Entity Expansion vulnerability (CVE-2024-28757)\"]],\"hovertemplate\":\"Cluster=%{marker.color}\\u003cbr\\u003ePC1=%{x}\\u003cbr\\u003ePC2=%{y}\\u003cbr\\u003ePC3=%{z}\\u003cbr\\u003eSeverity=%{customdata[0]}\\u003cextra\\u003e\\u003c\\u002fextra\\u003e\",\"legendgroup\":\"0\",\"marker\":{\"color\":[0,0,0,0,0,0,0,0,0,0,0,0,0,0,0,0,0,0,0,0,0,0,0,0,0,0,0,0,0],\"coloraxis\":\"coloraxis\",\"symbol\":\"diamond\"},\"mode\":\"markers\",\"name\":\"0\",\"scene\":\"scene\",\"showlegend\":true,\"x\":[-0.30817076563835144,-0.41868630051612854,-0.12831535935401917,-0.028073541820049286,0.04570353031158447,-0.10419817268848419,-0.013441420160233974,-0.07157304883003235,-0.2594415545463562,-0.40554481744766235,-0.09760682284832001,-0.23809729516506195,-0.1930389553308487,-0.1862671971321106,-0.04976031184196472,-0.11146824061870575,0.06971396505832672,-0.09331431239843369,-0.1068047285079956,-0.022718437016010284,-0.13426533341407776,-0.07708848267793655,-0.17912739515304565,-0.07841350883245468,-0.13816842436790466,-0.20883233845233917,-0.019645677879452705,-0.19066302478313446,-0.22043806314468384],\"y\":[-0.07162337005138397,0.12127796560525894,-0.15497474372386932,0.015324436128139496,-0.007752127479761839,-0.14849452674388885,-0.20164458453655243,-0.1797199249267578,0.01015337835997343,0.1226307824254036,-0.09380169212818146,0.016426146030426025,0.03571849688887596,0.020320827141404152,0.05691606551408768,-0.024297567084431648,0.01715783029794693,-0.18540073931217194,0.08882084488868713,0.12231747061014175,0.08727267384529114,-0.044637374579906464,-0.06926199793815613,-0.2333155870437622,-0.07852749526500702,0.04219048097729683,-0.12986257672309875,0.056600190699100494,-0.06652671843767166],\"z\":[-0.06643513590097427,0.028307627886533737,-0.04100893810391426,0.03966156393289566,0.1490376740694046,-0.002160340314731002,0.01431980263441801,0.030509617179632187,0.031896013766527176,0.12320501357316971,0.08145664632320404,0.09056466072797775,0.28922393918037415,0.3152850270271301,0.1074758991599083,0.2362738400697708,-0.020231960341334343,0.06137419864535332,0.14927297830581665,0.16048294305801392,0.0943884551525116,0.05293619632720947,0.15674614906311035,0.09536001831293106,-0.0009843679144978523,0.08488204330205917,-0.010313310660421848,0.06375300139188766,0.02469458617269993],\"type\":\"scatter3d\"},{\"customdata\":[[80,9,\"Update curl to the latest version, which includes a maximum header size limit and prevents out-of-heap memory issues.\"],[80,9,\"Upgrade to the latest version of libcurl (or use a patched version) that addresses the vulnerability, as described in CVE-2024-2398\"],[80,9,\"Update all affected HTTP\\u002f2 enabled web servers to the latest version that includes the fix for CVE-2023-44487, or consider disabling HTTP\\u002f2 protocol if not necessary.\"],[80,9,\"Upgrade to a version of curl that fixes the vulnerability, such as version 7.85.0 or later.\"],[60,9,\"Disable cookies for transfers or explicitly set the cookie source to load cookies from a specific file instead of relying on the default behavior.\"],[60,9,\"Update nghttp2 library to version 1.61.0 or later, which limits the number of CONTINUATION frames accepted per stream and mitigates this vulnerability.\"],[60,9,\"Update curl to the latest version, which includes a patch for this vulnerability (CVE-2022-43552).\"],[60,9,\"Update the curl package to the latest version, as this issue has been patched in later releases.\"],[60,9,\"Update the `libcurl` library to the latest version, which should resolve the FTP too eager connection reuse issue.\"],[30,9,\"Upgrade to a version that fixes the vulnerability (CVE-2023-27533), or use a secure alternative like OpenSSH for remote access.\"],[30,9,\"Update the affected libraries (libcurl) to the latest version or apply the patch provided by the vendor.\"],[30,9,\"Update the affected library (libcurl) to a version that addresses this vulnerability, or consider using SSH connection reuse with a more reasonable timeout.\"],[30,9,\"Upgrade the `libcurl` library to a version that fixes this issue, such as v7.84.0 or later, to ensure proper QUIC certificate verification.\"],[30,9,\"Update the affected GnuTLS library versions to a version that addresses this vulnerability, such as upgrading from libgnutls30 to a later version.\"],[30,9,\"Update the curl library to a version that addresses CVE-2023-27536, which resolves the GSS delegation too eager connection re-use issue.\"],[-1,9,\"Upgrade curl to the latest version that includes the fix for CVE-2023-27537.\"],[-1,9,\"Update curl to version 7.87.1 or later, which fixes this HSTS bypass via IDN vulnerability.\"],[-1,9,\"Upgrade curl to version 7.88.1 or later to fix this vulnerability and ensure HSTS functionality is properly carried across multiple requests.\"],[-1,9,\"Upgrade to a version of curl that is patched for this vulnerability, such as v7.89.0 or later.\"],[-1,9,\"Upgrade curl to version 7.88.0 or later, as this vulnerability has been patched in the affected versions.\"]],\"hovertemplate\":\"Cluster=%{marker.color}\\u003cbr\\u003ePC1=%{x}\\u003cbr\\u003ePC2=%{y}\\u003cbr\\u003ePC3=%{z}\\u003cbr\\u003eSeverity=%{customdata[0]}\\u003cextra\\u003e\\u003c\\u002fextra\\u003e\",\"legendgroup\":\"9\",\"marker\":{\"color\":[9,9,9,9,9,9,9,9,9,9,9,9,9,9,9,9,9,9,9,9],\"coloraxis\":\"coloraxis\",\"symbol\":\"square\"},\"mode\":\"markers\",\"name\":\"9\",\"scene\":\"scene\",\"showlegend\":true,\"x\":[-0.1532498300075531,-0.169851616024971,-0.16114141047000885,-0.27244406938552856,-0.3181707262992859,-0.16547243297100067,-0.2536649703979492,-0.3520827889442444,-0.31548142433166504,-0.3808276057243347,-0.3078943192958832,-0.4524032771587372,-0.4258177876472473,-0.370335191488266,-0.3481176793575287,-0.4358532726764679,-0.4060432016849518,-0.3888706564903259,-0.3915887773036957,-0.2896498143672943],\"y\":[-0.26042237877845764,-0.1409187614917755,-0.10567472875118256,-0.2379264235496521,-0.1068674847483635,-0.18282866477966309,-0.1701493114233017,-0.16370892524719238,-0.20027323067188263,-0.014748084358870983,-0.1784377545118332,-0.1634397655725479,-0.21148410439491272,-0.144868403673172,-0.034920405596494675,-0.14789468050003052,-0.22246001660823822,-0.10693520307540894,-0.13864047825336456,-0.24185697734355927],\"z\":[-0.1576995998620987,-0.2611483931541443,-0.17730364203453064,-0.12807276844978333,-0.10583819448947906,-0.09987442195415497,-0.2841109037399292,-0.19428123533725739,-0.1652243435382843,-0.10715284943580627,-0.104634128510952,-0.1811835616827011,-0.2917400896549225,-0.26574039459228516,-0.2774737775325775,-0.3112839460372925,-0.27924084663391113,-0.24151669442653656,-0.23254479467868805,-0.1808028370141983],\"type\":\"scatter3d\"},{\"customdata\":[[80,3,\"Upgrade to OpenSSL version that has patched this vulnerability, such as 1.1.1l or later, or consider using a secure alternative library.\"],[60,3,\"Update OpenSSL to the latest version, which includes a fix for this vulnerability (CVE-2022-4450).\"],[60,3,\"Update OpenSSL to version 3.1 or higher, as the issue is not present in these versions.\"],[60,3,\"Update to the latest version of libgcrypt (at least v1.9.10) to address this vulnerability and prevent remote attackers from initiating a Bleichenbacher-style attack.\"],[60,3,\"Update GnuTLS to the latest version, as a patch has been released to address this vulnerability (CVE-2024-28834)\"],[60,3,\"Upgrade to OpenSSL version 1.1.1q or later, which addresses this issue.\"],[60,3,\"Update the OpenSSL library to version 1.1.1m or later, which resolves the X.509 Name Constraints Read Buffer Overflow vulnerability (CVE-2022-4203)\"],[60,3,\"Update OpenSSL to the latest version, which includes patches for this vulnerability (CVE-2023-0464), or disable policy processing by passing the `-policy` argument or using the `X509_VERIFY_PARAM_set1_policies()` function.\"],[60,3,\"Upgrade to OpenSSL version 1.1.1t or later, as this issue has been resolved in the specified version.\"],[60,3,\"Upgrade to a version of OpenSSL that addresses this issue, or consider using alternative cryptographic libraries and protocols to minimize the risk of Denial of Service attacks.\"],[60,3,\"Upgrade to OpenSSL version 3.0.2 or later, which resolves the vulnerability CVE-2023-0216.\"],[60,3,\"Upgrade to a fixed version of OpenSSL (e.g., OpenSSL 1.1.1k or later) to resolve the issue and ensure proper authentication of associated data entries.\"],[60,3,\"Update OpenSSL to the latest version that includes the fix for CVE-2024-0727, or restrict access to the vulnerable APIs and only allow trusted sources to load PKCS12 files.\"],[60,3,\"Update the OpenSSL library to a version that fixes the NULL pointer dereference issue, such as OpenSSL 3.0.2 or later.\"],[60,3,\"Update to OpenSSL version 1.1.1n or later, which resolves this timing-based side channel vulnerability (CVE-2022-4304).\"],[30,3,\"Upgrade OpenLDAP to a version that properly parses OpenSSL-style multi-keyword mode cipher strings, such as OpenLDAP 2.4.47 or later.\"],[30,3,\"Update OpenSSL to a version that fixes this issue, such as 1.0.0 or later, and ensure all vulnerable instances are updated.\"],[30,3,\"Update to the latest version of OpenSSL that addresses this issue, which is OpenSSL 1.0.2 or later.\"],[30,3,\"Upgrade to a newer version of Libgcrypt (at least 1.9.0) which addresses this issue and ensures semantic security for ElGamal encryption.\"],[30,3,\"Remove or replace the Dual_EC_DRBG algorithm with a more secure random number generator, such as Fortuna or Yarrow-Ulam, to prevent potential attacks on cryptographic protection mechanisms.\"],[30,3,\"Update OpenLDAP package to version openldap-2.4.46-10.el8 or later, which includes the fix for this vulnerability.\"],[-1,3,\"Upgrade GnuTLS to the latest version that includes a complete fix for CVE-2023-5981, which should address the incomplete resolution identified as CVE-2024-0553.\"]],\"hovertemplate\":\"Cluster=%{marker.color}\\u003cbr\\u003ePC1=%{x}\\u003cbr\\u003ePC2=%{y}\\u003cbr\\u003ePC3=%{z}\\u003cbr\\u003eSeverity=%{customdata[0]}\\u003cextra\\u003e\\u003c\\u002fextra\\u003e\",\"legendgroup\":\"3\",\"marker\":{\"color\":[3,3,3,3,3,3,3,3,3,3,3,3,3,3,3,3,3,3,3,3,3,3],\"coloraxis\":\"coloraxis\",\"symbol\":\"x\"},\"mode\":\"markers\",\"name\":\"3\",\"scene\":\"scene\",\"showlegend\":true,\"x\":[-0.16800671815872192,-0.2014957070350647,-0.2037825584411621,-0.23825150728225708,-0.1867503821849823,-0.1571090668439865,-0.20609496533870697,-0.21976445615291595,-0.22849494218826294,-0.34967735409736633,-0.2156302034854889,-0.33010730147361755,-0.11320527642965317,-0.20417776703834534,-0.2619926333427429,-0.3553772270679474,-0.3122873902320862,-0.10438073426485062,-0.3151260316371918,-0.21210026741027832,-0.18475297093391418,-0.284121036529541],\"y\":[-0.14806081354618073,-0.01658935844898224,-0.02475268952548504,-0.03696916252374649,-0.03736552223563194,-0.0512971393764019,-0.19295020401477814,-0.20506718754768372,0.00584803381934762,-0.14516590535640717,-0.037252236157655716,0.07590774446725845,-0.08037257194519043,-0.04299004748463631,0.02527921460568905,-0.06905921548604965,0.13427045941352844,-0.12589848041534424,-0.13900278508663177,0.11583802849054337,-0.11176997423171997,0.013437575660645962],\"z\":[-0.2637546956539154,-0.2549248933792114,-0.24053195118904114,-0.2257547229528427,-0.15912219882011414,-0.31489741802215576,-0.19209247827529907,-0.18164801597595215,-0.2511112093925476,-0.19012384116649628,-0.2375955730676651,-0.2403622418642044,-0.20212587714195251,-0.29097673296928406,-0.24228708446025848,-0.23309381306171417,-0.21300455927848816,-0.2730049192905426,-0.1778019368648529,-0.12941625714302063,-0.23906823992729187,-0.27761784195899963],\"type\":\"scatter3d\"},{\"customdata\":[[80,10,\"Ensure that all setuid files are properly secured with strict permissions and ownership, and consider using a Linux distribution or package manager that has already applied the necessary patches for CVE-2021-3847.\"],[80,10,\"Update the e2fsprogs package to a version that is not vulnerable (e.g. 1.46.6 or later) and ensure all systems are reboots after the update to ensure the new libraries are loaded.\"],[80,10,\"Update the Linux kernel to a version that addresses the issue, or apply the patch provided by the Linux community to fix the slab-out-of-bound read vulnerability (CVE-2023-2176).\"],[80,10,\"Update the Linux kernel to a version that has been patched for CVE-2023-3397, or apply the relevant patch to the existing kernel version.\"],[80,10,\"Update the Linux kernel to a version that includes the fix for CVE-2019-19814, or apply the patch from the kernel's bug tracker.\"],[80,10,\"Upgrade the Linux kernel to a version past commit 0323bce598eea038714f941ce2b22541c46d488f.\"],[80,10,\"Apply the patch for CVE-2023-20588, which addresses the division-by-zero vulnerability affecting AMD processors.\"],[80,10,\"Update to a kernel version that addresses the issue (e.g., Linux 6.2 or later) or apply the relevant patch from the Linux Kernel Mailing List.\"],[80,10,\"Update the Linux kernel to a version that includes the fix for CVE-2019-19449, such as 5.2.14 or later.\"],[80,10,\"Set the `dumpable` flag to 0 for all SUID binaries and ensure that the `core_pattern` is set to an absolute path or a value that does not rely on the current working directory.\"],[80,10,\"Upgrade the Linux kernel to a version past commit 3e337087c3b5805fe0b8a46ba622a962880b5d64.\"],[80,10,\"Upgrade the Linux kernel to a version that includes the fix for CVE-2023-4128, such as kernel version 6.1 or later.\"],[80,10,\"Update the affected Linux library to the latest version that includes a fix for CVE-2023-1194, or consider using a vulnerability management solution to automate the process.\"],[60,10,\"Update the Linux kernel to a version that addresses CVE-2023-3773, or apply the relevant patch to fix the out-of-bounds read vulnerability in the XFRM subsystem.\"],[60,10,\"Update the Linux kernel to a version that addresses the issue, specifically updating to 6.4.2 or higher.\"],[60,10,\"Update the Linux kernel to a version that includes the fix for CVE-2023-4155, which is available in version 6.2.13 or later.\"],[30,10,\"Upgrade the Linux kernel to a version that addresses the CVE-2022-2961 vulnerability, such as by updating the OS or using a kernel patch.\"],[30,10,\"Upgrade the Linux kernel to a version greater than 3.1 or patch the kernel with the relevant fix (e.g., https:\\u002f\\u002flkml.org\\u002flkml\\u002f2012\\u002f2\\u002f14\\u002f345)\"],[30,10,\"Upgrade to a newer version of the Linux kernel (3.9 or later) that fixes this vulnerability, or apply the relevant patch to the affected kernel version.\"],[30,10,\"Update systemd to version 211 or later, which includes the fix for this vulnerability.\"],[30,10,\"Configure auditd to log all open_by_handle_at system calls, regardless of user capability, by setting the following in \\u002fetc\\u002faudit\\u002faudit.conf: log_format = RAW; log_group =*; log_priority = DEBUG; and then restarting the audit service.\"],[30,10,\"Update to a version of GNU Coreutils that addresses the race condition vulnerability, such as 8.32 or later.\"],[30,10,\"Update the Linux kernel to a version that addresses the vulnerability (CVE-2016-8660) or disable XFS support until a patch is applied.\"],[30,10,\"Update the vulnerable OpenSSH version to a patched one, such as OpenSSH 4.7p1 or later.\"],[30,10,\"Update the Linux kernel to a version greater than 3.1 or patch the vulnerable devices (\\u002fdev\\u002fpts\\u002f and \\u002fdev\\u002ftty*) to prevent unauthorized access to sensitive keystroke information.\"],[30,10,\"Update the Linux kernel to a version greater than or equal to 3.2, which patches the vulnerability and prevents local users from obtaining sensitive keystroke information via access to \\u002fproc\\u002finterrupts.\"],[30,10,\"Upgrade to a vulnerable version-free version of GNU Coreutils, such as 8.32 or later.\"],[30,10,\"Upgrade the Linux kernel to a version that no longer has this vulnerability (e.g., 5.17 or later), and consider recompiling affected binary files with more modern compiler versions.\"],[30,10,\"Update the initscripts in rPath Linux 1 to set secure permissions for the \\u002fvar\\u002flog\\u002fbtmp file, and ensure sshd is configured to log failed authentication attempts.\"],[30,10,\"Upgrade the kernel to a version that includes the fix for the vulnerability, such as kernel-3.11 or later.\"],[30,10,\"Update the Linux kernel to a version that addresses this issue, such as 6.2 or later.\"],[30,10,\"Update OpenLDAP to version 2.4.46 or later, as it addresses the vulnerability by changing the way slapd creates its PID file.\"],[30,10,\"Set the `\\u002fproc` filesystem to read-only mode by running the command `mount -o ro,mode=ro proc proc` before performing chroot operations.\"],[30,10,\"Upgrade the Linux kernel to a version after 4.7 or patch the snd_compr_tstamp function to properly initialize the timestamp data structure.\"],[30,10,\"This is a disputed finding, and therefore no action is required. The kernel engineers dispute the finding, suggesting that it may only be relevant if new callers were added that misuse the info-\\u003eowner field in an unsafe way.\"],[30,10,\"Restrict access to sensitive files and directories by setting proper permissions, such as setting the sticky bit (chmod o+t) and ensuring that the owner of a directory has read-only permission (chmod ugo=r). Additionally, consider implementing SELinux or AppArmor to further restrict privileges.\"],[30,10,\"Update the affected systemd packages to the latest version available, as this issue is already fixed in newer releases.\"],[30,10,\"Apply the patch provided by the Linux kernel team to fix the out-of-bounds read vulnerability in the SMC protocol stack, or upgrade to a fixed version of the kernel if possible.\"],[30,10,\"Disable the CONFIG_IA32_AOUT kernel configuration option to mitigate the vulnerability\"],[30,10,\"Update the Linux kernel to version 5.10.17 or later, which includes a fix for this vulnerability.\"],[30,10,\"Apply the patch or update to NTFS3 subsystem in Linux kernel (CVE-2022-3238) to fix this vulnerability.\"],[30,10,\"Update the shadow-utils package to a version that fixes the setuid program configuration, such as shadow-4.8-3 or later.\"],[30,10,\"Update the Linux kernel to a version that includes the fix for CVE-2019-19378, or apply the patch provided in the commit description.\"],[30,10,\"Update the `sysvinit` package to the latest version and ensure the `--no-root` option is not used in the installer, or use an alternative init system.\"],[30,10,\"Disable deduplication to prevent CAIN attacks and protect ASLR.\"],[0,10,\"Review and refactor the memory access checks in mem_protect.c to ensure they are correctly placed, and consider using memory protection mechanisms such as Memory Protection Keys (MPK) or Address Space Layout Randomization (ASLR) to prevent local privilege escalation.\"],[-1,10,\"Update GCC to a version that fixes the issue (e.g. GCC 12.2) or use alternative stack protection mechanisms (e.g. ASan, UBSan)\"]],\"hovertemplate\":\"Cluster=%{marker.color}\\u003cbr\\u003ePC1=%{x}\\u003cbr\\u003ePC2=%{y}\\u003cbr\\u003ePC3=%{z}\\u003cbr\\u003eSeverity=%{customdata[0]}\\u003cextra\\u003e\\u003c\\u002fextra\\u003e\",\"legendgroup\":\"10\",\"marker\":{\"color\":[10,10,10,10,10,10,10,10,10,10,10,10,10,10,10,10,10,10,10,10,10,10,10,10,10,10,10,10,10,10,10,10,10,10,10,10,10,10,10,10,10,10,10,10,10,10,10],\"coloraxis\":\"coloraxis\",\"symbol\":\"cross\"},\"mode\":\"markers\",\"name\":\"10\",\"scene\":\"scene\",\"showlegend\":true,\"x\":[0.12168692797422409,0.12184108048677444,0.22108179330825806,0.24265219271183014,0.3388229310512543,0.1834253966808319,0.13298480212688446,0.15421590209007263,0.2994462847709656,0.06579937040805817,0.3207263946533203,0.31958436965942383,0.08185642212629318,0.2612898647785187,0.2969663441181183,0.06283892691135406,0.17661131918430328,0.28256693482398987,0.19524383544921875,-0.04951612278819084,0.12563422322273254,-0.05658344179391861,0.1347324550151825,-0.16427360475063324,0.20126543939113617,0.24996505677700043,0.11230627447366714,0.22239136695861816,-0.1082790344953537,0.174756720662117,0.20418700575828552,-0.017420148476958275,0.1813189834356308,0.11766274273395538,0.2594108581542969,-0.12697629630565643,0.013490372337400913,0.035136040300130844,0.18690499663352966,0.21871745586395264,0.13618412613868713,-0.038965754210948944,0.29319825768470764,0.04795355349779129,0.17944751679897308,0.2651025354862213,0.11406276375055313],\"y\":[0.33181461691856384,-0.01017004530876875,0.11193053424358368,0.15696802735328674,0.06990847736597061,0.12049812823534012,0.14061084389686584,0.007877849042415619,0.08480367809534073,0.1481320708990097,0.07920574396848679,0.1832377314567566,-0.026827454566955566,-0.07313898950815201,0.03810232877731323,0.24053528904914856,0.11601631343364716,0.16749440133571625,0.24909061193466187,0.21426205337047577,0.16225862503051758,0.11749909818172455,0.008866171352565289,0.017599904909729958,0.2360038161277771,0.26659029722213745,0.10570982098579407,0.013240247964859009,0.08539173007011414,0.17266391217708588,-0.004009899217635393,0.07175908237695694,0.25298789143562317,0.062200289219617844,0.1040433719754219,0.19606702029705048,0.10049183666706085,-0.022860705852508545,0.1865096092224121,0.22357626259326935,0.16532188653945923,0.1906813532114029,-0.008046240545809269,0.2113722562789917,0.21359723806381226,0.18905669450759888,0.04284864291548729],\"z\":[0.2893722951412201,0.18364225327968597,-0.06856261193752289,0.2019728124141693,0.2562779188156128,0.07410576939582825,-0.04886278882622719,0.030350107699632645,0.2721804082393646,0.26579946279525757,0.10710804164409637,-0.0071535068564116955,-0.037635695189237595,0.06861838698387146,0.05644654482603073,0.008496427908539772,0.0029380463529378176,-0.07196449488401413,0.0010554840555414557,0.3170127272605896,0.09504565596580505,0.234540656208992,0.1027626320719719,0.00018045601609628648,-0.06726021319627762,-0.05038565397262573,0.24372225999832153,0.11230737715959549,0.2165241241455078,0.012978732585906982,0.15227243304252625,0.31459948420524597,0.11670142412185669,-0.023134833201766014,-0.02430632896721363,0.4237392842769623,0.1546122133731842,-0.005086458753794432,0.0487644225358963,-0.04459516704082489,0.1815229207277298,0.21008199453353882,0.21446605026721954,0.13271087408065796,-0.07987283915281296,0.036279357969760895,0.11901289969682693],\"type\":\"scatter3d\"},{\"customdata\":[[80,6,\"Disable or restrict policy processing in the OpenSSL configuration to prevent denial of service attacks.\"],[80,6,\"Upgrade CPAN.pm to version 2.35 or later, which includes TLS certificate verification for HTTPS downloads.\"],[60,6,\"Update to OpenSSL version that includes the fix for CVE-2023-3817, or disable excessive DH parameter checks by using a secure default value or implementing custom validation.\"],[60,6,\"Update GnuTLS to the latest version, which includes a fix for this vulnerability (CVE-2024-28835), or use an alternative TLS library if possible.\"],[60,6,\"Upgrade OpenSSL to the latest version that fixes the vulnerability (CVE-2023-6237) or apply the patch provided by the OpenSSL team.\"],[60,6,\"Upgrade to OpenSSL 3.0 or later, which addresses this issue by not performing excessive checks on DH keys and parameters.\"],[60,6,\"Update Certifi to the latest version (2022.12.07) to remove TrustCor root certificates and ensure compliance with Mozilla's trust store.\"],[50,6,\"Update the `ssl_policy` to `\"],[30,6,\"Upgrade HTTP::Tiny to version 0.083 or later, which includes secure TLS certificate verification by default.\"],[0,6,\"Disable policy processing by default, and only enable it when necessary, by setting the `-policy` argument to `none` or omitting it altogether.\"],[-1,6,\"Update GnuTLS to the latest version, or consider using a trusted certificate authority to ensure proper chain validation.\"],[-1,6,\"Update certifi to version 2023.07.22 or later to remove the e-Tugra root certificates from the trusted store.\"],[-1,6,\"Update to a newer version of OpenSSL that addresses the issue, or patch the affected code if you are using an older version.\"]],\"hovertemplate\":\"Cluster=%{marker.color}\\u003cbr\\u003ePC1=%{x}\\u003cbr\\u003ePC2=%{y}\\u003cbr\\u003ePC3=%{z}\\u003cbr\\u003eSeverity=%{customdata[0]}\\u003cextra\\u003e\\u003c\\u002fextra\\u003e\",\"legendgroup\":\"6\",\"marker\":{\"color\":[6,6,6,6,6,6,6,6,6,6,6,6,6],\"coloraxis\":\"coloraxis\",\"symbol\":\"circle\"},\"mode\":\"markers\",\"name\":\"6\",\"scene\":\"scene\",\"showlegend\":true,\"x\":[-0.16501396894454956,-0.3503536283969879,-0.2579047381877899,-0.226877823472023,-0.3311713635921478,-0.2580804228782654,-0.3092542588710785,-0.39033442735671997,-0.3902445137500763,-0.4435543715953827,-0.41667407751083374,-0.3853626549243927,-0.27715858817100525],\"y\":[-0.012274952605366707,-0.08537937700748444,-0.12078822404146194,-0.1347072869539261,-0.05728645995259285,-0.009410262107849121,0.10045143961906433,-0.03322545439004898,-0.013997578993439674,-0.048149242997169495,-0.03780448064208031,0.02698858082294464,0.030150156468153],\"z\":[-0.1353086233139038,-0.22291135787963867,-0.30923160910606384,-0.2565779685974121,-0.3018471300601959,-0.2952510714530945,-0.20462140440940857,-0.22798782587051392,-0.2562856674194336,-0.21768927574157715,-0.24874792993068695,-0.1576872617006302,-0.3175112307071686],\"type\":\"scatter3d\"},{\"customdata\":[[80,1,\"Enable the 'Randomize per-cpu entry area' feature in \\u002farch\\u002fx86\\u002fmm\\u002fcpu_entry_area.c by setting KASLR to 1, which will help mitigate the risk of per-cpu entry area leaks and unauthorized memory access.\"],[80,1,\"Update the Linux kernel to a version that addresses this vulnerability (CVE-2013-7445) or apply the patch provided by the kernel developers.\"],[80,1,\"Update the Linux kernel to a version of 6.4.10 or later to resolve the use-after-free vulnerability in l2cap_sock_release.\"],[80,1,\"Update the Linux kernel to a version that addresses the issue (CVE-2023-4004), or apply the relevant patch if an update is not available.\"],[60,1,\"Update the Linux kernel to a version that fixes the null-pointer-dereference bug (CVE-2023-2898) or apply the patch provided in the security advisory.\"],[60,1,\"Upgrade the Linux kernel to a version that includes the fix for CVE-2023-31083 or apply the relevant patch to resolve the race condition.\"],[60,1,\"Update the Linux kernel to version 6.2.1 or later, which addresses this issue (CVE-2023-31082).\"],[60,1,\"Apply the kernel patch for CVE-2023-23005 to prevent potential memory corruption issues.\"],[60,1,\"Update the Linux kernel to a version that addresses the use-after-free vulnerability CVE-2023-3863 (CVE-2022-3863) or apply the relevant patch, such as USN-5224-1 (for Ubuntu-based systems).\"],[60,1,\"Update the Linux kernel to a version that correctly initializes socket UID as per upstream commits a096ccca6e50 and 66b2c338adce.\"],[60,1,\"Ensure that task processes are properly ended by implementing a robust process management strategy, such as using the `pkill` command or the `SIGTERM` signal to terminate processes, and consider implementing a Linux kernel patch (CVE-2019-20794) to prevent resource exhaustion.\"],[60,1,\"Apply the patch provided by the Linux kernel developers to fix the missing lock in io_uring\\u002fmsg_ring.c for IOPOLL and prevent denial of service attacks.\"],[60,1,\"Update the Linux kernel to a version that addresses this vulnerability, as described in CVE-2023-0597.\"],[60,1,\"Update the Linux kernel to a version that includes the fix for CVE-2023-4133, or apply the patch provided by the vendor.\"],[60,1,\"Update the Linux kernel to a version that addresses the issue, such as 5.3 or later.\"],[60,1,\"Update the Linux kernel to a version that addresses the CVE-2023-1206 vulnerability, which fixes the hash collision flaw in the IPv6 connection lookup table.\"],[60,1,\"Update to a vulnerable version of the Linux kernel or apply the patch provided by the upstream developers.\"],[60,1,\"Update the Linux kernel to a version that includes the fix for CVE-2023-3772, such as upgrading from a vulnerable version like Linux 5.4.79 or earlier to a patched version like Linux 5.15.35 or later.\"],[60,1,\"Update the Linux kernel to a version that includes the fix for CVE-2022-4543, or apply the patch provided by the Linux kernel team.\"],[60,1,\"Update the Linux kernel to version 5.12 or later, which includes the fix for this vulnerability (CVE-2020-36694), to prevent potential use-after-free attacks.\"],[60,1,\"Update the Linux kernel to a version that addresses the vulnerability (CVE-2020-14304) or patch the affected drivers using ethtool\"],[30,1,\"Apply the patch for CVE-2019-12456 to fix the kernel double fetch vulnerability.\"],[30,1,\"Update the Linux kernel to version 2.6.32 or later, which includes a fix for this vulnerability (CVE-2010-5321).\"],[30,1,\"Update the Linux kernel to a version that is not vulnerable, such as 6.2 or later.\"],[30,1,\"Review and update the kernel patch for the affected driver to include proper error handling, specifically checking the return value of alloc_workqueue().\"],[30,1,\"Update the Linux kernel to a version that is not vulnerable (e.g. version 5.2 or higher) or apply the patch provided by the Linux kernel maintainers to fix the null pointer dereference.\"],[30,1,\"Update the Linux kernel to a version that fixes this issue, or consider applying the patch provided in the CVE-2019-12378 advisory.\"],[30,1,\"Update the Linux kernel to a version that addresses the null pointer dereference vulnerability (CVE-2019-16234)\"],[30,1,\"Update the Linux kernel to a version that addresses the vulnerability (e.g., update from 5.2.14 to a later version).\"],[30,1,\"Update the Linux kernel to version 6.3 or later, which includes a fix for this issue (CVE-2023-31081)\"],[30,1,\"Update the Linux kernel to a version that addresses the vulnerability, such as version 4.14.108 or later, or apply the patch provided in the CVE-2018-17977 advisory.\"],[30,1,\"Update the Linux kernel to a version that includes the fix for CVE-2019-16233, such as kernel 5.3 or later.\"],[30,1,\"Update the Linux kernel to a version that addresses this vulnerability (e.g., patch level 4.12.10 or later), which will flush the node and node_ext caches and prevent the cache leak.\"],[30,1,\"Update the Linux kernel to a version that includes the fix for CVE-2019-16230, which addresses the null pointer dereference issue in drivers\\u002fgpu\\u002fdrm\\u002fradeon\\u002fradeon_display.c.\"],[30,1,\"Update the Linux kernel to a version that addresses this issue, such as upgrading from 5.1.5 to a later version that includes a fix for CVE-2019-12382.\"],[30,1,\"Update the Linux kernel to a version that addresses this vulnerability, such as upgrading from 6.2 to 6.3 or later.\"],[30,1,\"Update the Linux kernel to a version that fixes the NULL pointer dereference vulnerability (CVE-2018-12928), or apply the patch provided by the upstream kernel developers.\"],[30,1,\"Update the Linux kernel to a version that includes the fix for this vulnerability, such as version 4.13 or later.\"],[30,1,\"Upgrade the Linux kernel to a version that includes the fix for this issue, or implement additional logging and monitoring to detect and prevent denial-of-service attacks in the efi subsystem.\"],[30,1,\"Upgrade to a supported version of Linux kernel (e.g., 3.x or 4.x) that does not have this vulnerability.\"],[30,1,\"Disable IPv6 or restrict its use to trusted networks to prevent remote attackers from determining whether a host is sniffing the network.\"],[30,1,\"Update the Linux kernel to a version that includes the fix for CVE-2019-12381, which addresses the unchecked kmalloc of new_ra in ip_ra_control.\"],[30,1,\"Update the Linux kernel to a version that addresses this vulnerability, such as upgrading from 4.7 or earlier to a later version.\"],[30,1,\"Upgrade the Linux kernel to a version that has been patched for this vulnerability (CVE-2016-10723), or apply the proposed patches if they have been accepted by the software maintainer.\"],[30,1,\"Apply the relevant kernel patch to address the use-after-free vulnerability (CVE-2023-4134) and ensure regular security updates are applied to prevent similar issues.\"],[30,1,\"Upgrade to a version of the Linux kernel that is not vulnerable (e.g., kernel 2.6.17 or later) or apply the patch provided in the referenced CVE-2007-3719.\"],[30,1,\"Update the affected kernel version to a patched one, such as 5.15.22 or later, which includes the fix for this race condition bug (CVE-2022-1247).\"],[30,1,\"Apply the patch or upgrade to a fixed kernel version (e.g. Linux kernel 5.2.17) to resolve the null-pointer dereference vulnerability in the drivers\\u002fnet\\u002fwireless\\u002fmarvell\\u002flibertas\\u002fif_sdio.c file.\"]],\"hovertemplate\":\"Cluster=%{marker.color}\\u003cbr\\u003ePC1=%{x}\\u003cbr\\u003ePC2=%{y}\\u003cbr\\u003ePC3=%{z}\\u003cbr\\u003eSeverity=%{customdata[0]}\\u003cextra\\u003e\\u003c\\u002fextra\\u003e\",\"legendgroup\":\"1\",\"marker\":{\"color\":[1,1,1,1,1,1,1,1,1,1,1,1,1,1,1,1,1,1,1,1,1,1,1,1,1,1,1,1,1,1,1,1,1,1,1,1,1,1,1,1,1,1,1,1,1,1,1,1],\"coloraxis\":\"coloraxis\",\"symbol\":\"diamond\"},\"mode\":\"markers\",\"name\":\"1\",\"scene\":\"scene\",\"showlegend\":true,\"x\":[0.3277592360973358,0.29944315552711487,0.15088987350463867,0.23506440222263336,0.3470383286476135,0.23895959556102753,0.2954758405685425,0.2792905271053314,0.06136607378721237,0.12126602232456207,0.25141921639442444,0.2698436677455902,0.3194197118282318,0.14460475742816925,0.30492115020751953,0.07108376920223236,0.19586345553398132,0.2952434718608856,0.18319891393184662,0.16910883784294128,0.23005585372447968,0.33845075964927673,0.3726203441619873,0.37863537669181824,0.47265589237213135,0.25304946303367615,0.4161532521247864,0.415769100189209,0.41615381836891174,0.33668604493141174,0.25805699825286865,0.4134826958179474,0.16688242554664612,0.37852174043655396,0.3780721426010132,0.34315136075019836,0.40797099471092224,0.20882010459899902,0.335835337638855,0.34794965386390686,0.0648363009095192,0.4045800566673279,0.24427862465381622,0.2654655873775482,0.22193993628025055,0.268240362405777,0.2592499256134033,0.3792212903499603],\"y\":[0.08783337473869324,0.01763666421175003,0.09133417904376984,0.07939642667770386,0.06462718546390533,0.12892712652683258,0.11693908274173737,0.12251215428113937,-0.03357391431927681,0.14079640805721283,0.057482391595840454,0.013943133875727654,0.12944382429122925,-0.10837572813034058,0.08266563713550568,-0.009373611770570278,-0.03834908828139305,-0.07583275437355042,0.12853491306304932,0.040965404361486435,0.10932901501655579,0.06822393834590912,-0.08434662222862244,0.08279462903738022,0.0730878934264183,0.0424266941845417,0.04389924556016922,0.028255097568035126,0.050646454095840454,-0.02995038405060768,-0.0504935085773468,0.16449175775051117,0.12093615531921387,0.06991269439458847,-0.010121273808181286,0.13964684307575226,0.09266000986099243,0.1604664921760559,0.038167789578437805,-0.10036565363407135,0.05137738958001137,0.026363447308540344,0.051719021052122116,0.18444319069385529,-0.01601722277700901,0.12070305645465851,0.1566803902387619,0.14532575011253357],\"z\":[-0.11255387961864471,-0.027261510491371155,-0.03802445903420448,-0.016711754724383354,0.0476803258061409,-0.11950091272592545,-0.11554941534996033,-0.1317410171031952,-0.1799786388874054,-0.06550975888967514,0.08942601829767227,-0.155674010515213,-0.05035587400197983,-0.09413691610097885,-0.13453951478004456,-0.16846661269664764,0.058865513652563095,-0.11765757948160172,-0.1621173471212387,-0.008390075527131557,-0.17454630136489868,-0.050265632569789886,-0.1108507290482521,-0.05010820925235748,-0.09143421053886414,-0.03158096969127655,-0.1973927617073059,-0.22132493555545807,-0.13412432372570038,-0.08330172300338745,-0.038837213069200516,-0.15847453474998474,-0.18194074928760529,-0.11453013122081757,-0.20383933186531067,-0.06467651575803757,-0.03680344671010971,-0.19683639705181122,-0.13645139336585999,-0.0037407330237329006,0.009717750363051891,-0.17673048377037048,-0.07822303473949432,-0.09023451805114746,-0.13489067554473877,0.01363544911146164,-0.0658259317278862,-0.16931317746639252],\"type\":\"scatter3d\"},{\"customdata\":[[80,7,\"Apply the patch provided by SQLite to fix the heap-buffer-overflow vulnerability in the `sessionReadRecord` function, as recommended by the vendor.\"],[50,7,\"Replace `QuerySet.extra` with parameterized queries and use the Django ORM to avoid SQL injection vulnerabilities.\"],[30,7,\"Update to the latest version of SQLite (v3.41.0 or later) to resolve the segmentation fault vulnerability.\"],[30,7,\"Review and validate all SQL queries before executing them, especially when using user-input data to prevent potential memory leaks.\"],[-1,7,\"Upgrade SQLite to a version that addresses the use-after-free bug (e.g., 3.39.5 or later) or apply the patch provided by the SQLite developers to fix the issue.\"]],\"hovertemplate\":\"Cluster=%{marker.color}\\u003cbr\\u003ePC1=%{x}\\u003cbr\\u003ePC2=%{y}\\u003cbr\\u003ePC3=%{z}\\u003cbr\\u003eSeverity=%{customdata[0]}\\u003cextra\\u003e\\u003c\\u002fextra\\u003e\",\"legendgroup\":\"7\",\"marker\":{\"color\":[7,7,7,7,7],\"coloraxis\":\"coloraxis\",\"symbol\":\"square\"},\"mode\":\"markers\",\"name\":\"7\",\"scene\":\"scene\",\"showlegend\":true,\"x\":[0.00420690793544054,-0.26549386978149414,-0.05910485237836838,-0.07897113263607025,-0.09834624081850052],\"y\":[-0.0035215853713452816,0.2429196834564209,0.009349718689918518,0.11546527594327927,0.06147991120815277],\"z\":[0.04247836768627167,0.08456292748451233,0.08856617659330368,0.003007388673722744,0.027291780337691307],\"type\":\"scatter3d\"},{\"customdata\":[[80,2,\"Apply the patch identified as 227500897dfb07fb7d27f7aa570050e62617e3be to fix the integer overflow vulnerability in LibTIFF's TIFFReadRGBATileExt function.\"],[60,2,\"Update libtiff to version 4.4.1 or later, which includes the fix for this vulnerability (commit afaabc3e)\"],[60,2,\"Update libtiff to version 4.4.1 or later, which includes the fix for this vulnerability (commit 33aee127)\"],[60,2,\"Update libtiff to version 4.4.0 or later, which includes the fix for this vulnerability (commit e8131125)\"],[60,2,\"Update LibTIFF to version 4.5.0 or higher, which includes the fix for this vulnerability (commit 33aee127), and recompile the affected application\"],[60,2,\"Update libtiff to version 4.4.1 or higher, which includes the fix for the out-of-bounds write vulnerability (CVE-2023-0803), and ensure that all dependencies are updated accordingly.\"],[60,2,\"Update LibTIFF to version 4.4.0 with the fix available in commit 33aee127, or use a supported version of LibTIFF that has already included this fix.\"],[60,2,\"Update LibTIFF to version 4.5.0 or higher, which includes the fix for the out-of-bounds write vulnerability (CVE-2022-3597)\"],[60,2,\"Update libtiff to version 4.4.0 with commit 236b7191 or later to fix the out-of-bounds write vulnerability, allowing users who compile libtiff from sources to mitigate this issue.\"],[60,2,\"Update libtiff to version 4.4.1 or higher, which includes the fix for this vulnerability, and ensure that any custom compiled versions are patched with commit afaabc3e.\"],[60,2,\"Update LibTIFF to version 4.4.0 or higher, which includes the fix for this vulnerability (commit afaabc3e), or compile it from source with the commit applied.\"],[60,2,\"Update libtiff to version 4.4.1 or higher, which includes the fix for the out-of-bounds write vulnerability (CVE-2022-3598)\"],[60,2,\"Update the libtiff library to a version that has been patched for this vulnerability, such as version 4.5.0 or later.\"],[60,2,\"Update libtiff to version 4.4.0 with commit afaabc3e or later, or use a patched version of the library.\"],[60,2,\"Update libtiff to version 4.4.0 or later, which includes the fix for the out-of-bounds read vulnerability (CVE-2023-0797), or apply the patch available in commit afaabc3e.\"],[60,2,\"Update libtiff to version 4.4.0 with commit e8131125 or later, which fixes the out-of-bounds read vulnerability.\"],[60,2,\"Update libtiff to version 4.4.0 with commit 236b7191 or later, which fixes the out-of-bounds write vulnerability (CVE-2022-3627) and prevents denial-of-service attacks.\"],[60,2,\"Upgrade LibTIFF to a version that addresses the CVE-2022-48281 vulnerability, or use an alternative library that does not have this issue.\"],[60,2,\"Update libtiff to version 4.4.1 or later, which includes the fix for this vulnerability.\"]],\"hovertemplate\":\"Cluster=%{marker.color}\\u003cbr\\u003ePC1=%{x}\\u003cbr\\u003ePC2=%{y}\\u003cbr\\u003ePC3=%{z}\\u003cbr\\u003eSeverity=%{customdata[0]}\\u003cextra\\u003e\\u003c\\u002fextra\\u003e\",\"legendgroup\":\"2\",\"marker\":{\"color\":[2,2,2,2,2,2,2,2,2,2,2,2,2,2,2,2,2,2,2],\"coloraxis\":\"coloraxis\",\"symbol\":\"x\"},\"mode\":\"markers\",\"name\":\"2\",\"scene\":\"scene\",\"showlegend\":true,\"x\":[0.08408521115779877,0.09260894358158112,0.11142754554748535,0.08784855157136917,0.1300460249185562,0.08387687802314758,0.0676286444067955,0.14074479043483734,0.17297989130020142,0.0997958704829216,0.0701410174369812,0.09819649904966354,0.1511748880147934,0.08981060236692429,0.16048721969127655,0.0990956500172615,0.15062648057937622,0.17115604877471924,0.1075516939163208],\"y\":[-0.510254979133606,-0.6762208342552185,-0.5977993607521057,-0.6059402823448181,-0.6317939162254333,-0.6018255949020386,-0.6386784315109253,-0.5245077610015869,-0.5776421427726746,-0.7020982503890991,-0.6371894478797913,-0.6065945029258728,-0.5060838460922241,-0.6513403654098511,-0.6081064939498901,-0.6757234334945679,-0.540290355682373,-0.4874080419540405,-0.6402344107627869],\"z\":[0.29571405053138733,0.3575059771537781,0.4491552412509918,0.38613948225975037,0.3821258246898651,0.3322172462940216,0.39332470297813416,0.3296758532524109,0.3131212592124939,0.36790210008621216,0.37595105171203613,0.31394344568252563,0.2056419998407364,0.3457568287849426,0.35729748010635376,0.33875223994255066,0.31242087483406067,0.29542332887649536,0.3932294547557831],\"type\":\"scatter3d\"},{\"customdata\":[[80,11,\"Upgrade to BIND 9.16 or later, which implements a more efficient algorithm for NSEC3 closest encloser proofs that reduces CPU consumption.\"],[80,11,\"Upgrade the bind9 DNS server to a version that addresses the KeyTrap vulnerability (CVE-2023-50387) or apply a patch to mitigate extreme CPU consumption in DNSSEC validation.\"],[60,11,\"Update systemd-resolved to the latest version (at least 245) which includes the fix for this vulnerability, or consider using a DNSSEC validation library like Knot DNS or Unbound.\"],[60,11,\"Update the netback driver in Xen to a version that fixes the buffer overrun vulnerability (XSA-432), and consider implementing additional security measures such as rate limiting or packet filtering to prevent DoS attacks.\"],[30,11,\"Reduce the maximum TCP window size or restrict access to sensitive protocols that use long-lived connections, such as BGP.\"],[30,11,\"Update GnuPG to the latest version, which includes a fix for this vulnerability (CVE-2022-3219), or apply patches provided by the vendor.\"],[30,11,\"Upgrade to a version that correctly validates GPG keys, or use an alternative package management system like `apt-get` with the `-o` option.\"],[30,11,\"Update the Linux kernel to a version that has fixed the TCP protocol vulnerabilities (e.g. use a version with the fix for CVE-2008-4609). This can typically be done by applying security patches or upgrading to a supported version of the operating system.\"]],\"hovertemplate\":\"Cluster=%{marker.color}\\u003cbr\\u003ePC1=%{x}\\u003cbr\\u003ePC2=%{y}\\u003cbr\\u003ePC3=%{z}\\u003cbr\\u003eSeverity=%{customdata[0]}\\u003cextra\\u003e\\u003c\\u002fextra\\u003e\",\"legendgroup\":\"11\",\"marker\":{\"color\":[11,11,11,11,11,11,11,11],\"coloraxis\":\"coloraxis\",\"symbol\":\"cross\"},\"mode\":\"markers\",\"name\":\"11\",\"scene\":\"scene\",\"showlegend\":true,\"x\":[-0.12475072592496872,-0.17922167479991913,-0.10020603984594345,0.041280597448349,-0.20027513802051544,-0.113906629383564,-0.2953038513660431,0.10423930734395981],\"y\":[-0.08144302666187286,-0.10248386859893799,-0.01583419367671013,-0.09709995985031128,-0.08055084198713303,-0.11056262999773026,0.07728458195924759,-0.15124914050102234],\"z\":[-0.09937562793493271,-0.20278850197792053,-0.21805426478385925,-0.05366666242480278,-0.07856155931949615,-0.1411353498697281,-0.13660383224487305,-0.10647178441286087],\"type\":\"scatter3d\"},{\"customdata\":[[80,5,\"Update the Dockerfiles to specify a non-root user, for example, `USER devsecops` or any other desired username.\"],[50,5,\"Replace the `encrypted` attribute with `kms_key_id` and provide a valid AWS Key Management Service (KMS) key ID to ensure EBS Volume encryption at rest using KMS CMKs.\"],[50,5,\"Add 'no-new-privileges:true' in the 'security_opt' section for the Elasticsearch service in your Docker Compose file.\"],[50,5,\"Add 'no-new-privileges:true' in the 'security_opt' section of the Docker Compose file to prevent privilege escalation via setuid or setgid binaries.\"],[50,5,\"Set `map_public_ip_on_launch` to false so that resources are not publicly-accessible.\"],[50,5,\"Add 'no-new-privileges:true' in the 'security_opt' section for the redis service in your docker-compose file.\"],[50,5,\"Add 'read_only: true' to the 'redis' service in the docker-compose file to prevent malicious applications from modifying files or running additional payloads.\"],[50,5,\"Add 'no-new-privileges:true' in the 'security_opt' section of the docker-compose file to prevent privilege escalation.\"],[50,5,\"Set `debug` to `False` in your Flask app or use environment variables to set it to `False` before deploying to production.\"],[50,5,\"Add 'read_only: true' to the service definition in production.yml file.\"],[50,5,\"Add 'read_only: true' to the service configuration in production.yml file.\"],[50,5,\"Add 'no-new-privileges:true' in the 'security_opt' field to prevent privilege escalation via setuid or setgid binaries.\"],[50,5,\"Add 'read_only: true' to the 'elasticsearch' service in the docker-compose file to prevent malicious applications from modifying files.\"],[50,5,\"Add 'no-new-privileges:true' in the 'security_opt' section of the Docker Compose file to prevent privilege escalation.\"],[50,5,\"Add 'read_only: true' to the service in the docker-compose file to prevent malicious applications from modifying the container files.\"],[50,5,\"Add 'read_only: true' to the 'postgres' service in the docker-compose file.\"]],\"hovertemplate\":\"Cluster=%{marker.color}\\u003cbr\\u003ePC1=%{x}\\u003cbr\\u003ePC2=%{y}\\u003cbr\\u003ePC3=%{z}\\u003cbr\\u003eSeverity=%{customdata[0]}\\u003cextra\\u003e\\u003c\\u002fextra\\u003e\",\"legendgroup\":\"5\",\"marker\":{\"color\":[5,5,5,5,5,5,5,5,5,5,5,5,5,5,5,5],\"coloraxis\":\"coloraxis\",\"symbol\":\"circle\"},\"mode\":\"markers\",\"name\":\"5\",\"scene\":\"scene\",\"showlegend\":true,\"x\":[-0.2582697570323944,-0.39999380707740784,-0.39788755774497986,-0.36674511432647705,-0.31966325640678406,-0.36463645100593567,-0.1914656013250351,-0.36480605602264404,-0.3229076862335205,-0.28404146432876587,-0.2519398331642151,-0.33198264241218567,-0.34926649928092957,-0.3834380805492401,-0.18210560083389282,-0.22145496308803558],\"y\":[0.4212528169155121,0.2790032923221588,0.4685973823070526,0.4141983985900879,0.19963479042053223,0.4504699409008026,0.4067302644252777,0.4597024619579315,0.28818511962890625,0.3814087510108948,0.31882041692733765,0.43287503719329834,0.41430923342704773,0.4395318329334259,0.4090721905231476,0.3884550929069519],\"z\":[0.48143962025642395,0.06041475385427475,0.41732168197631836,0.4245123565196991,0.1700618863105774,0.44306421279907227,0.5726321935653687,0.44830670952796936,0.35003000497817993,0.4937012791633606,0.4592556953430176,0.43665143847465515,0.4841937720775604,0.44536304473876953,0.5947524309158325,0.5388764142990112],\"type\":\"scatter3d\"},{\"customdata\":[[80,8,\"Update the Linux kernel to a version that addresses the vulnerability (CVE-2023-35827) or apply the relevant patch to fix the race condition leading to use-after-free in ravb_remove()\"],[60,8,\"Update the Linux kernel to a patched version, such as Linux 5.17.11 or later, which fixes the vulnerability (CVE-2023-4132) and prevents the use-after-free condition.\"],[60,8,\"Update the Linux kernel to a version that fixes the issue (CVE-2023-4010) or patch the affected function using a custom patch.\"],[60,8,\"Update the affected Linux kernel package to a version that includes the fix for CVE-2023-1192.\"],[60,8,\"Update the Linux kernel to version 5.2.3 or later, and ensure that any affected devices are not used until the update is applied.\"],[60,8,\"Upgrade the Linux kernel to a version later than 6.4.2, or apply the corresponding patch (e.g., from the Linux kernel's stable branch) to fix the use-after-free write vulnerability.\"],[30,8,\"Update the Linux kernel to a version that addresses the vulnerability (CVE-2022-45884), or apply the patch provided by Trivy to fix the use-after-free issue.\"],[30,8,\"Update the Linux kernel to a version that addresses this vulnerability, such as 6.2.1 or later.\"],[30,8,\"Update the Linux kernel to a version that addresses the memory leak issue (e.g. 5.2 or later), and apply any available patches or fixes.\"],[30,8,\"Update the Linux kernel to a version that includes the fix for CVE-2022-45887 or apply the patch manually to the affected file (drivers\\u002fmedia\\u002fusb\\u002fttusb-dec\\u002fttusb_dec.c) to correct the memory leak issue.\"],[30,8,\"Update the Linux kernel to a version that includes the fix for CVE-2022-45885 (6.1 or later)\"],[30,8,\"Upgrade the Linux kernel to a version that includes the fix for CVE-2022-44033, or apply the patch provided by the vendor to resolve the race condition and prevent use-after-free vulnerabilities.\"],[30,8,\"Update the Linux kernel to a version that addresses this vulnerability (e.g., CVE-2022-45886), or apply the patch provided by the Linux kernel project to resolve the use-after-free issue.\"],[30,8,\"Apply the relevant kernel patch or update to version 6.1.0 or later to resolve the race condition and use-after-free vulnerability in drivers\\u002fchar\\u002fxillybus\\u002fxillyusb.c.\"],[30,8,\"Apply the latest patch or update to the affected kernel version (6.0.6) as described in the CVE-2022-44032 advisory, which resolves the race condition and use-after-free vulnerability.\"],[30,8,\"Apply the relevant Linux kernel patch (CVE-2022-45919) to fix the use-after-free vulnerability in drivers\\u002fmedia\\u002fdvb-core\\u002fdvb_ca_en50221.c\"],[30,8,\"Upgrade to a fixed version of the Linux kernel (e.g. 6.1 or later) to resolve this issue.\"],[30,8,\"Apply kernel patch for spi_gpio_probe() memory leak (CVE-2019-19070) to prevent denial of service attacks.\"],[30,8,\"Update the Linux kernel to a version that addresses the issue (e.g. 5.19.13 or later), and\\u002for implement additional security controls to prevent attackers from removing PCMCIA devices.\"]],\"hovertemplate\":\"Cluster=%{marker.color}\\u003cbr\\u003ePC1=%{x}\\u003cbr\\u003ePC2=%{y}\\u003cbr\\u003ePC3=%{z}\\u003cbr\\u003eSeverity=%{customdata[0]}\\u003cextra\\u003e\\u003c\\u002fextra\\u003e\",\"legendgroup\":\"8\",\"marker\":{\"color\":[8,8,8,8,8,8,8,8,8,8,8,8,8,8,8,8,8,8,8],\"coloraxis\":\"coloraxis\",\"symbol\":\"diamond\"},\"mode\":\"markers\",\"name\":\"8\",\"scene\":\"scene\",\"showlegend\":true,\"x\":[0.33229660987854004,0.23382042348384857,0.20102255046367645,0.1972701996564865,0.3228490948677063,0.3415496051311493,0.373127281665802,0.2768983542919159,0.35952404141426086,0.3293444514274597,0.2758442461490631,0.28813254833221436,0.3737199306488037,0.38628101348876953,0.3308986723423004,0.23912669718265533,0.32542285323143005,0.35340431332588196,0.3252691626548767],\"y\":[0.10636378079652786,0.17271333932876587,0.07231155782938004,0.05560741573572159,0.21936333179473877,0.11965596675872803,0.17965103685855865,0.17840592563152313,0.1730954796075821,0.12369625270366669,0.19310154020786285,0.123067207634449,0.11989102512598038,0.15696537494659424,0.24697169661521912,0.15827159583568573,0.24228285253047943,0.20321322977542877,0.1181795746088028],\"z\":[-0.2186383157968521,-0.1663389503955841,-0.08861808478832245,-0.11399178206920624,-0.10675004869699478,0.006553837098181248,-0.12008919566869736,-0.1405196636915207,-0.1391390562057495,-0.18795615434646606,-0.1637258231639862,-0.04330616816878319,-0.1819867640733719,-0.06897742301225662,-0.08659179508686066,-0.19766339659690857,-0.1304474025964737,-0.1278374195098877,-0.12145087122917175],\"type\":\"scatter3d\"},{\"customdata\":[[80,4,\"\"],[60,4,\"Upgrade to at least urllib3 v1.26.17 or v2.0.6, or disable HTTP redirects using `redirects=False` when sending requests.\"],[60,4,\"Update to version 1.26.18 or higher, or disable redirects with `redirects=False` and handle 303 redirects manually by stripping the HTTP request body.\"],[50,4,\"Change the host parameter in app.run() to a specific IP address or hostname, and consider configuring your Flask application to run behind a reverse proxy for additional security.\"],[50,4,\"\"],[50,4,\"\"],[30,4,\"Upgrade Werkzeug to version 2.2.3 or later to fix this vulnerability.\"],[-1,4,\"Upgrade to a fixed version of Flask (2.3.2 or 2.2.5) to ensure the Vary: Cookie header is set correctly when refreshing permanent session cookies.\"]],\"hovertemplate\":\"Cluster=%{marker.color}\\u003cbr\\u003ePC1=%{x}\\u003cbr\\u003ePC2=%{y}\\u003cbr\\u003ePC3=%{z}\\u003cbr\\u003eSeverity=%{customdata[0]}\\u003cextra\\u003e\\u003c\\u002fextra\\u003e\",\"legendgroup\":\"4\",\"marker\":{\"color\":[4,4,4,4,4,4,4,4],\"coloraxis\":\"coloraxis\",\"symbol\":\"square\"},\"mode\":\"markers\",\"name\":\"4\",\"scene\":\"scene\",\"showlegend\":true,\"x\":[-0.21921250224113464,-0.2840811312198639,-0.32739970088005066,-0.3935104012489319,-0.21921250224113464,-0.21921250224113464,-0.28334128856658936,-0.3268641531467438],\"y\":[0.06848163902759552,-0.09351927042007446,-0.1250753402709961,0.23266595602035522,0.06848163902759552,0.06848163902759552,0.029375223442912102,0.19156426191329956],\"z\":[0.08797664940357208,-0.08936721831560135,-0.07121240347623825,0.30687272548675537,0.08797664940357208,0.08797664940357208,-0.05143905431032181,0.09260717779397964],\"type\":\"scatter3d\"},{\"customdata\":[[80,12,\"Update OpenLDAP to a version that fixes the vulnerability (e.g., CVE-2023-2953), or consider using an alternative LDAP library.\"],[80,12,\"Upgrade the GNU C Library (glibc) to a version that includes the fix for CVE-2023-4911.\"],[60,12,\"Update the affected ncurses packages (libncursesw6, libtinfo6, ncurses-base, and ncurses-bin) to a version that addresses the CVE-2023-50495 vulnerability.\"],[60,12,\"Update the affected Linux libraries to the latest version, ensuring that the vulnerable function setup_async_work() is patched.\"],[30,12,\"Upgrade glibc to a version that addresses the mitigation bypass vulnerability (CVE-2019-1010025) or consider using an ASLR-enabled alternative.\"],[30,12,\"Update the GNU Libc (glibc) package to a version that addresses this mitigation bypass vulnerability, as indicated by the upstream comments.\"],[30,12,\"Upgrade GNU Tar to a version later than 1.34 or patch the vulnerable function 'from_header()' in 'list.c' to fix the heap buffer overflow vulnerability.\"],[30,12,\"Update OpenLDAP to version 2.4.46 or later, or disable the nops module and memberof overlay if not necessary.\"],[30,12,\"Update to a newer version of glibc, as this issue has been treated as a non-security bug and is not considered a real threat.\"],[30,12,\"Update the GNU C Library (glibc) to a version that fixes this vulnerability, such as glibc 2.29 or later.\"],[30,12,\"Upgrade to a newer version of GCC (e.g. GCC 12) or use the -fomit-frame-pointer compiler flag to prevent stack exhaustion.\"],[30,12,\"Update the GNU C Library (glibc) to a version greater than or equal to 2.30, which addresses this vulnerability.\"],[30,12,\"Update the glibc library to a version where this issue is fixed (e.g. 2.30 or later), as the maintainer disputes that it's a vulnerability only affecting crafted patterns.\"],[30,12,\"Update glibc to the latest version, as this issue is considered a non-security bug and does not pose a real threat according to upstream comments.\"],[30,12,\"Update the affected packages to the latest version (ncurses \\u003e= 6.4-20230710) or consider using a more secure alternative library.\"],[-1,12,\"Update glibc to the latest version or apply the patch provided by the vendor to fix this potential use-after-free vulnerability.\"],[-1,12,\"Update the glibc library to a version that fixes the issue, such as CVE-2023-4527.\"]],\"hovertemplate\":\"Cluster=%{marker.color}\\u003cbr\\u003ePC1=%{x}\\u003cbr\\u003ePC2=%{y}\\u003cbr\\u003ePC3=%{z}\\u003cbr\\u003eSeverity=%{customdata[0]}\\u003cextra\\u003e\\u003c\\u002fextra\\u003e\",\"legendgroup\":\"12\",\"marker\":{\"color\":[12,12,12,12,12,12,12,12,12,12,12,12,12,12,12,12,12],\"coloraxis\":\"coloraxis\",\"symbol\":\"x\"},\"mode\":\"markers\",\"name\":\"12\",\"scene\":\"scene\",\"showlegend\":true,\"x\":[0.13260263204574585,0.1970968395471573,0.11084303259849548,0.1430208534002304,0.09660022705793381,-0.001971916062757373,0.09807755798101425,-0.012382195331156254,0.1060764342546463,0.02648836374282837,0.17464607954025269,-0.04929709807038307,-0.019327450543642044,0.162777841091156,0.09908825159072876,0.15552382171154022,0.05055918172001839],\"y\":[-0.11722346395254135,0.004207799676805735,-0.1999734491109848,0.022682588547468185,-0.11738532036542892,-0.05944598466157913,-0.3068382143974304,-0.12262033671140671,-0.14818501472473145,-0.09712221473455429,-0.195963516831398,-0.15463809669017792,-0.17124870419502258,-0.10462375730276108,-0.2568453848361969,-0.0736110582947731,-0.09925354272127151],\"z\":[-0.10689922422170639,0.11389364302158356,-0.01648566499352455,0.008168899454176426,-0.08213396370410919,-0.06969224661588669,0.01945069245994091,-0.09302745759487152,0.057789068669080734,0.07550836354494095,0.022638287395238876,0.005364483222365379,0.0008163318852894008,-0.14064928889274597,-0.025659630075097084,0.004860638175159693,-0.181971937417984],\"type\":\"scatter3d\"}],                        {\"template\":{\"data\":{\"histogram2dcontour\":[{\"type\":\"histogram2dcontour\",\"colorbar\":{\"outlinewidth\":0,\"ticks\":\"\"},\"colorscale\":[[0.0,\"#0d0887\"],[0.1111111111111111,\"#46039f\"],[0.2222222222222222,\"#7201a8\"],[0.3333333333333333,\"#9c179e\"],[0.4444444444444444,\"#bd3786\"],[0.5555555555555556,\"#d8576b\"],[0.6666666666666666,\"#ed7953\"],[0.7777777777777778,\"#fb9f3a\"],[0.8888888888888888,\"#fdca26\"],[1.0,\"#f0f921\"]]}],\"choropleth\":[{\"type\":\"choropleth\",\"colorbar\":{\"outlinewidth\":0,\"ticks\":\"\"}}],\"histogram2d\":[{\"type\":\"histogram2d\",\"colorbar\":{\"outlinewidth\":0,\"ticks\":\"\"},\"colorscale\":[[0.0,\"#0d0887\"],[0.1111111111111111,\"#46039f\"],[0.2222222222222222,\"#7201a8\"],[0.3333333333333333,\"#9c179e\"],[0.4444444444444444,\"#bd3786\"],[0.5555555555555556,\"#d8576b\"],[0.6666666666666666,\"#ed7953\"],[0.7777777777777778,\"#fb9f3a\"],[0.8888888888888888,\"#fdca26\"],[1.0,\"#f0f921\"]]}],\"heatmap\":[{\"type\":\"heatmap\",\"colorbar\":{\"outlinewidth\":0,\"ticks\":\"\"},\"colorscale\":[[0.0,\"#0d0887\"],[0.1111111111111111,\"#46039f\"],[0.2222222222222222,\"#7201a8\"],[0.3333333333333333,\"#9c179e\"],[0.4444444444444444,\"#bd3786\"],[0.5555555555555556,\"#d8576b\"],[0.6666666666666666,\"#ed7953\"],[0.7777777777777778,\"#fb9f3a\"],[0.8888888888888888,\"#fdca26\"],[1.0,\"#f0f921\"]]}],\"heatmapgl\":[{\"type\":\"heatmapgl\",\"colorbar\":{\"outlinewidth\":0,\"ticks\":\"\"},\"colorscale\":[[0.0,\"#0d0887\"],[0.1111111111111111,\"#46039f\"],[0.2222222222222222,\"#7201a8\"],[0.3333333333333333,\"#9c179e\"],[0.4444444444444444,\"#bd3786\"],[0.5555555555555556,\"#d8576b\"],[0.6666666666666666,\"#ed7953\"],[0.7777777777777778,\"#fb9f3a\"],[0.8888888888888888,\"#fdca26\"],[1.0,\"#f0f921\"]]}],\"contourcarpet\":[{\"type\":\"contourcarpet\",\"colorbar\":{\"outlinewidth\":0,\"ticks\":\"\"}}],\"contour\":[{\"type\":\"contour\",\"colorbar\":{\"outlinewidth\":0,\"ticks\":\"\"},\"colorscale\":[[0.0,\"#0d0887\"],[0.1111111111111111,\"#46039f\"],[0.2222222222222222,\"#7201a8\"],[0.3333333333333333,\"#9c179e\"],[0.4444444444444444,\"#bd3786\"],[0.5555555555555556,\"#d8576b\"],[0.6666666666666666,\"#ed7953\"],[0.7777777777777778,\"#fb9f3a\"],[0.8888888888888888,\"#fdca26\"],[1.0,\"#f0f921\"]]}],\"surface\":[{\"type\":\"surface\",\"colorbar\":{\"outlinewidth\":0,\"ticks\":\"\"},\"colorscale\":[[0.0,\"#0d0887\"],[0.1111111111111111,\"#46039f\"],[0.2222222222222222,\"#7201a8\"],[0.3333333333333333,\"#9c179e\"],[0.4444444444444444,\"#bd3786\"],[0.5555555555555556,\"#d8576b\"],[0.6666666666666666,\"#ed7953\"],[0.7777777777777778,\"#fb9f3a\"],[0.8888888888888888,\"#fdca26\"],[1.0,\"#f0f921\"]]}],\"mesh3d\":[{\"type\":\"mesh3d\",\"colorbar\":{\"outlinewidth\":0,\"ticks\":\"\"}}],\"scatter\":[{\"marker\":{\"line\":{\"color\":\"#283442\"}},\"type\":\"scatter\"}],\"parcoords\":[{\"type\":\"parcoords\",\"line\":{\"colorbar\":{\"outlinewidth\":0,\"ticks\":\"\"}}}],\"scatterpolargl\":[{\"type\":\"scatterpolargl\",\"marker\":{\"colorbar\":{\"outlinewidth\":0,\"ticks\":\"\"}}}],\"bar\":[{\"error_x\":{\"color\":\"#f2f5fa\"},\"error_y\":{\"color\":\"#f2f5fa\"},\"marker\":{\"line\":{\"color\":\"rgb(17,17,17)\",\"width\":0.5},\"pattern\":{\"fillmode\":\"overlay\",\"size\":10,\"solidity\":0.2}},\"type\":\"bar\"}],\"scattergeo\":[{\"type\":\"scattergeo\",\"marker\":{\"colorbar\":{\"outlinewidth\":0,\"ticks\":\"\"}}}],\"scatterpolar\":[{\"type\":\"scatterpolar\",\"marker\":{\"colorbar\":{\"outlinewidth\":0,\"ticks\":\"\"}}}],\"histogram\":[{\"marker\":{\"pattern\":{\"fillmode\":\"overlay\",\"size\":10,\"solidity\":0.2}},\"type\":\"histogram\"}],\"scattergl\":[{\"marker\":{\"line\":{\"color\":\"#283442\"}},\"type\":\"scattergl\"}],\"scatter3d\":[{\"type\":\"scatter3d\",\"line\":{\"colorbar\":{\"outlinewidth\":0,\"ticks\":\"\"}},\"marker\":{\"colorbar\":{\"outlinewidth\":0,\"ticks\":\"\"}}}],\"scattermapbox\":[{\"type\":\"scattermapbox\",\"marker\":{\"colorbar\":{\"outlinewidth\":0,\"ticks\":\"\"}}}],\"scatterternary\":[{\"type\":\"scatterternary\",\"marker\":{\"colorbar\":{\"outlinewidth\":0,\"ticks\":\"\"}}}],\"scattercarpet\":[{\"type\":\"scattercarpet\",\"marker\":{\"colorbar\":{\"outlinewidth\":0,\"ticks\":\"\"}}}],\"carpet\":[{\"aaxis\":{\"endlinecolor\":\"#A2B1C6\",\"gridcolor\":\"#506784\",\"linecolor\":\"#506784\",\"minorgridcolor\":\"#506784\",\"startlinecolor\":\"#A2B1C6\"},\"baxis\":{\"endlinecolor\":\"#A2B1C6\",\"gridcolor\":\"#506784\",\"linecolor\":\"#506784\",\"minorgridcolor\":\"#506784\",\"startlinecolor\":\"#A2B1C6\"},\"type\":\"carpet\"}],\"table\":[{\"cells\":{\"fill\":{\"color\":\"#506784\"},\"line\":{\"color\":\"rgb(17,17,17)\"}},\"header\":{\"fill\":{\"color\":\"#2a3f5f\"},\"line\":{\"color\":\"rgb(17,17,17)\"}},\"type\":\"table\"}],\"barpolar\":[{\"marker\":{\"line\":{\"color\":\"rgb(17,17,17)\",\"width\":0.5},\"pattern\":{\"fillmode\":\"overlay\",\"size\":10,\"solidity\":0.2}},\"type\":\"barpolar\"}],\"pie\":[{\"automargin\":true,\"type\":\"pie\"}]},\"layout\":{\"autotypenumbers\":\"strict\",\"colorway\":[\"#636efa\",\"#EF553B\",\"#00cc96\",\"#ab63fa\",\"#FFA15A\",\"#19d3f3\",\"#FF6692\",\"#B6E880\",\"#FF97FF\",\"#FECB52\"],\"font\":{\"color\":\"#f2f5fa\"},\"hovermode\":\"closest\",\"hoverlabel\":{\"align\":\"left\"},\"paper_bgcolor\":\"rgb(17,17,17)\",\"plot_bgcolor\":\"rgb(17,17,17)\",\"polar\":{\"bgcolor\":\"rgb(17,17,17)\",\"angularaxis\":{\"gridcolor\":\"#506784\",\"linecolor\":\"#506784\",\"ticks\":\"\"},\"radialaxis\":{\"gridcolor\":\"#506784\",\"linecolor\":\"#506784\",\"ticks\":\"\"}},\"ternary\":{\"bgcolor\":\"rgb(17,17,17)\",\"aaxis\":{\"gridcolor\":\"#506784\",\"linecolor\":\"#506784\",\"ticks\":\"\"},\"baxis\":{\"gridcolor\":\"#506784\",\"linecolor\":\"#506784\",\"ticks\":\"\"},\"caxis\":{\"gridcolor\":\"#506784\",\"linecolor\":\"#506784\",\"ticks\":\"\"}},\"coloraxis\":{\"colorbar\":{\"outlinewidth\":0,\"ticks\":\"\"}},\"colorscale\":{\"sequential\":[[0.0,\"#0d0887\"],[0.1111111111111111,\"#46039f\"],[0.2222222222222222,\"#7201a8\"],[0.3333333333333333,\"#9c179e\"],[0.4444444444444444,\"#bd3786\"],[0.5555555555555556,\"#d8576b\"],[0.6666666666666666,\"#ed7953\"],[0.7777777777777778,\"#fb9f3a\"],[0.8888888888888888,\"#fdca26\"],[1.0,\"#f0f921\"]],\"sequentialminus\":[[0.0,\"#0d0887\"],[0.1111111111111111,\"#46039f\"],[0.2222222222222222,\"#7201a8\"],[0.3333333333333333,\"#9c179e\"],[0.4444444444444444,\"#bd3786\"],[0.5555555555555556,\"#d8576b\"],[0.6666666666666666,\"#ed7953\"],[0.7777777777777778,\"#fb9f3a\"],[0.8888888888888888,\"#fdca26\"],[1.0,\"#f0f921\"]],\"diverging\":[[0,\"#8e0152\"],[0.1,\"#c51b7d\"],[0.2,\"#de77ae\"],[0.3,\"#f1b6da\"],[0.4,\"#fde0ef\"],[0.5,\"#f7f7f7\"],[0.6,\"#e6f5d0\"],[0.7,\"#b8e186\"],[0.8,\"#7fbc41\"],[0.9,\"#4d9221\"],[1,\"#276419\"]]},\"xaxis\":{\"gridcolor\":\"#283442\",\"linecolor\":\"#506784\",\"ticks\":\"\",\"title\":{\"standoff\":15},\"zerolinecolor\":\"#283442\",\"automargin\":true,\"zerolinewidth\":2},\"yaxis\":{\"gridcolor\":\"#283442\",\"linecolor\":\"#506784\",\"ticks\":\"\",\"title\":{\"standoff\":15},\"zerolinecolor\":\"#283442\",\"automargin\":true,\"zerolinewidth\":2},\"scene\":{\"xaxis\":{\"backgroundcolor\":\"rgb(17,17,17)\",\"gridcolor\":\"#506784\",\"linecolor\":\"#506784\",\"showbackground\":true,\"ticks\":\"\",\"zerolinecolor\":\"#C8D4E3\",\"gridwidth\":2},\"yaxis\":{\"backgroundcolor\":\"rgb(17,17,17)\",\"gridcolor\":\"#506784\",\"linecolor\":\"#506784\",\"showbackground\":true,\"ticks\":\"\",\"zerolinecolor\":\"#C8D4E3\",\"gridwidth\":2},\"zaxis\":{\"backgroundcolor\":\"rgb(17,17,17)\",\"gridcolor\":\"#506784\",\"linecolor\":\"#506784\",\"showbackground\":true,\"ticks\":\"\",\"zerolinecolor\":\"#C8D4E3\",\"gridwidth\":2}},\"shapedefaults\":{\"line\":{\"color\":\"#f2f5fa\"}},\"annotationdefaults\":{\"arrowcolor\":\"#f2f5fa\",\"arrowhead\":0,\"arrowwidth\":1},\"geo\":{\"bgcolor\":\"rgb(17,17,17)\",\"landcolor\":\"rgb(17,17,17)\",\"subunitcolor\":\"#506784\",\"showland\":true,\"showlakes\":true,\"lakecolor\":\"rgb(17,17,17)\"},\"title\":{\"x\":0.05},\"updatemenudefaults\":{\"bgcolor\":\"#506784\",\"borderwidth\":0},\"sliderdefaults\":{\"bgcolor\":\"#C8D4E3\",\"borderwidth\":1,\"bordercolor\":\"rgb(17,17,17)\",\"tickwidth\":0},\"mapbox\":{\"style\":\"dark\"}}},\"scene\":{\"domain\":{\"x\":[0.0,1.0],\"y\":[0.0,1.0]},\"xaxis\":{\"title\":{\"text\":\"PC1\"}},\"yaxis\":{\"title\":{\"text\":\"PC2\"}},\"zaxis\":{\"title\":{\"text\":\"PC3\"}}},\"coloraxis\":{\"colorbar\":{\"title\":{\"text\":\"Cluster\"}},\"colorscale\":[[0.0,\"rgb(75, 41, 145)\"],[0.16666666666666666,\"rgb(135, 44, 162)\"],[0.3333333333333333,\"rgb(192, 54, 157)\"],[0.5,\"rgb(234, 79, 136)\"],[0.6666666666666666,\"rgb(250, 120, 118)\"],[0.8333333333333334,\"rgb(246, 169, 122)\"],[1.0,\"rgb(237, 217, 163)\"]]},\"legend\":{\"title\":{\"text\":\"Cluster\"},\"tracegroupgap\":0},\"title\":{\"text\":\"Interactive 3D Visualization of Clustered Findings\"}},                        {\"responsive\": true}                    ).then(function(){\n",
       "                            \n",
       "var gd = document.getElementById('e3e914e8-4201-4566-998e-225bac3da580');\n",
       "var x = new MutationObserver(function (mutations, observer) {{\n",
       "        var display = window.getComputedStyle(gd).display;\n",
       "        if (!display || display === 'none') {{\n",
       "            console.log([gd, 'removed!']);\n",
       "            Plotly.purge(gd);\n",
       "            observer.disconnect();\n",
       "        }}\n",
       "}});\n",
       "\n",
       "// Listen for the removal of the full notebook cells\n",
       "var notebookContainer = gd.closest('#notebook-container');\n",
       "if (notebookContainer) {{\n",
       "    x.observe(notebookContainer, {childList: true});\n",
       "}}\n",
       "\n",
       "// Listen for the clearing of the current output cell\n",
       "var outputEl = gd.closest('.output');\n",
       "if (outputEl) {{\n",
       "    x.observe(outputEl, {childList: true});\n",
       "}}\n",
       "\n",
       "                        })                };                });            </script>        </div>"
      ]
     },
     "metadata": {},
     "output_type": "display_data"
    }
   ],
   "execution_count": 85
  },
  {
   "metadata": {},
   "cell_type": "code",
   "source": [
    "# print max 5 descriptions of the first 2 clusters\n",
    "for i in range(4):\n",
    "    print(f\"\\nCluster {i + 1} ({len(findings[cluster_labels == i])} findings):\")\n",
    "    for desc in findings[cluster_labels == i]['description_for_embedding'][:5]:\n",
    "        print(f\"\\n- {desc}\")\n",
    "    "
   ],
   "outputs": [],
   "execution_count": null
  },
  {
   "metadata": {
    "ExecuteTime": {
     "end_time": "2024-06-21T08:31:42.706175Z",
     "start_time": "2024-06-21T08:31:42.682161Z"
    }
   },
   "cell_type": "code",
   "source": [
    "# display average severity of each cluster as a bar chart\n",
    "df_severity = pd.DataFrame({\n",
    "    'Cluster': range(1, optimal_clusters+1),\n",
    "    'Average Severity': [findings[cluster_labels == i]['severity'].mean() for i in range(optimal_clusters)]\n",
    "})\n",
    "\n",
    "fig = px.bar(df_severity, x='Cluster', y='Average Severity', title='Average Severity of Each Cluster')\n",
    "fig.show()"
   ],
   "outputs": [
    {
     "data": {
      "application/vnd.plotly.v1+json": {
       "data": [
        {
         "alignmentgroup": "True",
         "hovertemplate": "Cluster=%{x}<br>Average Severity=%{y}<extra></extra>",
         "legendgroup": "",
         "marker": {
          "color": "#636efa",
          "pattern": {
           "shape": ""
          }
         },
         "name": "",
         "offsetgroup": "",
         "orientation": "v",
         "showlegend": false,
         "textposition": "auto",
         "x": [
          1,
          2,
          3,
          4,
          5,
          6,
          7,
          8,
          9,
          10,
          11,
          12,
          13,
          14
         ],
         "xaxis": "x",
         "y": [
          38.06896551724138,
          44.791666666666664,
          61.05263157894737,
          49.95454545454545,
          47.375,
          51.875,
          41.30769230769231,
          37.8,
          40.526315789473685,
          39.75,
          44.4468085106383,
          50.0,
          35.76470588235294,
          32.5
         ],
         "yaxis": "y",
         "type": "bar"
        }
       ],
       "layout": {
        "template": {
         "data": {
          "histogram2dcontour": [
           {
            "type": "histogram2dcontour",
            "colorbar": {
             "outlinewidth": 0,
             "ticks": ""
            },
            "colorscale": [
             [
              0.0,
              "#0d0887"
             ],
             [
              0.1111111111111111,
              "#46039f"
             ],
             [
              0.2222222222222222,
              "#7201a8"
             ],
             [
              0.3333333333333333,
              "#9c179e"
             ],
             [
              0.4444444444444444,
              "#bd3786"
             ],
             [
              0.5555555555555556,
              "#d8576b"
             ],
             [
              0.6666666666666666,
              "#ed7953"
             ],
             [
              0.7777777777777778,
              "#fb9f3a"
             ],
             [
              0.8888888888888888,
              "#fdca26"
             ],
             [
              1.0,
              "#f0f921"
             ]
            ]
           }
          ],
          "choropleth": [
           {
            "type": "choropleth",
            "colorbar": {
             "outlinewidth": 0,
             "ticks": ""
            }
           }
          ],
          "histogram2d": [
           {
            "type": "histogram2d",
            "colorbar": {
             "outlinewidth": 0,
             "ticks": ""
            },
            "colorscale": [
             [
              0.0,
              "#0d0887"
             ],
             [
              0.1111111111111111,
              "#46039f"
             ],
             [
              0.2222222222222222,
              "#7201a8"
             ],
             [
              0.3333333333333333,
              "#9c179e"
             ],
             [
              0.4444444444444444,
              "#bd3786"
             ],
             [
              0.5555555555555556,
              "#d8576b"
             ],
             [
              0.6666666666666666,
              "#ed7953"
             ],
             [
              0.7777777777777778,
              "#fb9f3a"
             ],
             [
              0.8888888888888888,
              "#fdca26"
             ],
             [
              1.0,
              "#f0f921"
             ]
            ]
           }
          ],
          "heatmap": [
           {
            "type": "heatmap",
            "colorbar": {
             "outlinewidth": 0,
             "ticks": ""
            },
            "colorscale": [
             [
              0.0,
              "#0d0887"
             ],
             [
              0.1111111111111111,
              "#46039f"
             ],
             [
              0.2222222222222222,
              "#7201a8"
             ],
             [
              0.3333333333333333,
              "#9c179e"
             ],
             [
              0.4444444444444444,
              "#bd3786"
             ],
             [
              0.5555555555555556,
              "#d8576b"
             ],
             [
              0.6666666666666666,
              "#ed7953"
             ],
             [
              0.7777777777777778,
              "#fb9f3a"
             ],
             [
              0.8888888888888888,
              "#fdca26"
             ],
             [
              1.0,
              "#f0f921"
             ]
            ]
           }
          ],
          "heatmapgl": [
           {
            "type": "heatmapgl",
            "colorbar": {
             "outlinewidth": 0,
             "ticks": ""
            },
            "colorscale": [
             [
              0.0,
              "#0d0887"
             ],
             [
              0.1111111111111111,
              "#46039f"
             ],
             [
              0.2222222222222222,
              "#7201a8"
             ],
             [
              0.3333333333333333,
              "#9c179e"
             ],
             [
              0.4444444444444444,
              "#bd3786"
             ],
             [
              0.5555555555555556,
              "#d8576b"
             ],
             [
              0.6666666666666666,
              "#ed7953"
             ],
             [
              0.7777777777777778,
              "#fb9f3a"
             ],
             [
              0.8888888888888888,
              "#fdca26"
             ],
             [
              1.0,
              "#f0f921"
             ]
            ]
           }
          ],
          "contourcarpet": [
           {
            "type": "contourcarpet",
            "colorbar": {
             "outlinewidth": 0,
             "ticks": ""
            }
           }
          ],
          "contour": [
           {
            "type": "contour",
            "colorbar": {
             "outlinewidth": 0,
             "ticks": ""
            },
            "colorscale": [
             [
              0.0,
              "#0d0887"
             ],
             [
              0.1111111111111111,
              "#46039f"
             ],
             [
              0.2222222222222222,
              "#7201a8"
             ],
             [
              0.3333333333333333,
              "#9c179e"
             ],
             [
              0.4444444444444444,
              "#bd3786"
             ],
             [
              0.5555555555555556,
              "#d8576b"
             ],
             [
              0.6666666666666666,
              "#ed7953"
             ],
             [
              0.7777777777777778,
              "#fb9f3a"
             ],
             [
              0.8888888888888888,
              "#fdca26"
             ],
             [
              1.0,
              "#f0f921"
             ]
            ]
           }
          ],
          "surface": [
           {
            "type": "surface",
            "colorbar": {
             "outlinewidth": 0,
             "ticks": ""
            },
            "colorscale": [
             [
              0.0,
              "#0d0887"
             ],
             [
              0.1111111111111111,
              "#46039f"
             ],
             [
              0.2222222222222222,
              "#7201a8"
             ],
             [
              0.3333333333333333,
              "#9c179e"
             ],
             [
              0.4444444444444444,
              "#bd3786"
             ],
             [
              0.5555555555555556,
              "#d8576b"
             ],
             [
              0.6666666666666666,
              "#ed7953"
             ],
             [
              0.7777777777777778,
              "#fb9f3a"
             ],
             [
              0.8888888888888888,
              "#fdca26"
             ],
             [
              1.0,
              "#f0f921"
             ]
            ]
           }
          ],
          "mesh3d": [
           {
            "type": "mesh3d",
            "colorbar": {
             "outlinewidth": 0,
             "ticks": ""
            }
           }
          ],
          "scatter": [
           {
            "marker": {
             "line": {
              "color": "#283442"
             }
            },
            "type": "scatter"
           }
          ],
          "parcoords": [
           {
            "type": "parcoords",
            "line": {
             "colorbar": {
              "outlinewidth": 0,
              "ticks": ""
             }
            }
           }
          ],
          "scatterpolargl": [
           {
            "type": "scatterpolargl",
            "marker": {
             "colorbar": {
              "outlinewidth": 0,
              "ticks": ""
             }
            }
           }
          ],
          "bar": [
           {
            "error_x": {
             "color": "#f2f5fa"
            },
            "error_y": {
             "color": "#f2f5fa"
            },
            "marker": {
             "line": {
              "color": "rgb(17,17,17)",
              "width": 0.5
             },
             "pattern": {
              "fillmode": "overlay",
              "size": 10,
              "solidity": 0.2
             }
            },
            "type": "bar"
           }
          ],
          "scattergeo": [
           {
            "type": "scattergeo",
            "marker": {
             "colorbar": {
              "outlinewidth": 0,
              "ticks": ""
             }
            }
           }
          ],
          "scatterpolar": [
           {
            "type": "scatterpolar",
            "marker": {
             "colorbar": {
              "outlinewidth": 0,
              "ticks": ""
             }
            }
           }
          ],
          "histogram": [
           {
            "marker": {
             "pattern": {
              "fillmode": "overlay",
              "size": 10,
              "solidity": 0.2
             }
            },
            "type": "histogram"
           }
          ],
          "scattergl": [
           {
            "marker": {
             "line": {
              "color": "#283442"
             }
            },
            "type": "scattergl"
           }
          ],
          "scatter3d": [
           {
            "type": "scatter3d",
            "line": {
             "colorbar": {
              "outlinewidth": 0,
              "ticks": ""
             }
            },
            "marker": {
             "colorbar": {
              "outlinewidth": 0,
              "ticks": ""
             }
            }
           }
          ],
          "scattermapbox": [
           {
            "type": "scattermapbox",
            "marker": {
             "colorbar": {
              "outlinewidth": 0,
              "ticks": ""
             }
            }
           }
          ],
          "scatterternary": [
           {
            "type": "scatterternary",
            "marker": {
             "colorbar": {
              "outlinewidth": 0,
              "ticks": ""
             }
            }
           }
          ],
          "scattercarpet": [
           {
            "type": "scattercarpet",
            "marker": {
             "colorbar": {
              "outlinewidth": 0,
              "ticks": ""
             }
            }
           }
          ],
          "carpet": [
           {
            "aaxis": {
             "endlinecolor": "#A2B1C6",
             "gridcolor": "#506784",
             "linecolor": "#506784",
             "minorgridcolor": "#506784",
             "startlinecolor": "#A2B1C6"
            },
            "baxis": {
             "endlinecolor": "#A2B1C6",
             "gridcolor": "#506784",
             "linecolor": "#506784",
             "minorgridcolor": "#506784",
             "startlinecolor": "#A2B1C6"
            },
            "type": "carpet"
           }
          ],
          "table": [
           {
            "cells": {
             "fill": {
              "color": "#506784"
             },
             "line": {
              "color": "rgb(17,17,17)"
             }
            },
            "header": {
             "fill": {
              "color": "#2a3f5f"
             },
             "line": {
              "color": "rgb(17,17,17)"
             }
            },
            "type": "table"
           }
          ],
          "barpolar": [
           {
            "marker": {
             "line": {
              "color": "rgb(17,17,17)",
              "width": 0.5
             },
             "pattern": {
              "fillmode": "overlay",
              "size": 10,
              "solidity": 0.2
             }
            },
            "type": "barpolar"
           }
          ],
          "pie": [
           {
            "automargin": true,
            "type": "pie"
           }
          ]
         },
         "layout": {
          "autotypenumbers": "strict",
          "colorway": [
           "#636efa",
           "#EF553B",
           "#00cc96",
           "#ab63fa",
           "#FFA15A",
           "#19d3f3",
           "#FF6692",
           "#B6E880",
           "#FF97FF",
           "#FECB52"
          ],
          "font": {
           "color": "#f2f5fa"
          },
          "hovermode": "closest",
          "hoverlabel": {
           "align": "left"
          },
          "paper_bgcolor": "rgb(17,17,17)",
          "plot_bgcolor": "rgb(17,17,17)",
          "polar": {
           "bgcolor": "rgb(17,17,17)",
           "angularaxis": {
            "gridcolor": "#506784",
            "linecolor": "#506784",
            "ticks": ""
           },
           "radialaxis": {
            "gridcolor": "#506784",
            "linecolor": "#506784",
            "ticks": ""
           }
          },
          "ternary": {
           "bgcolor": "rgb(17,17,17)",
           "aaxis": {
            "gridcolor": "#506784",
            "linecolor": "#506784",
            "ticks": ""
           },
           "baxis": {
            "gridcolor": "#506784",
            "linecolor": "#506784",
            "ticks": ""
           },
           "caxis": {
            "gridcolor": "#506784",
            "linecolor": "#506784",
            "ticks": ""
           }
          },
          "coloraxis": {
           "colorbar": {
            "outlinewidth": 0,
            "ticks": ""
           }
          },
          "colorscale": {
           "sequential": [
            [
             0.0,
             "#0d0887"
            ],
            [
             0.1111111111111111,
             "#46039f"
            ],
            [
             0.2222222222222222,
             "#7201a8"
            ],
            [
             0.3333333333333333,
             "#9c179e"
            ],
            [
             0.4444444444444444,
             "#bd3786"
            ],
            [
             0.5555555555555556,
             "#d8576b"
            ],
            [
             0.6666666666666666,
             "#ed7953"
            ],
            [
             0.7777777777777778,
             "#fb9f3a"
            ],
            [
             0.8888888888888888,
             "#fdca26"
            ],
            [
             1.0,
             "#f0f921"
            ]
           ],
           "sequentialminus": [
            [
             0.0,
             "#0d0887"
            ],
            [
             0.1111111111111111,
             "#46039f"
            ],
            [
             0.2222222222222222,
             "#7201a8"
            ],
            [
             0.3333333333333333,
             "#9c179e"
            ],
            [
             0.4444444444444444,
             "#bd3786"
            ],
            [
             0.5555555555555556,
             "#d8576b"
            ],
            [
             0.6666666666666666,
             "#ed7953"
            ],
            [
             0.7777777777777778,
             "#fb9f3a"
            ],
            [
             0.8888888888888888,
             "#fdca26"
            ],
            [
             1.0,
             "#f0f921"
            ]
           ],
           "diverging": [
            [
             0,
             "#8e0152"
            ],
            [
             0.1,
             "#c51b7d"
            ],
            [
             0.2,
             "#de77ae"
            ],
            [
             0.3,
             "#f1b6da"
            ],
            [
             0.4,
             "#fde0ef"
            ],
            [
             0.5,
             "#f7f7f7"
            ],
            [
             0.6,
             "#e6f5d0"
            ],
            [
             0.7,
             "#b8e186"
            ],
            [
             0.8,
             "#7fbc41"
            ],
            [
             0.9,
             "#4d9221"
            ],
            [
             1,
             "#276419"
            ]
           ]
          },
          "xaxis": {
           "gridcolor": "#283442",
           "linecolor": "#506784",
           "ticks": "",
           "title": {
            "standoff": 15
           },
           "zerolinecolor": "#283442",
           "automargin": true,
           "zerolinewidth": 2
          },
          "yaxis": {
           "gridcolor": "#283442",
           "linecolor": "#506784",
           "ticks": "",
           "title": {
            "standoff": 15
           },
           "zerolinecolor": "#283442",
           "automargin": true,
           "zerolinewidth": 2
          },
          "scene": {
           "xaxis": {
            "backgroundcolor": "rgb(17,17,17)",
            "gridcolor": "#506784",
            "linecolor": "#506784",
            "showbackground": true,
            "ticks": "",
            "zerolinecolor": "#C8D4E3",
            "gridwidth": 2
           },
           "yaxis": {
            "backgroundcolor": "rgb(17,17,17)",
            "gridcolor": "#506784",
            "linecolor": "#506784",
            "showbackground": true,
            "ticks": "",
            "zerolinecolor": "#C8D4E3",
            "gridwidth": 2
           },
           "zaxis": {
            "backgroundcolor": "rgb(17,17,17)",
            "gridcolor": "#506784",
            "linecolor": "#506784",
            "showbackground": true,
            "ticks": "",
            "zerolinecolor": "#C8D4E3",
            "gridwidth": 2
           }
          },
          "shapedefaults": {
           "line": {
            "color": "#f2f5fa"
           }
          },
          "annotationdefaults": {
           "arrowcolor": "#f2f5fa",
           "arrowhead": 0,
           "arrowwidth": 1
          },
          "geo": {
           "bgcolor": "rgb(17,17,17)",
           "landcolor": "rgb(17,17,17)",
           "subunitcolor": "#506784",
           "showland": true,
           "showlakes": true,
           "lakecolor": "rgb(17,17,17)"
          },
          "title": {
           "x": 0.05
          },
          "updatemenudefaults": {
           "bgcolor": "#506784",
           "borderwidth": 0
          },
          "sliderdefaults": {
           "bgcolor": "#C8D4E3",
           "borderwidth": 1,
           "bordercolor": "rgb(17,17,17)",
           "tickwidth": 0
          },
          "mapbox": {
           "style": "dark"
          }
         }
        },
        "xaxis": {
         "anchor": "y",
         "domain": [
          0.0,
          1.0
         ],
         "title": {
          "text": "Cluster"
         }
        },
        "yaxis": {
         "anchor": "x",
         "domain": [
          0.0,
          1.0
         ],
         "title": {
          "text": "Average Severity"
         }
        },
        "legend": {
         "tracegroupgap": 0
        },
        "title": {
         "text": "Average Severity of Each Cluster"
        },
        "barmode": "relative"
       },
       "config": {
        "plotlyServerURL": "https://plot.ly"
       }
      },
      "text/html": [
       "<div>                            <div id=\"29b98676-faf9-4df8-b7d8-48d8aa3f7b44\" class=\"plotly-graph-div\" style=\"height:525px; width:100%;\"></div>            <script type=\"text/javascript\">                require([\"plotly\"], function(Plotly) {                    window.PLOTLYENV=window.PLOTLYENV || {};                                    if (document.getElementById(\"29b98676-faf9-4df8-b7d8-48d8aa3f7b44\")) {                    Plotly.newPlot(                        \"29b98676-faf9-4df8-b7d8-48d8aa3f7b44\",                        [{\"alignmentgroup\":\"True\",\"hovertemplate\":\"Cluster=%{x}\\u003cbr\\u003eAverage Severity=%{y}\\u003cextra\\u003e\\u003c\\u002fextra\\u003e\",\"legendgroup\":\"\",\"marker\":{\"color\":\"#636efa\",\"pattern\":{\"shape\":\"\"}},\"name\":\"\",\"offsetgroup\":\"\",\"orientation\":\"v\",\"showlegend\":false,\"textposition\":\"auto\",\"x\":[1,2,3,4,5,6,7,8,9,10,11,12,13,14],\"xaxis\":\"x\",\"y\":[38.06896551724138,44.791666666666664,61.05263157894737,49.95454545454545,47.375,51.875,41.30769230769231,37.8,40.526315789473685,39.75,44.4468085106383,50.0,35.76470588235294,32.5],\"yaxis\":\"y\",\"type\":\"bar\"}],                        {\"template\":{\"data\":{\"histogram2dcontour\":[{\"type\":\"histogram2dcontour\",\"colorbar\":{\"outlinewidth\":0,\"ticks\":\"\"},\"colorscale\":[[0.0,\"#0d0887\"],[0.1111111111111111,\"#46039f\"],[0.2222222222222222,\"#7201a8\"],[0.3333333333333333,\"#9c179e\"],[0.4444444444444444,\"#bd3786\"],[0.5555555555555556,\"#d8576b\"],[0.6666666666666666,\"#ed7953\"],[0.7777777777777778,\"#fb9f3a\"],[0.8888888888888888,\"#fdca26\"],[1.0,\"#f0f921\"]]}],\"choropleth\":[{\"type\":\"choropleth\",\"colorbar\":{\"outlinewidth\":0,\"ticks\":\"\"}}],\"histogram2d\":[{\"type\":\"histogram2d\",\"colorbar\":{\"outlinewidth\":0,\"ticks\":\"\"},\"colorscale\":[[0.0,\"#0d0887\"],[0.1111111111111111,\"#46039f\"],[0.2222222222222222,\"#7201a8\"],[0.3333333333333333,\"#9c179e\"],[0.4444444444444444,\"#bd3786\"],[0.5555555555555556,\"#d8576b\"],[0.6666666666666666,\"#ed7953\"],[0.7777777777777778,\"#fb9f3a\"],[0.8888888888888888,\"#fdca26\"],[1.0,\"#f0f921\"]]}],\"heatmap\":[{\"type\":\"heatmap\",\"colorbar\":{\"outlinewidth\":0,\"ticks\":\"\"},\"colorscale\":[[0.0,\"#0d0887\"],[0.1111111111111111,\"#46039f\"],[0.2222222222222222,\"#7201a8\"],[0.3333333333333333,\"#9c179e\"],[0.4444444444444444,\"#bd3786\"],[0.5555555555555556,\"#d8576b\"],[0.6666666666666666,\"#ed7953\"],[0.7777777777777778,\"#fb9f3a\"],[0.8888888888888888,\"#fdca26\"],[1.0,\"#f0f921\"]]}],\"heatmapgl\":[{\"type\":\"heatmapgl\",\"colorbar\":{\"outlinewidth\":0,\"ticks\":\"\"},\"colorscale\":[[0.0,\"#0d0887\"],[0.1111111111111111,\"#46039f\"],[0.2222222222222222,\"#7201a8\"],[0.3333333333333333,\"#9c179e\"],[0.4444444444444444,\"#bd3786\"],[0.5555555555555556,\"#d8576b\"],[0.6666666666666666,\"#ed7953\"],[0.7777777777777778,\"#fb9f3a\"],[0.8888888888888888,\"#fdca26\"],[1.0,\"#f0f921\"]]}],\"contourcarpet\":[{\"type\":\"contourcarpet\",\"colorbar\":{\"outlinewidth\":0,\"ticks\":\"\"}}],\"contour\":[{\"type\":\"contour\",\"colorbar\":{\"outlinewidth\":0,\"ticks\":\"\"},\"colorscale\":[[0.0,\"#0d0887\"],[0.1111111111111111,\"#46039f\"],[0.2222222222222222,\"#7201a8\"],[0.3333333333333333,\"#9c179e\"],[0.4444444444444444,\"#bd3786\"],[0.5555555555555556,\"#d8576b\"],[0.6666666666666666,\"#ed7953\"],[0.7777777777777778,\"#fb9f3a\"],[0.8888888888888888,\"#fdca26\"],[1.0,\"#f0f921\"]]}],\"surface\":[{\"type\":\"surface\",\"colorbar\":{\"outlinewidth\":0,\"ticks\":\"\"},\"colorscale\":[[0.0,\"#0d0887\"],[0.1111111111111111,\"#46039f\"],[0.2222222222222222,\"#7201a8\"],[0.3333333333333333,\"#9c179e\"],[0.4444444444444444,\"#bd3786\"],[0.5555555555555556,\"#d8576b\"],[0.6666666666666666,\"#ed7953\"],[0.7777777777777778,\"#fb9f3a\"],[0.8888888888888888,\"#fdca26\"],[1.0,\"#f0f921\"]]}],\"mesh3d\":[{\"type\":\"mesh3d\",\"colorbar\":{\"outlinewidth\":0,\"ticks\":\"\"}}],\"scatter\":[{\"marker\":{\"line\":{\"color\":\"#283442\"}},\"type\":\"scatter\"}],\"parcoords\":[{\"type\":\"parcoords\",\"line\":{\"colorbar\":{\"outlinewidth\":0,\"ticks\":\"\"}}}],\"scatterpolargl\":[{\"type\":\"scatterpolargl\",\"marker\":{\"colorbar\":{\"outlinewidth\":0,\"ticks\":\"\"}}}],\"bar\":[{\"error_x\":{\"color\":\"#f2f5fa\"},\"error_y\":{\"color\":\"#f2f5fa\"},\"marker\":{\"line\":{\"color\":\"rgb(17,17,17)\",\"width\":0.5},\"pattern\":{\"fillmode\":\"overlay\",\"size\":10,\"solidity\":0.2}},\"type\":\"bar\"}],\"scattergeo\":[{\"type\":\"scattergeo\",\"marker\":{\"colorbar\":{\"outlinewidth\":0,\"ticks\":\"\"}}}],\"scatterpolar\":[{\"type\":\"scatterpolar\",\"marker\":{\"colorbar\":{\"outlinewidth\":0,\"ticks\":\"\"}}}],\"histogram\":[{\"marker\":{\"pattern\":{\"fillmode\":\"overlay\",\"size\":10,\"solidity\":0.2}},\"type\":\"histogram\"}],\"scattergl\":[{\"marker\":{\"line\":{\"color\":\"#283442\"}},\"type\":\"scattergl\"}],\"scatter3d\":[{\"type\":\"scatter3d\",\"line\":{\"colorbar\":{\"outlinewidth\":0,\"ticks\":\"\"}},\"marker\":{\"colorbar\":{\"outlinewidth\":0,\"ticks\":\"\"}}}],\"scattermapbox\":[{\"type\":\"scattermapbox\",\"marker\":{\"colorbar\":{\"outlinewidth\":0,\"ticks\":\"\"}}}],\"scatterternary\":[{\"type\":\"scatterternary\",\"marker\":{\"colorbar\":{\"outlinewidth\":0,\"ticks\":\"\"}}}],\"scattercarpet\":[{\"type\":\"scattercarpet\",\"marker\":{\"colorbar\":{\"outlinewidth\":0,\"ticks\":\"\"}}}],\"carpet\":[{\"aaxis\":{\"endlinecolor\":\"#A2B1C6\",\"gridcolor\":\"#506784\",\"linecolor\":\"#506784\",\"minorgridcolor\":\"#506784\",\"startlinecolor\":\"#A2B1C6\"},\"baxis\":{\"endlinecolor\":\"#A2B1C6\",\"gridcolor\":\"#506784\",\"linecolor\":\"#506784\",\"minorgridcolor\":\"#506784\",\"startlinecolor\":\"#A2B1C6\"},\"type\":\"carpet\"}],\"table\":[{\"cells\":{\"fill\":{\"color\":\"#506784\"},\"line\":{\"color\":\"rgb(17,17,17)\"}},\"header\":{\"fill\":{\"color\":\"#2a3f5f\"},\"line\":{\"color\":\"rgb(17,17,17)\"}},\"type\":\"table\"}],\"barpolar\":[{\"marker\":{\"line\":{\"color\":\"rgb(17,17,17)\",\"width\":0.5},\"pattern\":{\"fillmode\":\"overlay\",\"size\":10,\"solidity\":0.2}},\"type\":\"barpolar\"}],\"pie\":[{\"automargin\":true,\"type\":\"pie\"}]},\"layout\":{\"autotypenumbers\":\"strict\",\"colorway\":[\"#636efa\",\"#EF553B\",\"#00cc96\",\"#ab63fa\",\"#FFA15A\",\"#19d3f3\",\"#FF6692\",\"#B6E880\",\"#FF97FF\",\"#FECB52\"],\"font\":{\"color\":\"#f2f5fa\"},\"hovermode\":\"closest\",\"hoverlabel\":{\"align\":\"left\"},\"paper_bgcolor\":\"rgb(17,17,17)\",\"plot_bgcolor\":\"rgb(17,17,17)\",\"polar\":{\"bgcolor\":\"rgb(17,17,17)\",\"angularaxis\":{\"gridcolor\":\"#506784\",\"linecolor\":\"#506784\",\"ticks\":\"\"},\"radialaxis\":{\"gridcolor\":\"#506784\",\"linecolor\":\"#506784\",\"ticks\":\"\"}},\"ternary\":{\"bgcolor\":\"rgb(17,17,17)\",\"aaxis\":{\"gridcolor\":\"#506784\",\"linecolor\":\"#506784\",\"ticks\":\"\"},\"baxis\":{\"gridcolor\":\"#506784\",\"linecolor\":\"#506784\",\"ticks\":\"\"},\"caxis\":{\"gridcolor\":\"#506784\",\"linecolor\":\"#506784\",\"ticks\":\"\"}},\"coloraxis\":{\"colorbar\":{\"outlinewidth\":0,\"ticks\":\"\"}},\"colorscale\":{\"sequential\":[[0.0,\"#0d0887\"],[0.1111111111111111,\"#46039f\"],[0.2222222222222222,\"#7201a8\"],[0.3333333333333333,\"#9c179e\"],[0.4444444444444444,\"#bd3786\"],[0.5555555555555556,\"#d8576b\"],[0.6666666666666666,\"#ed7953\"],[0.7777777777777778,\"#fb9f3a\"],[0.8888888888888888,\"#fdca26\"],[1.0,\"#f0f921\"]],\"sequentialminus\":[[0.0,\"#0d0887\"],[0.1111111111111111,\"#46039f\"],[0.2222222222222222,\"#7201a8\"],[0.3333333333333333,\"#9c179e\"],[0.4444444444444444,\"#bd3786\"],[0.5555555555555556,\"#d8576b\"],[0.6666666666666666,\"#ed7953\"],[0.7777777777777778,\"#fb9f3a\"],[0.8888888888888888,\"#fdca26\"],[1.0,\"#f0f921\"]],\"diverging\":[[0,\"#8e0152\"],[0.1,\"#c51b7d\"],[0.2,\"#de77ae\"],[0.3,\"#f1b6da\"],[0.4,\"#fde0ef\"],[0.5,\"#f7f7f7\"],[0.6,\"#e6f5d0\"],[0.7,\"#b8e186\"],[0.8,\"#7fbc41\"],[0.9,\"#4d9221\"],[1,\"#276419\"]]},\"xaxis\":{\"gridcolor\":\"#283442\",\"linecolor\":\"#506784\",\"ticks\":\"\",\"title\":{\"standoff\":15},\"zerolinecolor\":\"#283442\",\"automargin\":true,\"zerolinewidth\":2},\"yaxis\":{\"gridcolor\":\"#283442\",\"linecolor\":\"#506784\",\"ticks\":\"\",\"title\":{\"standoff\":15},\"zerolinecolor\":\"#283442\",\"automargin\":true,\"zerolinewidth\":2},\"scene\":{\"xaxis\":{\"backgroundcolor\":\"rgb(17,17,17)\",\"gridcolor\":\"#506784\",\"linecolor\":\"#506784\",\"showbackground\":true,\"ticks\":\"\",\"zerolinecolor\":\"#C8D4E3\",\"gridwidth\":2},\"yaxis\":{\"backgroundcolor\":\"rgb(17,17,17)\",\"gridcolor\":\"#506784\",\"linecolor\":\"#506784\",\"showbackground\":true,\"ticks\":\"\",\"zerolinecolor\":\"#C8D4E3\",\"gridwidth\":2},\"zaxis\":{\"backgroundcolor\":\"rgb(17,17,17)\",\"gridcolor\":\"#506784\",\"linecolor\":\"#506784\",\"showbackground\":true,\"ticks\":\"\",\"zerolinecolor\":\"#C8D4E3\",\"gridwidth\":2}},\"shapedefaults\":{\"line\":{\"color\":\"#f2f5fa\"}},\"annotationdefaults\":{\"arrowcolor\":\"#f2f5fa\",\"arrowhead\":0,\"arrowwidth\":1},\"geo\":{\"bgcolor\":\"rgb(17,17,17)\",\"landcolor\":\"rgb(17,17,17)\",\"subunitcolor\":\"#506784\",\"showland\":true,\"showlakes\":true,\"lakecolor\":\"rgb(17,17,17)\"},\"title\":{\"x\":0.05},\"updatemenudefaults\":{\"bgcolor\":\"#506784\",\"borderwidth\":0},\"sliderdefaults\":{\"bgcolor\":\"#C8D4E3\",\"borderwidth\":1,\"bordercolor\":\"rgb(17,17,17)\",\"tickwidth\":0},\"mapbox\":{\"style\":\"dark\"}}},\"xaxis\":{\"anchor\":\"y\",\"domain\":[0.0,1.0],\"title\":{\"text\":\"Cluster\"}},\"yaxis\":{\"anchor\":\"x\",\"domain\":[0.0,1.0],\"title\":{\"text\":\"Average Severity\"}},\"legend\":{\"tracegroupgap\":0},\"title\":{\"text\":\"Average Severity of Each Cluster\"},\"barmode\":\"relative\"},                        {\"responsive\": true}                    ).then(function(){\n",
       "                            \n",
       "var gd = document.getElementById('29b98676-faf9-4df8-b7d8-48d8aa3f7b44');\n",
       "var x = new MutationObserver(function (mutations, observer) {{\n",
       "        var display = window.getComputedStyle(gd).display;\n",
       "        if (!display || display === 'none') {{\n",
       "            console.log([gd, 'removed!']);\n",
       "            Plotly.purge(gd);\n",
       "            observer.disconnect();\n",
       "        }}\n",
       "}});\n",
       "\n",
       "// Listen for the removal of the full notebook cells\n",
       "var notebookContainer = gd.closest('#notebook-container');\n",
       "if (notebookContainer) {{\n",
       "    x.observe(notebookContainer, {childList: true});\n",
       "}}\n",
       "\n",
       "// Listen for the clearing of the current output cell\n",
       "var outputEl = gd.closest('.output');\n",
       "if (outputEl) {{\n",
       "    x.observe(outputEl, {childList: true});\n",
       "}}\n",
       "\n",
       "                        })                };                });            </script>        </div>"
      ]
     },
     "metadata": {},
     "output_type": "display_data"
    }
   ],
   "execution_count": 88
  },
  {
   "metadata": {},
   "cell_type": "markdown",
   "source": [
    "### ToDo:\n",
    "- Get Cluster Names using LLM \n",
    "- Get Sub-Clusters using LLM\n",
    "- Get Aggregated Solutions for each Sub-Cluster / Cluster (tailored to roles)\n",
    "\n",
    "Alternative:\n",
    "- topic extraction\n",
    "- Cluster using topics\n",
    "- Get Solution for topics\n",
    "\n",
    "### Deliverables:\n",
    "- Static Analysis\n",
    "    - how many clusters are there\n",
    "    - which clusters have how many finding\n",
    "    - what is average/max severity\n",
    "- Recommendations for both Clusters and Subclusters, maybe even tailored to roles"
   ]
  },
  {
   "metadata": {},
   "cell_type": "code",
   "outputs": [],
   "execution_count": null,
   "source": ""
  }
 ],
 "metadata": {
  "kernelspec": {
   "display_name": "Python 3",
   "language": "python",
   "name": "python3"
  },
  "language_info": {
   "codemirror_mode": {
    "name": "ipython",
    "version": 3
   },
   "file_extension": ".py",
   "mimetype": "text/x-python",
   "name": "python",
   "nbconvert_exporter": "python",
   "pygments_lexer": "ipython3",
   "version": "3.8.5"
  }
 },
 "nbformat": 4,
 "nbformat_minor": 4
}
