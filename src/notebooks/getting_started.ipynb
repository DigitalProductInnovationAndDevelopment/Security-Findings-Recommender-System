{
 "cells": [
  {
   "cell_type": "code",
   "id": "3027aad445a8ca34",
   "metadata": {
    "jupyter": {
     "is_executing": true
    }
   },
   "source": [
    "%load_ext autoreload\n",
    "%autoreload 2"
   ],
   "outputs": [],
   "execution_count": null
  },
  {
   "cell_type": "code",
   "id": "857d764bfbe99f68",
   "metadata": {
    "ExecuteTime": {
     "end_time": "2024-06-12T13:14:59.618493Z",
     "start_time": "2024-06-12T13:14:58.335096Z"
    }
   },
   "source": [
    "import json\n",
    "import logging\n",
    "\n",
    "logging.basicConfig(level=logging.WARNING)\n",
    "\n",
    "from data.VulnerabilityReport import create_from_flama_json # this is the function that creates the VulnerabilityReport object from the json data\n",
    "from ai.LLM.LLMServiceStrategy import LLMServiceStrategy "
   ],
   "outputs": [],
   "execution_count": 1
  },
  {
   "cell_type": "code",
   "id": "f490c5d5b210be2b",
   "metadata": {
    "ExecuteTime": {
     "end_time": "2024-06-12T13:15:33.122298Z",
     "start_time": "2024-06-12T13:15:33.087531Z"
    }
   },
   "source": [
    "from pathlib import Path\n",
    "\n",
    "data_folder = Path('../../data/')\n",
    "# We need the json data, so we are loading it from the file\n",
    "with open(data_folder / Path('Dataset.json')) as f:\n",
    "    data = json.load(f)"
   ],
   "outputs": [],
   "execution_count": 3
  },
  {
   "metadata": {},
   "cell_type": "markdown",
   "source": [
    "# Choose your Strategy\n",
    "Right now, we support two strategies listed below.\n",
    "Execute the one you like more :)"
   ],
   "id": "133dc5fc298ba3d8"
  },
  {
   "metadata": {
    "ExecuteTime": {
     "end_time": "2024-06-12T13:15:36.209652Z",
     "start_time": "2024-06-12T13:15:36.207064Z"
    }
   },
   "cell_type": "code",
   "source": "my_strategy = None",
   "id": "948c9c57611defab",
   "outputs": [],
   "execution_count": 4
  },
  {
   "metadata": {},
   "cell_type": "markdown",
   "source": [
    "## Option 1) OpenAI - Remote\n",
    "Uses OpenAIs GPT-4o by default.\n",
    "\n",
    "Relatively cheap and quite good.\n"
   ],
   "id": "cbb43a8273ab2e09"
  },
  {
   "metadata": {},
   "cell_type": "code",
   "source": [
    "from ai.LLM.Stretegies.OpenAIService import OpenAIService\n",
    "\n",
    "my_strategy = OpenAIService()"
   ],
   "id": "a17be348b6b7294a",
   "outputs": [],
   "execution_count": null
  },
  {
   "metadata": {},
   "cell_type": "markdown",
   "source": [
    "## Option 2) Anthropic - Remote\n",
    "Uses Anthropics Claude 3 Opus by default.\n",
    "\n",
    "Almost perfect but quite expensive.\n"
   ],
   "id": "33ce7bb1fd20e336"
  },
  {
   "metadata": {},
   "cell_type": "code",
   "source": [
    "from ai.LLM.Stretegies.OpenAIService import OpenAIService\n",
    "\n",
    "my_strategy = OpenAIService()"
   ],
   "id": "901c5824178df8bb",
   "outputs": [],
   "execution_count": null
  },
  {
   "metadata": {},
   "cell_type": "markdown",
   "source": [
    "## Option 3) OLLAMA - Local\n",
    "Here, you can choose the model you want to use. If you don't know which one to choose, you can just leave it empty and the default model will be used. Available models can be found [here](https://ollama.com/library).\n",
    "\n",
    "The performance (both in time and quality) depends heavily on the model used."
   ],
   "id": "3357a17a826c90f7"
  },
  {
   "metadata": {
    "ExecuteTime": {
     "end_time": "2024-06-12T13:15:45.719428Z",
     "start_time": "2024-06-12T13:15:45.717410Z"
    }
   },
   "cell_type": "code",
   "source": [
    "from ai.LLM.Stretegies.OLLAMAService import OLLAMAService # this is the service that uses ollama to generate solution\n",
    "\n",
    "model_name=None # but can be anything from here https://ollama.com/library\n",
    "my_strategy = OLLAMAService(model_name=model_name)"
   ],
   "id": "845858d36a9b448d",
   "outputs": [],
   "execution_count": 5
  },
  {
   "metadata": {},
   "cell_type": "markdown",
   "source": [
    "# LLM Service\n",
    "This is the service that uses the strategy you chose. It is the top abstraction layer that will be used to generate solutions."
   ],
   "id": "b70749b293caeb08"
  },
  {
   "metadata": {
    "ExecuteTime": {
     "end_time": "2024-06-12T13:15:48.755600Z",
     "start_time": "2024-06-12T13:15:48.752514Z"
    }
   },
   "cell_type": "code",
   "source": "llm_service = LLMServiceStrategy(my_strategy)",
   "id": "9750ed3f60f2a320",
   "outputs": [],
   "execution_count": 6
  },
  {
   "metadata": {},
   "cell_type": "markdown",
   "source": [
    "# Data Setup\n",
    "We instance a vulnerability report object and add findings to it. We also sort the findings by severity.\n",
    "This object takes the LLM service and acts as main abstraction layer for the data.\n"
   ],
   "id": "b7f9f9f8d546dcbb"
  },
  {
   "cell_type": "code",
   "id": "926f7b0460c0f790",
   "metadata": {
    "ExecuteTime": {
     "end_time": "2024-06-12T13:15:51.314216Z",
     "start_time": "2024-06-12T13:15:51.307796Z"
    }
   },
   "source": [
    "n=5 # number of findings to import\n",
    "vulnerability_report = create_from_flama_json(data, n = n, llm_service=llm_service) # here, we create the VulnerabilityReport object, consisting of a list of Finding objects which each have Solution objects. We pass the llm_service to the VulnerabilityReport object, but this can also just be omitted, in which case it will be created in each Finding object.\n",
    "vulnerability_report.sort() # this will sort the findings by severity"
   ],
   "outputs": [
    {
     "data": {
      "text/plain": [
       "<data.VulnerabilityReport.VulnerabilityReport at 0x113654940>"
      ]
     },
     "execution_count": 7,
     "metadata": {},
     "output_type": "execute_result"
    }
   ],
   "execution_count": 7
  },
  {
   "cell_type": "markdown",
   "id": "c053459ec572c675",
   "metadata": {},
   "source": "# Lets get going with AI - 🚀🌕"
  },
  {
   "cell_type": "markdown",
   "id": "ecc63b904e7ad48",
   "metadata": {},
   "source": [
    "## First: We add categories to the Findings\n",
    "This will help us later to improve prompts (hopefully)"
   ]
  },
  {
   "cell_type": "code",
   "id": "14edeb4a26eeab5e",
   "metadata": {
    "ExecuteTime": {
     "end_time": "2024-06-12T13:15:57.463763Z",
     "start_time": "2024-06-12T13:15:52.849104Z"
    }
   },
   "source": [
    "vulnerability_report.add_category() # this will add categories to the findings"
   ],
   "outputs": [
    {
     "name": "stderr",
     "output_type": "stream",
     "text": [
      "100%|██████████| 5/5 [00:04<00:00,  1.09it/s]\n"
     ]
    },
    {
     "data": {
      "text/plain": [
       "<data.VulnerabilityReport.VulnerabilityReport at 0x113654940>"
      ]
     },
     "execution_count": 8,
     "metadata": {},
     "output_type": "execute_result"
    }
   ],
   "execution_count": 8
  },
  {
   "cell_type": "markdown",
   "id": "bef753bd813064d3",
   "metadata": {},
   "source": [
    "## Then we add solutions 🎉\n",
    "The function below adds long and short solutions to the findings. It also adds keywords for future research.\n",
    "\n",
    "For this function, we have multiple layers that may catch errors. So if you see a warning but no error afterwards, the waring was caught. Only if you see an error, data wasn't generated correctly."
   ]
  },
  {
   "cell_type": "code",
   "id": "d51599fff12405ff",
   "metadata": {
    "ExecuteTime": {
     "end_time": "2024-06-12T13:16:46.914954Z",
     "start_time": "2024-06-12T13:15:57.465435Z"
    }
   },
   "source": [
    "vulnerability_report.add_solution(long=True, short=True, search_term=True) # this will add solutions to the findings"
   ],
   "outputs": [
    {
     "name": "stderr",
     "output_type": "stream",
     "text": [
      "100%|██████████| 5/5 [00:49<00:00,  9.89s/it]\n"
     ]
    },
    {
     "data": {
      "text/plain": [
       "<data.VulnerabilityReport.VulnerabilityReport at 0x113654940>"
      ]
     },
     "execution_count": 9,
     "metadata": {},
     "output_type": "execute_result"
    }
   ],
   "execution_count": 9
  },
  {
   "metadata": {},
   "cell_type": "markdown",
   "source": [
    "# Last but not least: Results\n",
    "We save and display results in the coming cells."
   ],
   "id": "a4ce1d49107d0bab"
  },
  {
   "metadata": {
    "ExecuteTime": {
     "end_time": "2024-06-12T13:16:46.920316Z",
     "start_time": "2024-06-12T13:16:46.916307Z"
    }
   },
   "cell_type": "code",
   "source": [
    "with open(data_folder / Path(f'VulnerabilityReport_{n if n !=-1 else \"all\"}_' + my_strategy.get_model_name().replace(\":\",\"_\") +'.json'), 'w') as f:\n",
    "    f.write(str(json.dumps(vulnerability_report.to_dict())))"
   ],
   "id": "73d0454da9633cc0",
   "outputs": [],
   "execution_count": 10
  },
  {
   "cell_type": "code",
   "id": "c827dd06",
   "metadata": {
    "ExecuteTime": {
     "end_time": "2024-06-12T13:16:46.925690Z",
     "start_time": "2024-06-12T13:16:46.921115Z"
    }
   },
   "source": [
    "from IPython.display import HTML, Markdown\n",
    "Markdown(vulnerability_report.to_html(table=True))\n"
   ],
   "outputs": [
    {
     "data": {
      "text/plain": [
       "<IPython.core.display.Markdown object>"
      ],
      "text/markdown": "<h3>CVE-2019-19449</h3><table><tr><th>Name</th><th>Value</th></tr><tr><td>Title</td><td>kernel: mounting a crafted f2fs filesystem image can lead to slab-out-of-bounds read access in f2fs_build_segment_manager in fs/f2fs/segment.c</td></tr><tr><td>Source</td><td>Trivy</td></tr><tr><td>Description</td><td>In the Linux kernel 5.0.21, mounting a crafted f2fs filesystem image can lead to slab-out-of-bounds read access in f2fs_build_segment_manager in fs/f2fs/segment.c, related to init_min_max_mtime in fs/f2fs/segment.c (because the second argument to get_seg_entry is not validated).</td></tr><tr><td>Location List</td><td>linux-libc-dev:, </td></tr><tr><td>CWE IDs</td><td>CWE-125</td></tr><tr><td>CVE IDs</td><td>CVE-2019-19449</td></tr><tr><td>Severity</td><td>80</td></tr><tr><td>Priority</td><td>80</td></tr><tr><td>Category</td><td>SYSTEM</td></tr></table><h3>Solution</h3><h4>Short Description</h4> <p>Update the Linux kernel to a version that addresses the issue (CVE-2019-19449) or apply the patch provided by the kernel developers.</p><h4>Long Description</h4><p>Comprehensive Step-by-Step Solution for Updating the Linux Kernel</p><h4>Search Terms</h4> <p>kernel f2fs security vulnerability; f2fs filesystem image mount exploit; slab-out-of-bounds read access f2fs_build_segment_manager; fs/f2fs/segment.c init_min_max_mtime; unvalidated get_seg_entry argument; CVE-2019-19449; CWE-125; Linux kernel 5.0.21 update; patch for kernel developers</p><h3>CVE-2023-3772</h3><table><tr><th>Name</th><th>Value</th></tr><tr><td>Title</td><td>NULL pointer dereference in xfrm_update_ae_params()</td></tr><tr><td>Source</td><td>Trivy</td></tr><tr><td>Description</td><td>A flaw was found in the Linux kernel’s IP framework for transforming packets (XFRM subsystem). This issue may allow a malicious user with CAP_NET_ADMIN privileges to directly dereference a NULL pointer in xfrm_update_ae_params(), leading to a possible kernel crash and denial of service.</td></tr><tr><td>Location List</td><td>linux-libc-dev:, </td></tr><tr><td>CWE IDs</td><td>CWE-476</td></tr><tr><td>CVE IDs</td><td>CVE-2023-3772</td></tr><tr><td>Severity</td><td>60</td></tr><tr><td>Priority</td><td>60</td></tr><tr><td>Category</td><td>SYSTEM</td></tr></table><h3>Solution</h3><h4>Short Description</h4> <p>Upgrade to a vulnerable version of the Linux kernel or apply the patch provided by the vendor, as specified in the CVE-2023-3772 advisory.</p><h4>Long Description</h4><p>Comprehensive Solution for Upgrading to a Vulnerable Version of the Linux Kernel or Applying the Patch</p><h4>Search Terms</h4> <p>Linux kernel xfrm_update_ae_params NULL pointer dereference; Trivy vulnerability report; CWE-476; CVE-2023-3772; IP packet transformation security flaw; kernel crash denial of service; CAP_NET_ADMIN privilege escalation; Linux kernel upgrade patch application; kernel vulnerability mitigation strategies; secure network protocols</p><h3>CVE-2023-0216</h3><table><tr><th>Name</th><th>Value</th></tr><tr><td>Title</td><td>An invalid pointer dereference on read can be triggered when an applic ..., [openssl: Invalid pointer dereference in d2i_PKCS7 functions]</td></tr><tr><td>Source</td><td>Trivy</td></tr><tr><td>Description</td><td>An invalid pointer dereference on read can be triggered when an application tries to load malformed PKCS7 data with the d2i_PKCS7(), d2i_PKCS7_bio() or d2i_PKCS7_fp() functions. The result of the dereference is an application crash which could lead to a denial of service attack. The TLS implementation in OpenSSL does not call this function however third party applications might call these functions on untrusted data., Invalid pointer dereference in d2i_PKCS7 functions</td></tr><tr><td>Location List</td><td>libcrypto3:,  & libssl3:, </td></tr><tr><td>CWE IDs</td><td></td></tr><tr><td>CVE IDs</td><td>CVE-2023-0216</td></tr><tr><td>Severity</td><td>60</td></tr><tr><td>Priority</td><td>60</td></tr><tr><td>Category</td><td>CODE</td></tr></table><h3>Solution</h3><h4>Short Description</h4> <p>Upgrade OpenSSL to the latest version that includes the fix for CVE-2023-0216.</p><h4>Long Description</h4><p>Comprehensive Step-by-Step Solution</p><h4>Search Terms</h4> <p>openssl invalid pointer dereference; d2i_PKCS7 functions; PKCS7 data; malformed data; denial of service attack; application crash; untrusted data; third party applications; TLS implementation; CVE-2023-0216</p><h3>CVE-2023-27534</h3><table><tr><th>Name</th><th>Value</th></tr><tr><td>Title</td><td>[SFTP path ~ resolving discrepancy], curl: SFTP path ~ resolving discrepancy</td></tr><tr><td>Source</td><td>Trivy</td></tr><tr><td>Description</td><td>No description is available for this CVE., SFTP path ~ resolving discrepancy</td></tr><tr><td>Location List</td><td>curl:,  & libcurl:, </td></tr><tr><td>CWE IDs</td><td></td></tr><tr><td>CVE IDs</td><td>CVE-2023-27534</td></tr><tr><td>Severity</td><td>30</td></tr><tr><td>Priority</td><td>30</td></tr><tr><td>Category</td><td>PROGRAM</td></tr></table><h3>Solution</h3><h4>Short Description</h4> <p>Update the 'libcurl' library to a version that addresses the CVE-2023-27534 vulnerability.</p><h4>Long Description</h4><p>**Updating libcurl to address CVE-2023-27534 vulnerability**</p><h4>Search Terms</h4> <p>SFTP path resolution; SFTP path discrepancy; curl SFTP path; libcurl update; CVE-2023-27534; security vulnerability; programming library; software update; SFTP protocol; secure file transfer; path traversal; remote code execution; cybersecurity research</p><h3>CVE-2022-48303</h3><table><tr><th>Name</th><th>Value</th></tr><tr><td>Title</td><td>heap buffer overflow at from_header() in list.c via specially crafted checksum</td></tr><tr><td>Source</td><td>Trivy</td></tr><tr><td>Description</td><td>GNU Tar through 1.34 has a one-byte out-of-bounds read that results in use of uninitialized memory for a conditional jump. Exploitation to change the flow of control has not been demonstrated. The issue occurs in from_header in list.c via a V7 archive in which mtime has approximately 11 whitespace characters.</td></tr><tr><td>Location List</td><td>tar:, </td></tr><tr><td>CWE IDs</td><td>CWE-125</td></tr><tr><td>CVE IDs</td><td>CVE-2022-48303</td></tr><tr><td>Severity</td><td>30</td></tr><tr><td>Priority</td><td>30</td></tr><tr><td>Category</td><td>CODE</td></tr></table><h3>Solution</h3><h4>Short Description</h4> <p>Update GNU Tar to version 1.35 or later, which addresses this vulnerability.</p><h4>Long Description</h4><p>Update GNU Tar to version 1.35 or later, which addresses this vulnerability.</p><h4>Search Terms</h4> <p>heap buffer overflow; from_header() in list.c; specially crafted checksum; GNU Tar; CVE-2022-48303; CWE-125; tar vulnerability; out-of-bounds read; uninitialized memory; conditional jump; V7 archive; mtime; whitespace characters</p>"
     },
     "execution_count": 11,
     "metadata": {},
     "output_type": "execute_result"
    }
   ],
   "execution_count": 11
  },
  {
   "metadata": {
    "ExecuteTime": {
     "end_time": "2024-06-12T13:16:46.931142Z",
     "start_time": "2024-06-12T13:16:46.927753Z"
    }
   },
   "cell_type": "code",
   "source": "HTML(str(vulnerability_report).replace('\\n', '<br />'))\n",
   "id": "496eb3b60477c4b4",
   "outputs": [
    {
     "data": {
      "text/plain": [
       "<IPython.core.display.HTML object>"
      ],
      "text/html": [
       "-------    Finding    -------<br />Title: kernel: mounting a crafted f2fs filesystem image can lead to slab-out-of-bounds read access in f2fs_build_segment_manager in fs/f2fs/segment.c<br />Source: Trivy<br />Description: In the Linux kernel 5.0.21, mounting a crafted f2fs filesystem image can lead to slab-out-of-bounds read access in f2fs_build_segment_manager in fs/f2fs/segment.c, related to init_min_max_mtime in fs/f2fs/segment.c (because the second argument to get_seg_entry is not validated).<br />Location List:<br />  - linux-libc-dev:, <br />CWE IDs: CWE-125<br />CVE IDs: CVE-2019-19449<br />Severity: 80<br />Priority: 80<br />Category: SYSTEM<br />-------    Solution    -------<br />Short Description: Update the Linux kernel to a version that addresses the issue (CVE-2019-19449) or apply the patch provided by the kernel developers.<br />Long Description: Comprehensive Step-by-Step Solution for Updating the Linux Kernel<br />Search Terms: kernel f2fs security vulnerability; f2fs filesystem image mount exploit; slab-out-of-bounds read access f2fs_build_segment_manager; fs/f2fs/segment.c init_min_max_mtime; unvalidated get_seg_entry argument; CVE-2019-19449; CWE-125; Linux kernel 5.0.21 update; patch for kernel developers<br /><br /><br />-------    Finding    -------<br />Title: NULL pointer dereference in xfrm_update_ae_params()<br />Source: Trivy<br />Description: A flaw was found in the Linux kernel’s IP framework for transforming packets (XFRM subsystem). This issue may allow a malicious user with CAP_NET_ADMIN privileges to directly dereference a NULL pointer in xfrm_update_ae_params(), leading to a possible kernel crash and denial of service.<br />Location List:<br />  - linux-libc-dev:, <br />CWE IDs: CWE-476<br />CVE IDs: CVE-2023-3772<br />Severity: 60<br />Priority: 60<br />Category: SYSTEM<br />-------    Solution    -------<br />Short Description: Upgrade to a vulnerable version of the Linux kernel or apply the patch provided by the vendor, as specified in the CVE-2023-3772 advisory.<br />Long Description: Comprehensive Solution for Upgrading to a Vulnerable Version of the Linux Kernel or Applying the Patch<br />Search Terms: Linux kernel xfrm_update_ae_params NULL pointer dereference; Trivy vulnerability report; CWE-476; CVE-2023-3772; IP packet transformation security flaw; kernel crash denial of service; CAP_NET_ADMIN privilege escalation; Linux kernel upgrade patch application; kernel vulnerability mitigation strategies; secure network protocols<br /><br /><br />-------    Finding    -------<br />Title: An invalid pointer dereference on read can be triggered when an applic ..., [openssl: Invalid pointer dereference in d2i_PKCS7 functions]<br />Source: Trivy<br />Description: An invalid pointer dereference on read can be triggered when an application tries to load malformed PKCS7 data with the d2i_PKCS7(), d2i_PKCS7_bio() or d2i_PKCS7_fp() functions. The result of the dereference is an application crash which could lead to a denial of service attack. The TLS implementation in OpenSSL does not call this function however third party applications might call these functions on untrusted data., Invalid pointer dereference in d2i_PKCS7 functions<br />Location List:<br />  - libcrypto3:, <br />  - libssl3:, <br />CVE IDs: CVE-2023-0216<br />Severity: 60<br />Priority: 60<br />Category: CODE<br />-------    Solution    -------<br />Short Description: Upgrade OpenSSL to the latest version that includes the fix for CVE-2023-0216.<br />Long Description: Comprehensive Step-by-Step Solution<br />Search Terms: openssl invalid pointer dereference; d2i_PKCS7 functions; PKCS7 data; malformed data; denial of service attack; application crash; untrusted data; third party applications; TLS implementation; CVE-2023-0216<br /><br /><br />-------    Finding    -------<br />Title: [SFTP path ~ resolving discrepancy], curl: SFTP path ~ resolving discrepancy<br />Source: Trivy<br />Description: No description is available for this CVE., SFTP path ~ resolving discrepancy<br />Location List:<br />  - curl:, <br />  - libcurl:, <br />CVE IDs: CVE-2023-27534<br />Severity: 30<br />Priority: 30<br />Category: PROGRAM<br />-------    Solution    -------<br />Short Description: Update the 'libcurl' library to a version that addresses the CVE-2023-27534 vulnerability.<br />Long Description: **Updating libcurl to address CVE-2023-27534 vulnerability**<br />Search Terms: SFTP path resolution; SFTP path discrepancy; curl SFTP path; libcurl update; CVE-2023-27534; security vulnerability; programming library; software update; SFTP protocol; secure file transfer; path traversal; remote code execution; cybersecurity research<br /><br /><br />-------    Finding    -------<br />Title: heap buffer overflow at from_header() in list.c via specially crafted checksum<br />Source: Trivy<br />Description: GNU Tar through 1.34 has a one-byte out-of-bounds read that results in use of uninitialized memory for a conditional jump. Exploitation to change the flow of control has not been demonstrated. The issue occurs in from_header in list.c via a V7 archive in which mtime has approximately 11 whitespace characters.<br />Location List:<br />  - tar:, <br />CWE IDs: CWE-125<br />CVE IDs: CVE-2022-48303<br />Severity: 30<br />Priority: 30<br />Category: CODE<br />-------    Solution    -------<br />Short Description: Update GNU Tar to version 1.35 or later, which addresses this vulnerability.<br />Long Description: Update GNU Tar to version 1.35 or later, which addresses this vulnerability.<br />Search Terms: heap buffer overflow; from_header() in list.c; specially crafted checksum; GNU Tar; CVE-2022-48303; CWE-125; tar vulnerability; out-of-bounds read; uninitialized memory; conditional jump; V7 archive; mtime; whitespace characters<br />"
      ]
     },
     "execution_count": 12,
     "metadata": {},
     "output_type": "execute_result"
    }
   ],
   "execution_count": 12
  },
  {
   "metadata": {},
   "cell_type": "code",
   "outputs": [],
   "execution_count": null,
   "source": "",
   "id": "c1a753a332bd90d7"
  }
 ],
 "metadata": {
  "kernelspec": {
   "display_name": "Python 3 (ipykernel)",
   "language": "python",
   "name": "python3"
  },
  "language_info": {
   "codemirror_mode": {
    "name": "ipython",
    "version": 3
   },
   "file_extension": ".py",
   "mimetype": "text/x-python",
   "name": "python",
   "nbconvert_exporter": "python",
   "pygments_lexer": "ipython3",
   "version": "3.10.8"
  }
 },
 "nbformat": 4,
 "nbformat_minor": 5
}
